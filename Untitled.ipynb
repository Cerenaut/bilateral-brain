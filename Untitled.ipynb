{
 "cells": [
  {
   "cell_type": "markdown",
   "id": "4b1c6a93",
   "metadata": {},
   "source": [
    "# the code below is from resnet9 v0"
   ]
  },
  {
   "cell_type": "code",
   "execution_count": 1,
   "id": "03b6ccea",
   "metadata": {},
   "outputs": [
    {
     "name": "stderr",
     "output_type": "stream",
     "text": [
      "/home/yanfeng/miniconda3/envs/bilateral/lib/python3.9/site-packages/tqdm/auto.py:22: TqdmWarning: IProgress not found. Please update jupyter and ipywidgets. See https://ipywidgets.readthedocs.io/en/stable/user_install.html\n",
      "  from .autonotebook import tqdm as notebook_tqdm\n"
     ]
    }
   ],
   "source": [
    "import torch\n",
    "import torch.nn as nn\n",
    "import torch.nn.functional as F\n",
    "\n",
    "import math\n",
    "import numpy as np\n",
    "from argparse import Namespace"
   ]
  },
  {
   "cell_type": "code",
   "execution_count": null,
   "id": "abb6510f",
   "metadata": {},
   "outputs": [],
   "source": [
    "生成一个list,然后list的长度和层数一样"
   ]
  },
  {
   "cell_type": "code",
   "execution_count": null,
   "id": "d6d47c2b",
   "metadata": {},
   "outputs": [],
   "source": [
    "8个k"
   ]
  },
  {
   "cell_type": "code",
   "execution_count": 9,
   "id": "2e4d9fdc",
   "metadata": {},
   "outputs": [],
   "source": [
    "a=[1,2,3,4,5,6,7,8]"
   ]
  },
  {
   "cell_type": "code",
   "execution_count": 10,
   "id": "dcbcc094",
   "metadata": {},
   "outputs": [
    {
     "data": {
      "text/plain": [
       "1"
      ]
     },
     "execution_count": 10,
     "metadata": {},
     "output_type": "execute_result"
    }
   ],
   "source": [
    "a[0]"
   ]
  },
  {
   "cell_type": "code",
   "execution_count": 2,
   "id": "589fbc48",
   "metadata": {},
   "outputs": [],
   "source": [
    "class ResNet9(nn.Module):\n",
    "    def __init__(self,\n",
    "                    mode='feature',\n",
    "                    k=None, \n",
    "                    k_percent=None, \n",
    "                    act_fn=nn.ReLU):\n",
    "        super().__init__()\n",
    "        self.k = k\n",
    "        self.k_percent = k_percent\n",
    "        k = None\n",
    "        k_percent = None\n",
    "        self.conv1 = conv_block(3, 64, k=self.k,         \n",
    "                                        k_percent=self.k_percent, act_fn=act_fn)\n",
    "        self.conv2 = conv_block(64, 128, k=self.k,         \n",
    "                                k_percent=self.k_percent, act_fn=act_fn, pool=True)\n",
    "        self.res1 = nn.Sequential(conv_block(128, 128, k=self.k,         \n",
    "                                        k_percent=self.k_percent, act_fn=act_fn),\n",
    "                                    conv_block(128, 128, k=self.k,         \n",
    "                                        k_percent=self.k_percent, act_fn=act_fn))\n",
    "        \n",
    "        self.conv3 = conv_block(128, 256, k=self.k,         \n",
    "                                k_percent=self.k_percent, act_fn=act_fn, pool=True)\n",
    "        self.conv4 = conv_block(256, 512, k=self.k,         \n",
    "                                k_percent=self.k_percent, act_fn=act_fn, pool=True)\n",
    "        self.res2 = nn.Sequential(conv_block(512, 512, k=self.k,         \n",
    "                                        k_percent=self.k_percent, act_fn=act_fn),\n",
    "                                    conv_block(512, 512, k=self.k,         \n",
    "                                        k_percent=self.k_percent, act_fn=act_fn))\n",
    "        if k is not None and k_percent is not None:\n",
    "            sparse_mlp = SparseMLP(k, k_percent)\n",
    "        else:\n",
    "            sparse_mlp = nn.Identity()\n",
    "        self.avg_pool = nn.MaxPool2d(4)\n",
    "        # modules  = [nn.AvgPool2d(4),\n",
    "        #             nn.Flatten(),]\n",
    "        modules  = [nn.Flatten(),]\n",
    "        self.mode = mode\n",
    "        if self.mode not in check_list():\n",
    "            raise Exception('Mode of training does not match')\n",
    "        if self.mode == 'narrow':\n",
    "            modules.append(nn.Linear(in_features=512, out_features=100, bias=True))\n",
    "            # modules.append(sparse_mlp) # sparsity\n",
    "            self.fc = nn.Sequential(*modules)\n",
    "        elif self.mode == 'broad':\n",
    "            modules.append(nn.Linear(in_features=512, out_features=20, bias=True))\n",
    "            # modules.append(sparse_mlp)\n",
    "            self.fc = nn.Sequential(*modules)\n",
    "        elif self.mode == 'both':\n",
    "            cmodules = modules.copy()\n",
    "            modules.append(nn.Linear(in_features=512, out_features=100, bias=True))\n",
    "            modules.append(sparse_mlp)\n",
    "            self.ffc = nn.Sequential(*modules)\n",
    "            cmodules.append(nn.Linear(in_features=512, out_features=20, bias=True))\n",
    "            cmodules.append(sparse_mlp)\n",
    "            self.cfc = nn.Sequential(*cmodules)\n",
    "        elif self.mode == 'feature':\n",
    "            self.fc = nn.Sequential(*modules)\n",
    "        \n",
    "    def forward(self, xb):\n",
    "        out = self.conv1(xb)\n",
    "        out = self.conv2(out)\n",
    "        out = self.res1(out) + out\n",
    "        out = self.conv3(out)\n",
    "        out = self.conv4(out)\n",
    "        out = self.res2(out) + out\n",
    "        out = self.avg_pool(out)\n",
    "        if self.mode == 'narrow' or self.mode == 'broad':\n",
    "            return self.fc(out)\n",
    "        elif self.mode == 'both':\n",
    "            return self.ffc(out), self.cfc(out)\n",
    "        elif self.mode =='feature':\n",
    "            out = self.fc(out)\n",
    "            return out\n",
    "\n",
    "\n",
    "class InvertedResNet9(nn.Module):\n",
    "    def __init__(self, \n",
    "                    mode='feature',\n",
    "                    k=None, \n",
    "                    k_percent=None,    \n",
    "                    act_fn=nn.ReLU,):\n",
    "        super().__init__()\n",
    "        self.k = k\n",
    "        self.k_percent = k_percent\n",
    "        k = None\n",
    "        k_percent = None\n",
    "        self.conv1 = conv_block(3, 512, k=self.k,         \n",
    "                                        k_percent=self.k_percent, act_fn=act_fn)\n",
    "        self.conv2 = conv_block(512, 256, k=self.k,         \n",
    "                                k_percent=self.k_percent, act_fn=act_fn, pool=True)\n",
    "        self.res1 = nn.Sequential(conv_block(256, 256, k=self.k,         \n",
    "                                        k_percent=self.k_percent, act_fn=act_fn),\n",
    "                                    conv_block(256, 256, k=self.k,         \n",
    "                                        k_percent=self.k_percent, act_fn=act_fn))\n",
    "        \n",
    "        self.conv3 = conv_block(256, 128, k=self.k,         \n",
    "                                k_percent=self.k_percent, act_fn=act_fn, pool=True)\n",
    "        self.conv4 = conv_block(128, 64, k=self.k,         \n",
    "                                k_percent=self.k_percent, act_fn=act_fn, pool=True)\n",
    "        self.res2 = nn.Sequential(conv_block(64, 64, k=self.k,         \n",
    "                                        k_percent=self.k_percent, act_fn=act_fn),\n",
    "                                    conv_block(64, 64, k=self.k,         \n",
    "                                        k_percent=self.k_percent, act_fn=act_fn))\n",
    "        if k is not None and k_percent is not None:\n",
    "            sparse_mlp = SparseMLP(k, k_percent)\n",
    "        else:\n",
    "            sparse_mlp = nn.Identity()\n",
    "        modules  = [nn.AvgPool2d(4), \n",
    "                    nn.Flatten(),]\n",
    "        self.mode = mode\n",
    "        if self.mode not in check_list():\n",
    "            raise Exception('Mode of training does not match')\n",
    "        if self.mode == 'narrow':\n",
    "            modules.append(sparse_mlp)\n",
    "            modules.append(nn.Linear(in_features=64, out_features=100, bias=True))\n",
    "            self.fc = nn.Sequential(*modules)\n",
    "        elif self.mode == 'broad':\n",
    "            modules.append(nn.Linear(in_features=64, out_features=20, bias=True))\n",
    "            modules.append(sparse_mlp)\n",
    "            self.fc = nn.Sequential(*modules)\n",
    "        elif self.mode == 'both':\n",
    "            cmodules = modules.copy()\n",
    "            modules.append(nn.Linear(in_features=64, out_features=100, bias=True))\n",
    "            modules.append(sparse_mlp)\n",
    "            self.ffc = nn.Sequential(*modules)\n",
    "            cmodules.append(nn.Linear(in_features=64, out_features=100, bias=True))\n",
    "            cmodules.append(sparse_mlp)\n",
    "            self.cfc = nn.Sequential(*cmodules)\n",
    "        elif self.mode == 'feature':\n",
    "            self.fc = nn.Sequential(*modules)\n",
    "        \n",
    "    def forward(self, xb):\n",
    "        out = self.conv1(xb)\n",
    "        out = self.conv2(out)\n",
    "        out = self.res1(out) + out\n",
    "        out = self.conv3(out)\n",
    "        out = self.conv4(out)\n",
    "        out = self.res2(out) + out\n",
    "        if self.mode == 'narrow' or self.mode == 'broad':\n",
    "            return self.fc(out)\n",
    "        elif self.mode == 'both':\n",
    "            return self.ffc(out), self.cfc(out)\n",
    "        elif self.mode =='feature':\n",
    "            out = self.fc(out)\n",
    "            return out"
   ]
  },
  {
   "cell_type": "code",
   "execution_count": null,
   "id": "05b94a8d",
   "metadata": {},
   "outputs": [],
   "source": []
  }
 ],
 "metadata": {
  "kernelspec": {
   "display_name": "Python 3",
   "language": "python",
   "name": "python3"
  },
  "language_info": {
   "codemirror_mode": {
    "name": "ipython",
    "version": 3
   },
   "file_extension": ".py",
   "mimetype": "text/x-python",
   "name": "python",
   "nbconvert_exporter": "python",
   "pygments_lexer": "ipython3",
   "version": "3.9.16"
  }
 },
 "nbformat": 4,
 "nbformat_minor": 5
}
