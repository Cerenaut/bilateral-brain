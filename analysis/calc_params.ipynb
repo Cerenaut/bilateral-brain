{
 "cells": [
  {
   "cell_type": "code",
   "execution_count": 2,
   "metadata": {},
   "outputs": [],
   "source": [
    "import torch\n",
    "import pandas as pd\n",
    "from IPython.display import display, HTML\n",
    "# df = pd.DataFrame(columns = [\"model\", \"param\"])\n",
    "df = pd.read_csv(\"./param_weights.csv\")"
   ]
  },
  {
   "cell_type": "code",
   "execution_count": 3,
   "metadata": {},
   "outputs": [
    {
     "name": "stdout",
     "output_type": "stream",
     "text": [
      "Number of parameters : 9.47 M\n"
     ]
    },
    {
     "data": {
      "text/html": [
       "<div>\n",
       "<style scoped>\n",
       "    .dataframe tbody tr th:only-of-type {\n",
       "        vertical-align: middle;\n",
       "    }\n",
       "\n",
       "    .dataframe tbody tr th {\n",
       "        vertical-align: top;\n",
       "    }\n",
       "\n",
       "    .dataframe thead th {\n",
       "        text-align: right;\n",
       "    }\n",
       "</style>\n",
       "<table border=\"1\" class=\"dataframe\">\n",
       "  <thead>\n",
       "    <tr style=\"text-align: right;\">\n",
       "      <th></th>\n",
       "      <th>model</th>\n",
       "      <th>param</th>\n",
       "    </tr>\n",
       "  </thead>\n",
       "  <tbody>\n",
       "    <tr>\n",
       "      <th>0</th>\n",
       "      <td>bicameral</td>\n",
       "      <td>13.334016 M</td>\n",
       "    </tr>\n",
       "    <tr>\n",
       "      <th>1</th>\n",
       "      <td>narrow</td>\n",
       "      <td>6.626028 M</td>\n",
       "    </tr>\n",
       "    <tr>\n",
       "      <th>2</th>\n",
       "      <td>broad</td>\n",
       "      <td>6.584988 M</td>\n",
       "    </tr>\n",
       "    <tr>\n",
       "      <th>3</th>\n",
       "      <td>broad_feat</td>\n",
       "      <td>6.574728 M</td>\n",
       "    </tr>\n",
       "    <tr>\n",
       "      <th>4</th>\n",
       "      <td>narrow_feat</td>\n",
       "      <td>6.574728 M</td>\n",
       "    </tr>\n",
       "    <tr>\n",
       "      <th>5</th>\n",
       "      <td>combiner</td>\n",
       "      <td>61.56 K</td>\n",
       "    </tr>\n",
       "    <tr>\n",
       "      <th>6</th>\n",
       "      <td>narrow_pyramid</td>\n",
       "      <td>2.829996 M</td>\n",
       "    </tr>\n",
       "    <tr>\n",
       "      <th>7</th>\n",
       "      <td>bicameral_hybrid_combiner</td>\n",
       "      <td>57.7 K</td>\n",
       "    </tr>\n",
       "    <tr>\n",
       "      <th>8</th>\n",
       "      <td>resnet18_unicameral</td>\n",
       "      <td>11.240012 M</td>\n",
       "    </tr>\n",
       "    <tr>\n",
       "      <th>9</th>\n",
       "      <td>resnet34_unicameral</td>\n",
       "      <td>21.355612 M</td>\n",
       "    </tr>\n",
       "    <tr>\n",
       "      <th>10</th>\n",
       "      <td>bicameral_ra</td>\n",
       "      <td>9.467464 M</td>\n",
       "    </tr>\n",
       "  </tbody>\n",
       "</table>\n",
       "</div>"
      ],
      "text/plain": [
       "                        model        param\n",
       "0                   bicameral  13.334016 M\n",
       "1                      narrow   6.626028 M\n",
       "2                       broad   6.584988 M\n",
       "3                  broad_feat   6.574728 M\n",
       "4                 narrow_feat   6.574728 M\n",
       "5                    combiner      61.56 K\n",
       "6              narrow_pyramid   2.829996 M\n",
       "7   bicameral_hybrid_combiner       57.7 K\n",
       "8         resnet18_unicameral  11.240012 M\n",
       "9         resnet34_unicameral  21.355612 M\n",
       "10               bicameral_ra   9.467464 M"
      ]
     },
     "metadata": {},
     "output_type": "display_data"
    }
   ],
   "source": [
    "index = 10\n",
    "mode = \"M\"\n",
    "ckpt_path = \"/home/chandramouli/kaggle/cerenaut/hemispheres/logs/hemisphere-hybrid/hemisphere-pyr-narr-invpyr-broad-seed0/layer=only1|lr=0.0001|/checkpoints/last.ckpt\"\n",
    "sdict = torch.load(ckpt_path)['state_dict']\n",
    "model_dict = sdict\n",
    "# model_dict = {k:v for k,v in sdict.items() if 'fc' in k}\n",
    "param_div = 1e3 if mode == \"K\" else 1e6\n",
    "params = sum(p.numel() for p in model_dict.values())/ param_div\n",
    "print(f\"Number of parameters : {params:.2f} {mode}\")\n",
    "df.loc[index] = [\"bicameral_ra\", f\"{params} {mode}\"]\n",
    "display(df)\n"
   ]
  },
  {
   "cell_type": "code",
   "execution_count": 40,
   "metadata": {},
   "outputs": [],
   "source": [
    "df.to_csv(\"./param_weights.csv\", index=False)"
   ]
  }
 ],
 "metadata": {
  "interpreter": {
   "hash": "b1935e454b235ddbff1ec81c0241a5702b942683ebb78a1ee5f8ffe0f78241bb"
  },
  "kernelspec": {
   "display_name": "Python 3.8.12 ('pytorch_p38')",
   "language": "python",
   "name": "python3"
  },
  "language_info": {
   "codemirror_mode": {
    "name": "ipython",
    "version": 3
   },
   "file_extension": ".py",
   "mimetype": "text/x-python",
   "name": "python",
   "nbconvert_exporter": "python",
   "pygments_lexer": "ipython3",
   "version": "3.8.13"
  },
  "orig_nbformat": 4
 },
 "nbformat": 4,
 "nbformat_minor": 2
}
