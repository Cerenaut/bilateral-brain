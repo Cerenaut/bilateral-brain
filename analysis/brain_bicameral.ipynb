{
 "cells": [
  {
   "cell_type": "code",
   "execution_count": 26,
   "metadata": {},
   "outputs": [],
   "source": [
    "import plotly.graph_objects as go\n",
    "import numpy as np\n",
    "import networkx as nx\n",
    "import random\n",
    "import itertools"
   ]
  },
  {
   "cell_type": "code",
   "execution_count": 96,
   "metadata": {},
   "outputs": [],
   "source": [
    "G = nx.random_geometric_graph(100, 0.2)"
   ]
  },
  {
   "cell_type": "code",
   "execution_count": 2,
   "metadata": {},
   "outputs": [],
   "source": [
    "\n",
    "# fig_title = 'Long Inter-regional Pathways'\n",
    "fig_title = 'Short Local Pathways'\n"
   ]
  },
  {
   "cell_type": "code",
   "execution_count": 29,
   "metadata": {},
   "outputs": [],
   "source": [
    "G = nx.Graph()\n",
    "layers = []\n",
    "# fig_title = 'Different Layer Widths'\n",
    "reverse = False\n",
    "\n",
    "node_numbers = [20, 25, 35, 30, 40]\n",
    "x_values = [0.3, 0.2, 0.15, 0.1, 0.0]\n",
    "x_width_values = [0.4, 0.6, 0.7, 0.8, 1.0]\n",
    "y_values = [0.8, 0.6, 0.4, 0.2, 0.0]\n",
    "start, end = 1, 1\n",
    "\n",
    "if reverse:\n",
    "    node_numbers.reverse()\n",
    "    x_values.reverse()\n",
    "    x_width_values.reverse()\n",
    "\n",
    "for (node_number, x, y, x_w) in list(zip(node_numbers, x_values, y_values, x_width_values)):\n",
    "    end = end + node_number\n",
    "    # start, end = 1, node_number+1\n",
    "    x_node = x+x_w*np.random.random_sample(node_number)\n",
    "    y_node = y+0.1*np.random.random_sample(node_number)\n",
    "    for i, x_s, y_s in list(zip(np.arange(start, end), x_node, y_node)):\n",
    "        G.add_node(i, pos=(x_s, y_s))\n",
    "    layers.append(np.arange(start, end))\n",
    "    start = end"
   ]
  },
  {
   "cell_type": "code",
   "execution_count": 30,
   "metadata": {},
   "outputs": [],
   "source": [
    "import random\n",
    "for ind in range(len(layers)-1):\n",
    "    list_1 = layers[ind]\n",
    "    list_2 = layers[ind+1]\n",
    "    combinations = random.sample(set(itertools.product(list_1,list_2)), len(list_2))\n",
    "    G.add_edges_from(combinations)\n",
    "for ind in range(len(layers)):\n",
    "    list_1 = layers[ind]\n",
    "    combinations = random.sample(set(itertools.product(list_1,list_1)), np.random.randint(10,len(list_1)))\n",
    "    G.add_edges_from(combinations)"
   ]
  },
  {
   "cell_type": "code",
   "execution_count": 110,
   "metadata": {},
   "outputs": [
    {
     "name": "stdout",
     "output_type": "stream",
     "text": [
      "80\n",
      "[(71, 85), (71, 26), (71, 20), (71, 73), (33, 63), (33, 66), (33, 20), (33, 26), (94, 76), (94, 12), (94, 37), (94, 56), (32, 71), (32, 91), (32, 85), (32, 73), (73, 86), (73, 85), (73, 32), (73, 30), (48, 35), (48, 23), (48, 21), (48, 59), (63, 96), (63, 38), (63, 67), (63, 56), (29, 89), (29, 6), (29, 70), (29, 34), (72, 44), (72, 82), (72, 77), (72, 25), (86, 91), (86, 30), (86, 28), (86, 85), (13, 72), (13, 54), (13, 82), (13, 44), (35, 65), (35, 52), (35, 68), (35, 9), (25, 44), (25, 77), (25, 13), (25, 72), (20, 96), (20, 91), (20, 28), (20, 86), (45, 51), (45, 57), (45, 81), (45, 52), (77, 94), (77, 28), (77, 44), (77, 72), (98, 19), (98, 79), (98, 4), (98, 39), (45, 51), (45, 69), (45, 75), (45, 88), (97, 43), (97, 64), (97, 40), (97, 0), (92, 78), (92, 89), (92, 87), (92, 29)]\n"
     ]
    }
   ],
   "source": [
    "nodes = list(G.nodes)\n",
    "selected_nodes = list(np.random.choice(nodes, 20))\n",
    "# print(nodes, selected_nodes)\n",
    "selected_edges = []\n",
    "for selected_node in selected_nodes:\n",
    "    edges = G.edges(selected_node)\n",
    "    edges = list(G.edges(selected_node, data=False))\n",
    "    # if len(edges) < 4:\n",
    "    #     selected_nodes.append(random.choice(nodes))\n",
    "    #     continue\n",
    "    # selected_edges.extend(random.sample(edges, 4))\n",
    "    if len(edges) < 4:\n",
    "        selected_nodes.append(random.choice(nodes))\n",
    "        continue\n",
    "    edge = random.sample(edges, 4)\n",
    "    selected_edges.extend(edge)\n",
    "print(len(selected_edges))\n",
    "print(selected_edges)"
   ]
  },
  {
   "cell_type": "code",
   "execution_count": 111,
   "metadata": {},
   "outputs": [],
   "source": [
    "edge_x = []\n",
    "edge_y = []\n",
    "edge_colors = ['rgb(51, 51, 51)', 'rgb(102, 102, 102)', 'rgb(153, 153, 153)', 'rgb(175, 175, 175)', 'rgb(204, 204, 204)', 'rgb(220, 220, 220)', 'rgb(102, 102, 102)']\n",
    "edge_trace_list=[]\n",
    "for edge in G.edges():\n",
    "    x0, y0 = G.nodes[edge[0]]['pos']\n",
    "    x1, y1 = G.nodes[edge[1]]['pos']\n",
    "    edge_x.append(x0)\n",
    "    edge_x.append(x1)\n",
    "    edge_x.append(None)\n",
    "    edge_y.append(y0)\n",
    "    edge_y.append(y1)\n",
    "    edge_y.append(None)\n",
    "    dist = np.linalg.norm(np.array([x0, y0])-np.array([x1, y1]))\n",
    "    # if dist > 0.2: #0.175\n",
    "    # if dist < 0.11:\n",
    "    if edge in selected_edges or (edge[1], edge[0]) in selected_edges:\n",
    "        color = '#000'\n",
    "        # color = '#999'\n",
    "    else:\n",
    "        a = int( 5 * dist / 0.25)\n",
    "        color = edge_colors[a]\n",
    "        color = '#888'\n",
    "    edge_trace_list.append(dict(type='scatter',\n",
    "        x=[x0, x1],\n",
    "        y=[y0, y1],\n",
    "        mode='lines',\n",
    "        line=dict(width=2, color=color)))\n",
    "\n",
    "\n",
    "edge_trace = go.Scatter(\n",
    "    x=edge_x, y=edge_y,\n",
    "    hoverinfo='none',\n",
    "    mode='lines',\n",
    "    marker=dict(\n",
    "            # width=2, \n",
    "            colorscale='Greys',\n",
    "            reversescale=True,\n",
    "            color=[],\n",
    "            size=10,),)\n",
    "\n",
    "node_x = []\n",
    "node_y = []\n",
    "for node in G.nodes():\n",
    "    x, y = G.nodes[node]['pos']\n",
    "    node_x.append(x)\n",
    "    node_y.append(y)\n",
    "\n",
    "node_trace = go.Scatter(\n",
    "    x=node_x, y=node_y,\n",
    "    mode='markers',\n",
    "    hoverinfo='text',\n",
    "    marker=dict(\n",
    "        # showscale=True,\n",
    "        # colorscale options\n",
    "        #'Greys' | 'YlGnBu' | 'Greens' | 'YlOrRd' | 'Bluered' | 'RdBu' |\n",
    "        #'Reds' | 'Blues' | 'Picnic' | 'Rainbow' | 'Portland' | 'Jet' |\n",
    "        #'Hot' | 'Blackbody' | 'Earth' | 'Electric' | 'Viridis' |\n",
    "        colorscale='Greys',\n",
    "        reversescale=True,\n",
    "        color=[],\n",
    "        # size=[],\n",
    "        size=8,\n",
    "        # colorbar=dict(\n",
    "            # thickness=15,\n",
    "            # title='Node Connections',\n",
    "            # xanchor='left',\n",
    "            # titleside='right'\n",
    "        # ),\n",
    "        line_width=2))"
   ]
  },
  {
   "cell_type": "code",
   "execution_count": 112,
   "metadata": {},
   "outputs": [],
   "source": [
    "node_adjacencies = []\n",
    "node_text = []\n",
    "node_sizes= []\n",
    "for node, adjacencies in enumerate(G.adjacency()):\n",
    "    # node_adjacencies.append(np.random.randint(8, 10))\n",
    "    node_adjacencies.append(np.random.randint(7, 10))\n",
    "    node_sizes.append(np.random.randint(5, 10))\n",
    "    \n",
    "\n",
    "node_trace.marker.color = node_adjacencies\n",
    "node_trace.marker.size = node_sizes"
   ]
  },
  {
   "cell_type": "code",
   "execution_count": 114,
   "metadata": {},
   "outputs": [
    {
     "data": {
      "application/vnd.plotly.v1+json": {
       "config": {
        "plotlyServerURL": "https://plot.ly"
       },
       "data": [
        {
         "line": {
          "color": "#888",
          "width": 2
         },
         "mode": "lines",
         "type": "scatter",
         "x": [
          0.7772967685790912,
          0.7126794485852315
         ],
         "y": [
          0.5548088334775853,
          0.5385496445716562
         ]
        },
        {
         "line": {
          "color": "#888",
          "width": 2
         },
         "mode": "lines",
         "type": "scatter",
         "x": [
          0.7772967685790912,
          0.9557037995525786
         ],
         "y": [
          0.5548088334775853,
          0.5317621402469224
         ]
        },
        {
         "line": {
          "color": "#888",
          "width": 2
         },
         "mode": "lines",
         "type": "scatter",
         "x": [
          0.7772967685790912,
          0.762346198387782
         ],
         "y": [
          0.5548088334775853,
          0.4514288946866486
         ]
        },
        {
         "line": {
          "color": "#888",
          "width": 2
         },
         "mode": "lines",
         "type": "scatter",
         "x": [
          0.7772967685790912,
          0.8210681488719842
         ],
         "y": [
          0.5548088334775853,
          0.43516676204168836
         ]
        },
        {
         "line": {
          "color": "#888",
          "width": 2
         },
         "mode": "lines",
         "type": "scatter",
         "x": [
          0.7772967685790912,
          0.5890368094982544
         ],
         "y": [
          0.5548088334775853,
          0.5819665589690304
         ]
        },
        {
         "line": {
          "color": "#888",
          "width": 2
         },
         "mode": "lines",
         "type": "scatter",
         "x": [
          0.7772967685790912,
          0.8766805895229959
         ],
         "y": [
          0.5548088334775853,
          0.7218172207011124
         ]
        },
        {
         "line": {
          "color": "#888",
          "width": 2
         },
         "mode": "lines",
         "type": "scatter",
         "x": [
          0.7772967685790912,
          0.823774673635579
         ],
         "y": [
          0.5548088334775853,
          0.5988734003588025
         ]
        },
        {
         "line": {
          "color": "#888",
          "width": 2
         },
         "mode": "lines",
         "type": "scatter",
         "x": [
          0.7772967685790912,
          0.8325476913136867
         ],
         "y": [
          0.5548088334775853,
          0.4188797207766546
         ]
        },
        {
         "line": {
          "color": "#888",
          "width": 2
         },
         "mode": "lines",
         "type": "scatter",
         "x": [
          0.7772967685790912,
          0.675258284503646
         ],
         "y": [
          0.5548088334775853,
          0.6247352043392156
         ]
        },
        {
         "line": {
          "color": "#888",
          "width": 2
         },
         "mode": "lines",
         "type": "scatter",
         "x": [
          0.7772967685790912,
          0.6649033646345931
         ],
         "y": [
          0.5548088334775853,
          0.4931610430683392
         ]
        },
        {
         "line": {
          "color": "#888",
          "width": 2
         },
         "mode": "lines",
         "type": "scatter",
         "x": [
          0.7772967685790912,
          0.8798798796074544
         ],
         "y": [
          0.5548088334775853,
          0.4002629624891759
         ]
        },
        {
         "line": {
          "color": "#888",
          "width": 2
         },
         "mode": "lines",
         "type": "scatter",
         "x": [
          0.7772967685790912,
          0.8462334357336598
         ],
         "y": [
          0.5548088334775853,
          0.4539896457440038
         ]
        },
        {
         "line": {
          "color": "#000",
          "width": 2
         },
         "mode": "lines",
         "type": "scatter",
         "x": [
          0.7772967685790912,
          0.769477588826901
         ],
         "y": [
          0.5548088334775853,
          0.42502854267354784
         ]
        },
        {
         "line": {
          "color": "#888",
          "width": 2
         },
         "mode": "lines",
         "type": "scatter",
         "x": [
          0.7126794485852315,
          0.762346198387782
         ],
         "y": [
          0.5385496445716562,
          0.4514288946866486
         ]
        },
        {
         "line": {
          "color": "#888",
          "width": 2
         },
         "mode": "lines",
         "type": "scatter",
         "x": [
          0.7126794485852315,
          0.8210681488719842
         ],
         "y": [
          0.5385496445716562,
          0.43516676204168836
         ]
        },
        {
         "line": {
          "color": "#888",
          "width": 2
         },
         "mode": "lines",
         "type": "scatter",
         "x": [
          0.7126794485852315,
          0.5890368094982544
         ],
         "y": [
          0.5385496445716562,
          0.5819665589690304
         ]
        },
        {
         "line": {
          "color": "#888",
          "width": 2
         },
         "mode": "lines",
         "type": "scatter",
         "x": [
          0.7126794485852315,
          0.585256147026231
         ],
         "y": [
          0.5385496445716562,
          0.618092659464444
         ]
        },
        {
         "line": {
          "color": "#888",
          "width": 2
         },
         "mode": "lines",
         "type": "scatter",
         "x": [
          0.7126794485852315,
          0.823774673635579
         ],
         "y": [
          0.5385496445716562,
          0.5988734003588025
         ]
        },
        {
         "line": {
          "color": "#888",
          "width": 2
         },
         "mode": "lines",
         "type": "scatter",
         "x": [
          0.7126794485852315,
          0.8325476913136867
         ],
         "y": [
          0.5385496445716562,
          0.4188797207766546
         ]
        },
        {
         "line": {
          "color": "#888",
          "width": 2
         },
         "mode": "lines",
         "type": "scatter",
         "x": [
          0.7126794485852315,
          0.675258284503646
         ],
         "y": [
          0.5385496445716562,
          0.6247352043392156
         ]
        },
        {
         "line": {
          "color": "#888",
          "width": 2
         },
         "mode": "lines",
         "type": "scatter",
         "x": [
          0.7126794485852315,
          0.6649033646345931
         ],
         "y": [
          0.5385496445716562,
          0.4931610430683392
         ]
        },
        {
         "line": {
          "color": "#888",
          "width": 2
         },
         "mode": "lines",
         "type": "scatter",
         "x": [
          0.7126794485852315,
          0.5718673573606404
         ],
         "y": [
          0.5385496445716562,
          0.6398129806225091
         ]
        },
        {
         "line": {
          "color": "#888",
          "width": 2
         },
         "mode": "lines",
         "type": "scatter",
         "x": [
          0.7126794485852315,
          0.6952369465163732
         ],
         "y": [
          0.5385496445716562,
          0.3548773757600614
         ]
        },
        {
         "line": {
          "color": "#888",
          "width": 2
         },
         "mode": "lines",
         "type": "scatter",
         "x": [
          0.7126794485852315,
          0.8462334357336598
         ],
         "y": [
          0.5385496445716562,
          0.4539896457440038
         ]
        },
        {
         "line": {
          "color": "#888",
          "width": 2
         },
         "mode": "lines",
         "type": "scatter",
         "x": [
          0.7126794485852315,
          0.5412734001663441
         ],
         "y": [
          0.5385496445716562,
          0.6067835368683082
         ]
        },
        {
         "line": {
          "color": "#888",
          "width": 2
         },
         "mode": "lines",
         "type": "scatter",
         "x": [
          0.7126794485852315,
          0.769477588826901
         ],
         "y": [
          0.5385496445716562,
          0.42502854267354784
         ]
        },
        {
         "line": {
          "color": "#888",
          "width": 2
         },
         "mode": "lines",
         "type": "scatter",
         "x": [
          0.41472191370025857,
          0.3284356129995657
         ],
         "y": [
          0.01851343819100626,
          0.04810754272988316
         ]
        },
        {
         "line": {
          "color": "#888",
          "width": 2
         },
         "mode": "lines",
         "type": "scatter",
         "x": [
          0.41472191370025857,
          0.31337920147405973
         ],
         "y": [
          0.01851343819100626,
          0.08456414308843196
         ]
        },
        {
         "line": {
          "color": "#888",
          "width": 2
         },
         "mode": "lines",
         "type": "scatter",
         "x": [
          0.41472191370025857,
          0.5491780317833973
         ],
         "y": [
          0.01851343819100626,
          0.10520194224753421
         ]
        },
        {
         "line": {
          "color": "#888",
          "width": 2
         },
         "mode": "lines",
         "type": "scatter",
         "x": [
          0.41472191370025857,
          0.5868013900093378
         ],
         "y": [
          0.01851343819100626,
          0.041758978297537386
         ]
        },
        {
         "line": {
          "color": "#888",
          "width": 2
         },
         "mode": "lines",
         "type": "scatter",
         "x": [
          0.41472191370025857,
          0.3358808499372745
         ],
         "y": [
          0.01851343819100626,
          0.15353153620699167
         ]
        },
        {
         "line": {
          "color": "#888",
          "width": 2
         },
         "mode": "lines",
         "type": "scatter",
         "x": [
          0.41472191370025857,
          0.3448674154339495
         ],
         "y": [
          0.01851343819100626,
          0.10337498556392433
         ]
        },
        {
         "line": {
          "color": "#888",
          "width": 2
         },
         "mode": "lines",
         "type": "scatter",
         "x": [
          0.41472191370025857,
          0.39166073066632956
         ],
         "y": [
          0.01851343819100626,
          0.2006582161640329
         ]
        },
        {
         "line": {
          "color": "#888",
          "width": 2
         },
         "mode": "lines",
         "type": "scatter",
         "x": [
          0.41472191370025857,
          0.3329610009202226
         ],
         "y": [
          0.01851343819100626,
          0.013233631082401609
         ]
        },
        {
         "line": {
          "color": "#888",
          "width": 2
         },
         "mode": "lines",
         "type": "scatter",
         "x": [
          0.41472191370025857,
          0.34707755736916823
         ],
         "y": [
          0.01851343819100626,
          0.1211642843059646
         ]
        },
        {
         "line": {
          "color": "#888",
          "width": 2
         },
         "mode": "lines",
         "type": "scatter",
         "x": [
          0.41472191370025857,
          0.27707588665167504
         ],
         "y": [
          0.01851343819100626,
          0.07641225593368017
         ]
        },
        {
         "line": {
          "color": "#888",
          "width": 2
         },
         "mode": "lines",
         "type": "scatter",
         "x": [
          0.9405316288008979,
          0.9455411249448875
         ],
         "y": [
          0.7674922070532982,
          0.7722927072648209
         ]
        },
        {
         "line": {
          "color": "#888",
          "width": 2
         },
         "mode": "lines",
         "type": "scatter",
         "x": [
          0.9405316288008979,
          0.8762765245460326
         ],
         "y": [
          0.7674922070532982,
          0.7588054117096847
         ]
        },
        {
         "line": {
          "color": "#888",
          "width": 2
         },
         "mode": "lines",
         "type": "scatter",
         "x": [
          0.9405316288008979,
          0.8766805895229959
         ],
         "y": [
          0.7674922070532982,
          0.7218172207011124
         ]
        },
        {
         "line": {
          "color": "#888",
          "width": 2
         },
         "mode": "lines",
         "type": "scatter",
         "x": [
          0.9405316288008979,
          0.8261215356797782
         ],
         "y": [
          0.7674922070532982,
          0.8646750867368155
         ]
        },
        {
         "line": {
          "color": "#888",
          "width": 2
         },
         "mode": "lines",
         "type": "scatter",
         "x": [
          0.9405316288008979,
          0.8068003362450938
         ],
         "y": [
          0.7674922070532982,
          0.8174416849399618
         ]
        },
        {
         "line": {
          "color": "#888",
          "width": 2
         },
         "mode": "lines",
         "type": "scatter",
         "x": [
          0.9405316288008979,
          0.9633417955223065
         ],
         "y": [
          0.7674922070532982,
          0.7209500187787788
         ]
        },
        {
         "line": {
          "color": "#888",
          "width": 2
         },
         "mode": "lines",
         "type": "scatter",
         "x": [
          0.9455411249448875,
          0.8762765245460326
         ],
         "y": [
          0.7722927072648209,
          0.7588054117096847
         ]
        },
        {
         "line": {
          "color": "#888",
          "width": 2
         },
         "mode": "lines",
         "type": "scatter",
         "x": [
          0.9455411249448875,
          0.8766805895229959
         ],
         "y": [
          0.7722927072648209,
          0.7218172207011124
         ]
        },
        {
         "line": {
          "color": "#888",
          "width": 2
         },
         "mode": "lines",
         "type": "scatter",
         "x": [
          0.9455411249448875,
          0.8261215356797782
         ],
         "y": [
          0.7722927072648209,
          0.8646750867368155
         ]
        },
        {
         "line": {
          "color": "#888",
          "width": 2
         },
         "mode": "lines",
         "type": "scatter",
         "x": [
          0.9455411249448875,
          0.8068003362450938
         ],
         "y": [
          0.7722927072648209,
          0.8174416849399618
         ]
        },
        {
         "line": {
          "color": "#000",
          "width": 2
         },
         "mode": "lines",
         "type": "scatter",
         "x": [
          0.9455411249448875,
          0.9633417955223065
         ],
         "y": [
          0.7722927072648209,
          0.7209500187787788
         ]
        },
        {
         "line": {
          "color": "#888",
          "width": 2
         },
         "mode": "lines",
         "type": "scatter",
         "x": [
          0.9557037995525786,
          0.8210681488719842
         ],
         "y": [
          0.5317621402469224,
          0.43516676204168836
         ]
        },
        {
         "line": {
          "color": "#888",
          "width": 2
         },
         "mode": "lines",
         "type": "scatter",
         "x": [
          0.9557037995525786,
          0.823774673635579
         ],
         "y": [
          0.5317621402469224,
          0.5988734003588025
         ]
        },
        {
         "line": {
          "color": "#888",
          "width": 2
         },
         "mode": "lines",
         "type": "scatter",
         "x": [
          0.9557037995525786,
          0.8325476913136867
         ],
         "y": [
          0.5317621402469224,
          0.4188797207766546
         ]
        },
        {
         "line": {
          "color": "#888",
          "width": 2
         },
         "mode": "lines",
         "type": "scatter",
         "x": [
          0.9557037995525786,
          0.9644425478097204
         ],
         "y": [
          0.5317621402469224,
          0.38098004873181157
         ]
        },
        {
         "line": {
          "color": "#888",
          "width": 2
         },
         "mode": "lines",
         "type": "scatter",
         "x": [
          0.9557037995525786,
          0.8798798796074544
         ],
         "y": [
          0.5317621402469224,
          0.4002629624891759
         ]
        },
        {
         "line": {
          "color": "#888",
          "width": 2
         },
         "mode": "lines",
         "type": "scatter",
         "x": [
          0.9557037995525786,
          0.9485508831105348
         ],
         "y": [
          0.5317621402469224,
          0.39727080257111935
         ]
        },
        {
         "line": {
          "color": "#888",
          "width": 2
         },
         "mode": "lines",
         "type": "scatter",
         "x": [
          0.9557037995525786,
          0.8462334357336598
         ],
         "y": [
          0.5317621402469224,
          0.4539896457440038
         ]
        },
        {
         "line": {
          "color": "#888",
          "width": 2
         },
         "mode": "lines",
         "type": "scatter",
         "x": [
          0.9557037995525786,
          0.9377010162487383
         ],
         "y": [
          0.5317621402469224,
          0.3579725814811704
         ]
        },
        {
         "line": {
          "color": "#888",
          "width": 2
         },
         "mode": "lines",
         "type": "scatter",
         "x": [
          0.9557037995525786,
          0.9633417955223065
         ],
         "y": [
          0.5317621402469224,
          0.7209500187787788
         ]
        },
        {
         "line": {
          "color": "#888",
          "width": 2
         },
         "mode": "lines",
         "type": "scatter",
         "x": [
          0.3284356129995657,
          0.31337920147405973
         ],
         "y": [
          0.04810754272988316,
          0.08456414308843196
         ]
        },
        {
         "line": {
          "color": "#000",
          "width": 2
         },
         "mode": "lines",
         "type": "scatter",
         "x": [
          0.3284356129995657,
          0.3358808499372745
         ],
         "y": [
          0.04810754272988316,
          0.15353153620699167
         ]
        },
        {
         "line": {
          "color": "#888",
          "width": 2
         },
         "mode": "lines",
         "type": "scatter",
         "x": [
          0.3284356129995657,
          0.3448674154339495
         ],
         "y": [
          0.04810754272988316,
          0.10337498556392433
         ]
        },
        {
         "line": {
          "color": "#888",
          "width": 2
         },
         "mode": "lines",
         "type": "scatter",
         "x": [
          0.3284356129995657,
          0.39166073066632956
         ],
         "y": [
          0.04810754272988316,
          0.2006582161640329
         ]
        },
        {
         "line": {
          "color": "#888",
          "width": 2
         },
         "mode": "lines",
         "type": "scatter",
         "x": [
          0.3284356129995657,
          0.21078612818592313
         ],
         "y": [
          0.04810754272988316,
          0.08892132145228904
         ]
        },
        {
         "line": {
          "color": "#888",
          "width": 2
         },
         "mode": "lines",
         "type": "scatter",
         "x": [
          0.3284356129995657,
          0.3329610009202226
         ],
         "y": [
          0.04810754272988316,
          0.013233631082401609
         ]
        },
        {
         "line": {
          "color": "#888",
          "width": 2
         },
         "mode": "lines",
         "type": "scatter",
         "x": [
          0.3284356129995657,
          0.34707755736916823
         ],
         "y": [
          0.04810754272988316,
          0.1211642843059646
         ]
        },
        {
         "line": {
          "color": "#888",
          "width": 2
         },
         "mode": "lines",
         "type": "scatter",
         "x": [
          0.3284356129995657,
          0.27707588665167504
         ],
         "y": [
          0.04810754272988316,
          0.07641225593368017
         ]
        },
        {
         "line": {
          "color": "#888",
          "width": 2
         },
         "mode": "lines",
         "type": "scatter",
         "x": [
          0.6984550902031035,
          0.8511635118735779
         ],
         "y": [
          0.9310378817815803,
          0.9706083542135686
         ]
        },
        {
         "line": {
          "color": "#888",
          "width": 2
         },
         "mode": "lines",
         "type": "scatter",
         "x": [
          0.6984550902031035,
          0.554507828604528
         ],
         "y": [
          0.9310378817815803,
          0.9443056686342436
         ]
        },
        {
         "line": {
          "color": "#888",
          "width": 2
         },
         "mode": "lines",
         "type": "scatter",
         "x": [
          0.6984550902031035,
          0.5689429573455235
         ],
         "y": [
          0.9310378817815803,
          0.9915754318815236
         ]
        },
        {
         "line": {
          "color": "#888",
          "width": 2
         },
         "mode": "lines",
         "type": "scatter",
         "x": [
          0.6984550902031035,
          0.5156646525646337
         ],
         "y": [
          0.9310378817815803,
          0.9939798234089425
         ]
        },
        {
         "line": {
          "color": "#888",
          "width": 2
         },
         "mode": "lines",
         "type": "scatter",
         "x": [
          0.6984550902031035,
          0.8261215356797782
         ],
         "y": [
          0.9310378817815803,
          0.8646750867368155
         ]
        },
        {
         "line": {
          "color": "#888",
          "width": 2
         },
         "mode": "lines",
         "type": "scatter",
         "x": [
          0.6984550902031035,
          0.6795832989994791
         ],
         "y": [
          0.9310378817815803,
          0.8401957968587838
         ]
        },
        {
         "line": {
          "color": "#888",
          "width": 2
         },
         "mode": "lines",
         "type": "scatter",
         "x": [
          0.6984550902031035,
          0.5577007318190512
         ],
         "y": [
          0.9310378817815803,
          0.8235982553434331
         ]
        },
        {
         "line": {
          "color": "#888",
          "width": 2
         },
         "mode": "lines",
         "type": "scatter",
         "x": [
          0.6984550902031035,
          0.8068003362450938
         ],
         "y": [
          0.9310378817815803,
          0.8174416849399618
         ]
        },
        {
         "line": {
          "color": "#888",
          "width": 2
         },
         "mode": "lines",
         "type": "scatter",
         "x": [
          0.762346198387782,
          0.8210681488719842
         ],
         "y": [
          0.4514288946866486,
          0.43516676204168836
         ]
        },
        {
         "line": {
          "color": "#888",
          "width": 2
         },
         "mode": "lines",
         "type": "scatter",
         "x": [
          0.762346198387782,
          0.8030136302530037
         ],
         "y": [
          0.4514288946866486,
          0.33683525267922076
         ]
        },
        {
         "line": {
          "color": "#888",
          "width": 2
         },
         "mode": "lines",
         "type": "scatter",
         "x": [
          0.762346198387782,
          0.823774673635579
         ],
         "y": [
          0.4514288946866486,
          0.5988734003588025
         ]
        },
        {
         "line": {
          "color": "#888",
          "width": 2
         },
         "mode": "lines",
         "type": "scatter",
         "x": [
          0.762346198387782,
          0.8325476913136867
         ],
         "y": [
          0.4514288946866486,
          0.4188797207766546
         ]
        },
        {
         "line": {
          "color": "#888",
          "width": 2
         },
         "mode": "lines",
         "type": "scatter",
         "x": [
          0.762346198387782,
          0.675258284503646
         ],
         "y": [
          0.4514288946866486,
          0.6247352043392156
         ]
        },
        {
         "line": {
          "color": "#888",
          "width": 2
         },
         "mode": "lines",
         "type": "scatter",
         "x": [
          0.762346198387782,
          0.6649033646345931
         ],
         "y": [
          0.4514288946866486,
          0.4931610430683392
         ]
        },
        {
         "line": {
          "color": "#888",
          "width": 2
         },
         "mode": "lines",
         "type": "scatter",
         "x": [
          0.762346198387782,
          0.6952369465163732
         ],
         "y": [
          0.4514288946866486,
          0.3548773757600614
         ]
        },
        {
         "line": {
          "color": "#888",
          "width": 2
         },
         "mode": "lines",
         "type": "scatter",
         "x": [
          0.762346198387782,
          0.8798798796074544
         ],
         "y": [
          0.4514288946866486,
          0.4002629624891759
         ]
        },
        {
         "line": {
          "color": "#888",
          "width": 2
         },
         "mode": "lines",
         "type": "scatter",
         "x": [
          0.762346198387782,
          0.9485508831105348
         ],
         "y": [
          0.4514288946866486,
          0.39727080257111935
         ]
        },
        {
         "line": {
          "color": "#888",
          "width": 2
         },
         "mode": "lines",
         "type": "scatter",
         "x": [
          0.762346198387782,
          0.8462334357336598
         ],
         "y": [
          0.4514288946866486,
          0.4539896457440038
         ]
        },
        {
         "line": {
          "color": "#888",
          "width": 2
         },
         "mode": "lines",
         "type": "scatter",
         "x": [
          0.762346198387782,
          0.9377010162487383
         ],
         "y": [
          0.4514288946866486,
          0.3579725814811704
         ]
        },
        {
         "line": {
          "color": "#888",
          "width": 2
         },
         "mode": "lines",
         "type": "scatter",
         "x": [
          0.762346198387782,
          0.7784595970210797
         ],
         "y": [
          0.4514288946866486,
          0.3075493052731615
         ]
        },
        {
         "line": {
          "color": "#888",
          "width": 2
         },
         "mode": "lines",
         "type": "scatter",
         "x": [
          0.762346198387782,
          0.769477588826901
         ],
         "y": [
          0.4514288946866486,
          0.42502854267354784
         ]
        },
        {
         "line": {
          "color": "#000",
          "width": 2
         },
         "mode": "lines",
         "type": "scatter",
         "x": [
          0.8210681488719842,
          0.8030136302530037
         ],
         "y": [
          0.43516676204168836,
          0.33683525267922076
         ]
        },
        {
         "line": {
          "color": "#888",
          "width": 2
         },
         "mode": "lines",
         "type": "scatter",
         "x": [
          0.8210681488719842,
          0.823774673635579
         ],
         "y": [
          0.43516676204168836,
          0.5988734003588025
         ]
        },
        {
         "line": {
          "color": "#888",
          "width": 2
         },
         "mode": "lines",
         "type": "scatter",
         "x": [
          0.8210681488719842,
          0.8325476913136867
         ],
         "y": [
          0.43516676204168836,
          0.4188797207766546
         ]
        },
        {
         "line": {
          "color": "#888",
          "width": 2
         },
         "mode": "lines",
         "type": "scatter",
         "x": [
          0.8210681488719842,
          0.6649033646345931
         ],
         "y": [
          0.43516676204168836,
          0.4931610430683392
         ]
        },
        {
         "line": {
          "color": "#888",
          "width": 2
         },
         "mode": "lines",
         "type": "scatter",
         "x": [
          0.8210681488719842,
          0.9644425478097204
         ],
         "y": [
          0.43516676204168836,
          0.38098004873181157
         ]
        },
        {
         "line": {
          "color": "#888",
          "width": 2
         },
         "mode": "lines",
         "type": "scatter",
         "x": [
          0.8210681488719842,
          0.6952369465163732
         ],
         "y": [
          0.43516676204168836,
          0.3548773757600614
         ]
        },
        {
         "line": {
          "color": "#888",
          "width": 2
         },
         "mode": "lines",
         "type": "scatter",
         "x": [
          0.8210681488719842,
          0.8798798796074544
         ],
         "y": [
          0.43516676204168836,
          0.4002629624891759
         ]
        },
        {
         "line": {
          "color": "#888",
          "width": 2
         },
         "mode": "lines",
         "type": "scatter",
         "x": [
          0.8210681488719842,
          0.9485508831105348
         ],
         "y": [
          0.43516676204168836,
          0.39727080257111935
         ]
        },
        {
         "line": {
          "color": "#888",
          "width": 2
         },
         "mode": "lines",
         "type": "scatter",
         "x": [
          0.8210681488719842,
          0.8462334357336598
         ],
         "y": [
          0.43516676204168836,
          0.4539896457440038
         ]
        },
        {
         "line": {
          "color": "#888",
          "width": 2
         },
         "mode": "lines",
         "type": "scatter",
         "x": [
          0.8210681488719842,
          0.9377010162487383
         ],
         "y": [
          0.43516676204168836,
          0.3579725814811704
         ]
        },
        {
         "line": {
          "color": "#888",
          "width": 2
         },
         "mode": "lines",
         "type": "scatter",
         "x": [
          0.8210681488719842,
          0.9384822183871988
         ],
         "y": [
          0.43516676204168836,
          0.32913171626914794
         ]
        },
        {
         "line": {
          "color": "#888",
          "width": 2
         },
         "mode": "lines",
         "type": "scatter",
         "x": [
          0.8210681488719842,
          0.7784595970210797
         ],
         "y": [
          0.43516676204168836,
          0.3075493052731615
         ]
        },
        {
         "line": {
          "color": "#888",
          "width": 2
         },
         "mode": "lines",
         "type": "scatter",
         "x": [
          0.8210681488719842,
          0.769477588826901
         ],
         "y": [
          0.43516676204168836,
          0.42502854267354784
         ]
        },
        {
         "line": {
          "color": "#888",
          "width": 2
         },
         "mode": "lines",
         "type": "scatter",
         "x": [
          0.9321616851176138,
          0.9084130186608411
         ],
         "y": [
          0.07583324114410084,
          0.08443317314689824
         ]
        },
        {
         "line": {
          "color": "#888",
          "width": 2
         },
         "mode": "lines",
         "type": "scatter",
         "x": [
          0.9321616851176138,
          0.8842481709412524
         ],
         "y": [
          0.07583324114410084,
          0.16905824288095372
         ]
        },
        {
         "line": {
          "color": "#888",
          "width": 2
         },
         "mode": "lines",
         "type": "scatter",
         "x": [
          0.9321616851176138,
          0.9242689823754415
         ],
         "y": [
          0.07583324114410084,
          0.1679558582929378
         ]
        },
        {
         "line": {
          "color": "#888",
          "width": 2
         },
         "mode": "lines",
         "type": "scatter",
         "x": [
          0.9321616851176138,
          0.8766121592113929
         ],
         "y": [
          0.07583324114410084,
          0.12920566295273028
         ]
        },
        {
         "line": {
          "color": "#888",
          "width": 2
         },
         "mode": "lines",
         "type": "scatter",
         "x": [
          0.9321616851176138,
          0.8766707019852795
         ],
         "y": [
          0.07583324114410084,
          0.08503746116985567
         ]
        },
        {
         "line": {
          "color": "#888",
          "width": 2
         },
         "mode": "lines",
         "type": "scatter",
         "x": [
          0.9321616851176138,
          0.7662381476610111
         ],
         "y": [
          0.07583324114410084,
          0.0878319349438742
         ]
        },
        {
         "line": {
          "color": "#888",
          "width": 2
         },
         "mode": "lines",
         "type": "scatter",
         "x": [
          0.9084130186608411,
          0.8842481709412524
         ],
         "y": [
          0.08443317314689824,
          0.16905824288095372
         ]
        },
        {
         "line": {
          "color": "#888",
          "width": 2
         },
         "mode": "lines",
         "type": "scatter",
         "x": [
          0.9084130186608411,
          0.9242689823754415
         ],
         "y": [
          0.08443317314689824,
          0.1679558582929378
         ]
        },
        {
         "line": {
          "color": "#888",
          "width": 2
         },
         "mode": "lines",
         "type": "scatter",
         "x": [
          0.9084130186608411,
          0.7358453620707668
         ],
         "y": [
          0.08443317314689824,
          0.15191952995909896
         ]
        },
        {
         "line": {
          "color": "#888",
          "width": 2
         },
         "mode": "lines",
         "type": "scatter",
         "x": [
          0.9084130186608411,
          0.8766121592113929
         ],
         "y": [
          0.08443317314689824,
          0.12920566295273028
         ]
        },
        {
         "line": {
          "color": "#888",
          "width": 2
         },
         "mode": "lines",
         "type": "scatter",
         "x": [
          0.9084130186608411,
          0.8766707019852795
         ],
         "y": [
          0.08443317314689824,
          0.08503746116985567
         ]
        },
        {
         "line": {
          "color": "#888",
          "width": 2
         },
         "mode": "lines",
         "type": "scatter",
         "x": [
          0.9084130186608411,
          0.7662381476610111
         ],
         "y": [
          0.08443317314689824,
          0.0878319349438742
         ]
        },
        {
         "line": {
          "color": "#888",
          "width": 2
         },
         "mode": "lines",
         "type": "scatter",
         "x": [
          0.5890368094982544,
          0.5566377864145727
         ],
         "y": [
          0.5819665589690304,
          0.39241730305969
         ]
        },
        {
         "line": {
          "color": "#888",
          "width": 2
         },
         "mode": "lines",
         "type": "scatter",
         "x": [
          0.5890368094982544,
          0.585256147026231
         ],
         "y": [
          0.5819665589690304,
          0.618092659464444
         ]
        },
        {
         "line": {
          "color": "#888",
          "width": 2
         },
         "mode": "lines",
         "type": "scatter",
         "x": [
          0.5890368094982544,
          0.4267170365173295
         ],
         "y": [
          0.5819665589690304,
          0.5763551742614229
         ]
        },
        {
         "line": {
          "color": "#888",
          "width": 2
         },
         "mode": "lines",
         "type": "scatter",
         "x": [
          0.5890368094982544,
          0.675258284503646
         ],
         "y": [
          0.5819665589690304,
          0.6247352043392156
         ]
        },
        {
         "line": {
          "color": "#888",
          "width": 2
         },
         "mode": "lines",
         "type": "scatter",
         "x": [
          0.5890368094982544,
          0.6649033646345931
         ],
         "y": [
          0.5819665589690304,
          0.4931610430683392
         ]
        },
        {
         "line": {
          "color": "#888",
          "width": 2
         },
         "mode": "lines",
         "type": "scatter",
         "x": [
          0.5890368094982544,
          0.5718673573606404
         ],
         "y": [
          0.5819665589690304,
          0.6398129806225091
         ]
        },
        {
         "line": {
          "color": "#888",
          "width": 2
         },
         "mode": "lines",
         "type": "scatter",
         "x": [
          0.5890368094982544,
          0.44902667583539313
         ],
         "y": [
          0.5819665589690304,
          0.5716071237041721
         ]
        },
        {
         "line": {
          "color": "#888",
          "width": 2
         },
         "mode": "lines",
         "type": "scatter",
         "x": [
          0.5890368094982544,
          0.5412734001663441
         ],
         "y": [
          0.5819665589690304,
          0.6067835368683082
         ]
        },
        {
         "line": {
          "color": "#000",
          "width": 2
         },
         "mode": "lines",
         "type": "scatter",
         "x": [
          0.5890368094982544,
          0.44944708591754556
         ],
         "y": [
          0.5819665589690304,
          0.5260975472518662
         ]
        },
        {
         "line": {
          "color": "#888",
          "width": 2
         },
         "mode": "lines",
         "type": "scatter",
         "x": [
          0.5890368094982544,
          0.5305220419119321
         ],
         "y": [
          0.5819665589690304,
          0.7294211544532321
         ]
        },
        {
         "line": {
          "color": "#000",
          "width": 2
         },
         "mode": "lines",
         "type": "scatter",
         "x": [
          0.1040994021654732,
          0.13950891932546006
         ],
         "y": [
          0.5193227603176418,
          0.5415329664862066
         ]
        },
        {
         "line": {
          "color": "#888",
          "width": 2
         },
         "mode": "lines",
         "type": "scatter",
         "x": [
          0.1040994021654732,
          0.13328757767456012
         ],
         "y": [
          0.5193227603176418,
          0.4524392169420556
         ]
        },
        {
         "line": {
          "color": "#000",
          "width": 2
         },
         "mode": "lines",
         "type": "scatter",
         "x": [
          0.1040994021654732,
          0.2933694498827314
         ],
         "y": [
          0.5193227603176418,
          0.5827991157071999
         ]
        },
        {
         "line": {
          "color": "#000",
          "width": 2
         },
         "mode": "lines",
         "type": "scatter",
         "x": [
          0.1040994021654732,
          0.005747809805558446
         ],
         "y": [
          0.5193227603176418,
          0.6688347593535136
         ]
        },
        {
         "line": {
          "color": "#000",
          "width": 2
         },
         "mode": "lines",
         "type": "scatter",
         "x": [
          0.1040994021654732,
          0.18001223690148538
         ],
         "y": [
          0.5193227603176418,
          0.5537816338285477
         ]
        },
        {
         "line": {
          "color": "#000",
          "width": 2
         },
         "mode": "lines",
         "type": "scatter",
         "x": [
          0.1040994021654732,
          0.11720174977424747
         ],
         "y": [
          0.5193227603176418,
          0.6107120416405764
         ]
        },
        {
         "line": {
          "color": "#888",
          "width": 2
         },
         "mode": "lines",
         "type": "scatter",
         "x": [
          0.1040994021654732,
          0.026033207082985843
         ],
         "y": [
          0.5193227603176418,
          0.6572148320388425
         ]
        },
        {
         "line": {
          "color": "#888",
          "width": 2
         },
         "mode": "lines",
         "type": "scatter",
         "x": [
          0.31337920147405973,
          0.3358808499372745
         ],
         "y": [
          0.08456414308843196,
          0.15353153620699167
         ]
        },
        {
         "line": {
          "color": "#888",
          "width": 2
         },
         "mode": "lines",
         "type": "scatter",
         "x": [
          0.31337920147405973,
          0.3448674154339495
         ],
         "y": [
          0.08456414308843196,
          0.10337498556392433
         ]
        },
        {
         "line": {
          "color": "#888",
          "width": 2
         },
         "mode": "lines",
         "type": "scatter",
         "x": [
          0.31337920147405973,
          0.39166073066632956
         ],
         "y": [
          0.08456414308843196,
          0.2006582161640329
         ]
        },
        {
         "line": {
          "color": "#888",
          "width": 2
         },
         "mode": "lines",
         "type": "scatter",
         "x": [
          0.31337920147405973,
          0.21078612818592313
         ],
         "y": [
          0.08456414308843196,
          0.08892132145228904
         ]
        },
        {
         "line": {
          "color": "#888",
          "width": 2
         },
         "mode": "lines",
         "type": "scatter",
         "x": [
          0.31337920147405973,
          0.2799213055800198
         ],
         "y": [
          0.08456414308843196,
          0.2450640323420864
         ]
        },
        {
         "line": {
          "color": "#888",
          "width": 2
         },
         "mode": "lines",
         "type": "scatter",
         "x": [
          0.31337920147405973,
          0.3329610009202226
         ],
         "y": [
          0.08456414308843196,
          0.013233631082401609
         ]
        },
        {
         "line": {
          "color": "#888",
          "width": 2
         },
         "mode": "lines",
         "type": "scatter",
         "x": [
          0.31337920147405973,
          0.34707755736916823
         ],
         "y": [
          0.08456414308843196,
          0.1211642843059646
         ]
        },
        {
         "line": {
          "color": "#888",
          "width": 2
         },
         "mode": "lines",
         "type": "scatter",
         "x": [
          0.31337920147405973,
          0.27707588665167504
         ],
         "y": [
          0.08456414308843196,
          0.07641225593368017
         ]
        },
        {
         "line": {
          "color": "#888",
          "width": 2
         },
         "mode": "lines",
         "type": "scatter",
         "x": [
          0.35528097786516866,
          0.33101753428016134
         ],
         "y": [
          0.31328539552124945,
          0.2996440289233848
         ]
        },
        {
         "line": {
          "color": "#888",
          "width": 2
         },
         "mode": "lines",
         "type": "scatter",
         "x": [
          0.35528097786516866,
          0.3358808499372745
         ],
         "y": [
          0.31328539552124945,
          0.15353153620699167
         ]
        },
        {
         "line": {
          "color": "#888",
          "width": 2
         },
         "mode": "lines",
         "type": "scatter",
         "x": [
          0.35528097786516866,
          0.3409393887973423
         ],
         "y": [
          0.31328539552124945,
          0.30780776068011295
         ]
        },
        {
         "line": {
          "color": "#888",
          "width": 2
         },
         "mode": "lines",
         "type": "scatter",
         "x": [
          0.35528097786516866,
          0.4104146654695472
         ],
         "y": [
          0.31328539552124945,
          0.3128364238574487
         ]
        },
        {
         "line": {
          "color": "#888",
          "width": 2
         },
         "mode": "lines",
         "type": "scatter",
         "x": [
          0.35528097786516866,
          0.39166073066632956
         ],
         "y": [
          0.31328539552124945,
          0.2006582161640329
         ]
        },
        {
         "line": {
          "color": "#888",
          "width": 2
         },
         "mode": "lines",
         "type": "scatter",
         "x": [
          0.35528097786516866,
          0.4900563790888437
         ],
         "y": [
          0.31328539552124945,
          0.2869144284533628
         ]
        },
        {
         "line": {
          "color": "#888",
          "width": 2
         },
         "mode": "lines",
         "type": "scatter",
         "x": [
          0.35528097786516866,
          0.2799213055800198
         ],
         "y": [
          0.31328539552124945,
          0.2450640323420864
         ]
        },
        {
         "line": {
          "color": "#888",
          "width": 2
         },
         "mode": "lines",
         "type": "scatter",
         "x": [
          0.35528097786516866,
          0.34707755736916823
         ],
         "y": [
          0.31328539552124945,
          0.1211642843059646
         ]
        },
        {
         "line": {
          "color": "#888",
          "width": 2
         },
         "mode": "lines",
         "type": "scatter",
         "x": [
          0.35528097786516866,
          0.2689421597550534
         ],
         "y": [
          0.31328539552124945,
          0.30508486962479
         ]
        },
        {
         "line": {
          "color": "#888",
          "width": 2
         },
         "mode": "lines",
         "type": "scatter",
         "x": [
          0.8762765245460326,
          0.8766805895229959
         ],
         "y": [
          0.7588054117096847,
          0.7218172207011124
         ]
        },
        {
         "line": {
          "color": "#888",
          "width": 2
         },
         "mode": "lines",
         "type": "scatter",
         "x": [
          0.8762765245460326,
          0.823774673635579
         ],
         "y": [
          0.7588054117096847,
          0.5988734003588025
         ]
        },
        {
         "line": {
          "color": "#888",
          "width": 2
         },
         "mode": "lines",
         "type": "scatter",
         "x": [
          0.8762765245460326,
          0.8261215356797782
         ],
         "y": [
          0.7588054117096847,
          0.8646750867368155
         ]
        },
        {
         "line": {
          "color": "#888",
          "width": 2
         },
         "mode": "lines",
         "type": "scatter",
         "x": [
          0.8762765245460326,
          0.8068003362450938
         ],
         "y": [
          0.7588054117096847,
          0.8174416849399618
         ]
        },
        {
         "line": {
          "color": "#888",
          "width": 2
         },
         "mode": "lines",
         "type": "scatter",
         "x": [
          0.8762765245460326,
          0.9633417955223065
         ],
         "y": [
          0.7588054117096847,
          0.7209500187787788
         ]
        },
        {
         "line": {
          "color": "#888",
          "width": 2
         },
         "mode": "lines",
         "type": "scatter",
         "x": [
          0.33101753428016134,
          0.3358808499372745
         ],
         "y": [
          0.2996440289233848,
          0.15353153620699167
         ]
        },
        {
         "line": {
          "color": "#888",
          "width": 2
         },
         "mode": "lines",
         "type": "scatter",
         "x": [
          0.33101753428016134,
          0.3409393887973423
         ],
         "y": [
          0.2996440289233848,
          0.30780776068011295
         ]
        },
        {
         "line": {
          "color": "#888",
          "width": 2
         },
         "mode": "lines",
         "type": "scatter",
         "x": [
          0.33101753428016134,
          0.3448674154339495
         ],
         "y": [
          0.2996440289233848,
          0.10337498556392433
         ]
        },
        {
         "line": {
          "color": "#888",
          "width": 2
         },
         "mode": "lines",
         "type": "scatter",
         "x": [
          0.33101753428016134,
          0.4104146654695472
         ],
         "y": [
          0.2996440289233848,
          0.3128364238574487
         ]
        },
        {
         "line": {
          "color": "#888",
          "width": 2
         },
         "mode": "lines",
         "type": "scatter",
         "x": [
          0.33101753428016134,
          0.39166073066632956
         ],
         "y": [
          0.2996440289233848,
          0.2006582161640329
         ]
        },
        {
         "line": {
          "color": "#888",
          "width": 2
         },
         "mode": "lines",
         "type": "scatter",
         "x": [
          0.33101753428016134,
          0.4900563790888437
         ],
         "y": [
          0.2996440289233848,
          0.2869144284533628
         ]
        },
        {
         "line": {
          "color": "#888",
          "width": 2
         },
         "mode": "lines",
         "type": "scatter",
         "x": [
          0.33101753428016134,
          0.2799213055800198
         ],
         "y": [
          0.2996440289233848,
          0.2450640323420864
         ]
        },
        {
         "line": {
          "color": "#888",
          "width": 2
         },
         "mode": "lines",
         "type": "scatter",
         "x": [
          0.33101753428016134,
          0.34707755736916823
         ],
         "y": [
          0.2996440289233848,
          0.1211642843059646
         ]
        },
        {
         "line": {
          "color": "#888",
          "width": 2
         },
         "mode": "lines",
         "type": "scatter",
         "x": [
          0.33101753428016134,
          0.2689421597550534
         ],
         "y": [
          0.2996440289233848,
          0.30508486962479
         ]
        },
        {
         "line": {
          "color": "#888",
          "width": 2
         },
         "mode": "lines",
         "type": "scatter",
         "x": [
          0.09335242248012865,
          0.21078612818592313
         ],
         "y": [
          0.15551134707478897,
          0.08892132145228904
         ]
        },
        {
         "line": {
          "color": "#888",
          "width": 2
         },
         "mode": "lines",
         "type": "scatter",
         "x": [
          0.8766805895229959,
          0.823774673635579
         ],
         "y": [
          0.7218172207011124,
          0.5988734003588025
         ]
        },
        {
         "line": {
          "color": "#888",
          "width": 2
         },
         "mode": "lines",
         "type": "scatter",
         "x": [
          0.8766805895229959,
          0.8261215356797782
         ],
         "y": [
          0.7218172207011124,
          0.8646750867368155
         ]
        },
        {
         "line": {
          "color": "#888",
          "width": 2
         },
         "mode": "lines",
         "type": "scatter",
         "x": [
          0.8766805895229959,
          0.8068003362450938
         ],
         "y": [
          0.7218172207011124,
          0.8174416849399618
         ]
        },
        {
         "line": {
          "color": "#000",
          "width": 2
         },
         "mode": "lines",
         "type": "scatter",
         "x": [
          0.8766805895229959,
          0.9633417955223065
         ],
         "y": [
          0.7218172207011124,
          0.7209500187787788
         ]
        },
        {
         "line": {
          "color": "#888",
          "width": 2
         },
         "mode": "lines",
         "type": "scatter",
         "x": [
          0.40023037690579266,
          0.44975702575021403
         ],
         "y": [
          0.8312254261790355,
          0.841837686057598
         ]
        },
        {
         "line": {
          "color": "#000",
          "width": 2
         },
         "mode": "lines",
         "type": "scatter",
         "x": [
          0.40023037690579266,
          0.3909258489521653
         ],
         "y": [
          0.8312254261790355,
          0.7451877454920384
         ]
        },
        {
         "line": {
          "color": "#888",
          "width": 2
         },
         "mode": "lines",
         "type": "scatter",
         "x": [
          0.40023037690579266,
          0.3669446971087701
         ],
         "y": [
          0.8312254261790355,
          0.9074222536035396
         ]
        },
        {
         "line": {
          "color": "#888",
          "width": 2
         },
         "mode": "lines",
         "type": "scatter",
         "x": [
          0.40023037690579266,
          0.23175209765512583
         ],
         "y": [
          0.8312254261790355,
          0.8902148145205907
         ]
        },
        {
         "line": {
          "color": "#000",
          "width": 2
         },
         "mode": "lines",
         "type": "scatter",
         "x": [
          0.40023037690579266,
          0.554507828604528
         ],
         "y": [
          0.8312254261790355,
          0.9443056686342436
         ]
        },
        {
         "line": {
          "color": "#888",
          "width": 2
         },
         "mode": "lines",
         "type": "scatter",
         "x": [
          0.40023037690579266,
          0.4632297443602965
         ],
         "y": [
          0.8312254261790355,
          0.8760278725458803
         ]
        },
        {
         "line": {
          "color": "#888",
          "width": 2
         },
         "mode": "lines",
         "type": "scatter",
         "x": [
          0.40023037690579266,
          0.32673298966374276
         ],
         "y": [
          0.8312254261790355,
          0.701645882978895
         ]
        },
        {
         "line": {
          "color": "#888",
          "width": 2
         },
         "mode": "lines",
         "type": "scatter",
         "x": [
          0.40023037690579266,
          0.5156646525646337
         ],
         "y": [
          0.8312254261790355,
          0.9939798234089425
         ]
        },
        {
         "line": {
          "color": "#888",
          "width": 2
         },
         "mode": "lines",
         "type": "scatter",
         "x": [
          0.40023037690579266,
          0.49314081300944823
         ],
         "y": [
          0.8312254261790355,
          0.757912418288161
         ]
        },
        {
         "line": {
          "color": "#888",
          "width": 2
         },
         "mode": "lines",
         "type": "scatter",
         "x": [
          0.40023037690579266,
          0.5577007318190512
         ],
         "y": [
          0.8312254261790355,
          0.8235982553434331
         ]
        },
        {
         "line": {
          "color": "#000",
          "width": 2
         },
         "mode": "lines",
         "type": "scatter",
         "x": [
          0.40023037690579266,
          0.2873250090471383
         ],
         "y": [
          0.8312254261790355,
          0.9539491214863909
         ]
        },
        {
         "line": {
          "color": "#888",
          "width": 2
         },
         "mode": "lines",
         "type": "scatter",
         "x": [
          0.40023037690579266,
          0.20676791869407407
         ],
         "y": [
          0.8312254261790355,
          0.8817895171673152
         ]
        },
        {
         "line": {
          "color": "#000",
          "width": 2
         },
         "mode": "lines",
         "type": "scatter",
         "x": [
          0.40023037690579266,
          0.24743420931889692
         ],
         "y": [
          0.8312254261790355,
          0.8321776710859072
         ]
        },
        {
         "line": {
          "color": "#000",
          "width": 2
         },
         "mode": "lines",
         "type": "scatter",
         "x": [
          0.40023037690579266,
          0.314679993143142
         ],
         "y": [
          0.8312254261790355,
          0.9139794714873382
         ]
        },
        {
         "line": {
          "color": "#000",
          "width": 2
         },
         "mode": "lines",
         "type": "scatter",
         "x": [
          0.40023037690579266,
          0.4855793361361087
         ],
         "y": [
          0.8312254261790355,
          0.9247633659914665
         ]
        },
        {
         "line": {
          "color": "#888",
          "width": 2
         },
         "mode": "lines",
         "type": "scatter",
         "x": [
          0.40023037690579266,
          0.5305220419119321
         ],
         "y": [
          0.8312254261790355,
          0.7294211544532321
         ]
        },
        {
         "line": {
          "color": "#888",
          "width": 2
         },
         "mode": "lines",
         "type": "scatter",
         "x": [
          0.5566377864145727,
          0.5864207758224886
         ],
         "y": [
          0.39241730305969,
          0.22546584656269764
         ]
        },
        {
         "line": {
          "color": "#888",
          "width": 2
         },
         "mode": "lines",
         "type": "scatter",
         "x": [
          0.5566377864145727,
          0.6649033646345931
         ],
         "y": [
          0.39241730305969,
          0.4931610430683392
         ]
        },
        {
         "line": {
          "color": "#000",
          "width": 2
         },
         "mode": "lines",
         "type": "scatter",
         "x": [
          0.5566377864145727,
          0.623806176300654
         ],
         "y": [
          0.39241730305969,
          0.28184182070568864
         ]
        },
        {
         "line": {
          "color": "#888",
          "width": 2
         },
         "mode": "lines",
         "type": "scatter",
         "x": [
          0.5566377864145727,
          0.4104146654695472
         ],
         "y": [
          0.39241730305969,
          0.3128364238574487
         ]
        },
        {
         "line": {
          "color": "#888",
          "width": 2
         },
         "mode": "lines",
         "type": "scatter",
         "x": [
          0.5566377864145727,
          0.6952369465163732
         ],
         "y": [
          0.39241730305969,
          0.3548773757600614
         ]
        },
        {
         "line": {
          "color": "#888",
          "width": 2
         },
         "mode": "lines",
         "type": "scatter",
         "x": [
          0.5566377864145727,
          0.4900563790888437
         ],
         "y": [
          0.39241730305969,
          0.2869144284533628
         ]
        },
        {
         "line": {
          "color": "#888",
          "width": 2
         },
         "mode": "lines",
         "type": "scatter",
         "x": [
          0.5566377864145727,
          0.44944708591754556
         ],
         "y": [
          0.39241730305969,
          0.5260975472518662
         ]
        },
        {
         "line": {
          "color": "#888",
          "width": 2
         },
         "mode": "lines",
         "type": "scatter",
         "x": [
          0.8511635118735779,
          0.9399081751857669
         ],
         "y": [
          0.9706083542135686,
          0.9747089609152998
         ]
        },
        {
         "line": {
          "color": "#888",
          "width": 2
         },
         "mode": "lines",
         "type": "scatter",
         "x": [
          0.8511635118735779,
          0.8261215356797782
         ],
         "y": [
          0.9706083542135686,
          0.8646750867368155
         ]
        },
        {
         "line": {
          "color": "#888",
          "width": 2
         },
         "mode": "lines",
         "type": "scatter",
         "x": [
          0.8511635118735779,
          0.8068003362450938
         ],
         "y": [
          0.9706083542135686,
          0.8174416849399618
         ]
        },
        {
         "line": {
          "color": "#888",
          "width": 2
         },
         "mode": "lines",
         "type": "scatter",
         "x": [
          0.5491780317833973,
          0.5868013900093378
         ],
         "y": [
          0.10520194224753421,
          0.041758978297537386
         ]
        },
        {
         "line": {
          "color": "#888",
          "width": 2
         },
         "mode": "lines",
         "type": "scatter",
         "x": [
          0.5491780317833973,
          0.5864207758224886
         ],
         "y": [
          0.10520194224753421,
          0.22546584656269764
         ]
        },
        {
         "line": {
          "color": "#888",
          "width": 2
         },
         "mode": "lines",
         "type": "scatter",
         "x": [
          0.5491780317833973,
          0.6788717873515951
         ],
         "y": [
          0.10520194224753421,
          0.1505324796248576
         ]
        },
        {
         "line": {
          "color": "#000",
          "width": 2
         },
         "mode": "lines",
         "type": "scatter",
         "x": [
          0.5491780317833973,
          0.623806176300654
         ],
         "y": [
          0.10520194224753421,
          0.28184182070568864
         ]
        },
        {
         "line": {
          "color": "#888",
          "width": 2
         },
         "mode": "lines",
         "type": "scatter",
         "x": [
          0.5491780317833973,
          0.7112203160460792
         ],
         "y": [
          0.10520194224753421,
          0.15031734296416976
         ]
        },
        {
         "line": {
          "color": "#888",
          "width": 2
         },
         "mode": "lines",
         "type": "scatter",
         "x": [
          0.5491780317833973,
          0.7358453620707668
         ],
         "y": [
          0.10520194224753421,
          0.15191952995909896
         ]
        },
        {
         "line": {
          "color": "#888",
          "width": 2
         },
         "mode": "lines",
         "type": "scatter",
         "x": [
          0.5491780317833973,
          0.39166073066632956
         ],
         "y": [
          0.10520194224753421,
          0.2006582161640329
         ]
        },
        {
         "line": {
          "color": "#888",
          "width": 2
         },
         "mode": "lines",
         "type": "scatter",
         "x": [
          0.5491780317833973,
          0.4900563790888437
         ],
         "y": [
          0.10520194224753421,
          0.2869144284533628
         ]
        },
        {
         "line": {
          "color": "#888",
          "width": 2
         },
         "mode": "lines",
         "type": "scatter",
         "x": [
          0.5491780317833973,
          0.6887606544279138
         ],
         "y": [
          0.10520194224753421,
          0.030324426593847487
         ]
        },
        {
         "line": {
          "color": "#888",
          "width": 2
         },
         "mode": "lines",
         "type": "scatter",
         "x": [
          0.5868013900093378,
          0.5864207758224886
         ],
         "y": [
          0.041758978297537386,
          0.22546584656269764
         ]
        },
        {
         "line": {
          "color": "#888",
          "width": 2
         },
         "mode": "lines",
         "type": "scatter",
         "x": [
          0.5868013900093378,
          0.6788717873515951
         ],
         "y": [
          0.041758978297537386,
          0.1505324796248576
         ]
        },
        {
         "line": {
          "color": "#888",
          "width": 2
         },
         "mode": "lines",
         "type": "scatter",
         "x": [
          0.5868013900093378,
          0.7112203160460792
         ],
         "y": [
          0.041758978297537386,
          0.15031734296416976
         ]
        },
        {
         "line": {
          "color": "#888",
          "width": 2
         },
         "mode": "lines",
         "type": "scatter",
         "x": [
          0.5868013900093378,
          0.7358453620707668
         ],
         "y": [
          0.041758978297537386,
          0.15191952995909896
         ]
        },
        {
         "line": {
          "color": "#888",
          "width": 2
         },
         "mode": "lines",
         "type": "scatter",
         "x": [
          0.5868013900093378,
          0.6887606544279138
         ],
         "y": [
          0.041758978297537386,
          0.030324426593847487
         ]
        },
        {
         "line": {
          "color": "#888",
          "width": 2
         },
         "mode": "lines",
         "type": "scatter",
         "x": [
          0.5868013900093378,
          0.7662381476610111
         ],
         "y": [
          0.041758978297537386,
          0.0878319349438742
         ]
        },
        {
         "line": {
          "color": "#888",
          "width": 2
         },
         "mode": "lines",
         "type": "scatter",
         "x": [
          0.13950891932546006,
          0.13328757767456012
         ],
         "y": [
          0.5415329664862066,
          0.4524392169420556
         ]
        },
        {
         "line": {
          "color": "#000",
          "width": 2
         },
         "mode": "lines",
         "type": "scatter",
         "x": [
          0.13950891932546006,
          0.2933694498827314
         ],
         "y": [
          0.5415329664862066,
          0.5827991157071999
         ]
        },
        {
         "line": {
          "color": "#888",
          "width": 2
         },
         "mode": "lines",
         "type": "scatter",
         "x": [
          0.13950891932546006,
          0.005747809805558446
         ],
         "y": [
          0.5415329664862066,
          0.6688347593535136
         ]
        },
        {
         "line": {
          "color": "#000",
          "width": 2
         },
         "mode": "lines",
         "type": "scatter",
         "x": [
          0.13950891932546006,
          0.18001223690148538
         ],
         "y": [
          0.5415329664862066,
          0.5537816338285477
         ]
        },
        {
         "line": {
          "color": "#000",
          "width": 2
         },
         "mode": "lines",
         "type": "scatter",
         "x": [
          0.13950891932546006,
          0.31403168127663794
         ],
         "y": [
          0.5415329664862066,
          0.6186185201811593
         ]
        },
        {
         "line": {
          "color": "#888",
          "width": 2
         },
         "mode": "lines",
         "type": "scatter",
         "x": [
          0.13950891932546006,
          0.11720174977424747
         ],
         "y": [
          0.5415329664862066,
          0.6107120416405764
         ]
        },
        {
         "line": {
          "color": "#888",
          "width": 2
         },
         "mode": "lines",
         "type": "scatter",
         "x": [
          0.13950891932546006,
          0.026033207082985843
         ],
         "y": [
          0.5415329664862066,
          0.6572148320388425
         ]
        },
        {
         "line": {
          "color": "#888",
          "width": 2
         },
         "mode": "lines",
         "type": "scatter",
         "x": [
          0.44975702575021403,
          0.3909258489521653
         ],
         "y": [
          0.841837686057598,
          0.7451877454920384
         ]
        },
        {
         "line": {
          "color": "#888",
          "width": 2
         },
         "mode": "lines",
         "type": "scatter",
         "x": [
          0.44975702575021403,
          0.3669446971087701
         ],
         "y": [
          0.841837686057598,
          0.9074222536035396
         ]
        },
        {
         "line": {
          "color": "#000",
          "width": 2
         },
         "mode": "lines",
         "type": "scatter",
         "x": [
          0.44975702575021403,
          0.554507828604528
         ],
         "y": [
          0.841837686057598,
          0.9443056686342436
         ]
        },
        {
         "line": {
          "color": "#888",
          "width": 2
         },
         "mode": "lines",
         "type": "scatter",
         "x": [
          0.44975702575021403,
          0.4632297443602965
         ],
         "y": [
          0.841837686057598,
          0.8760278725458803
         ]
        },
        {
         "line": {
          "color": "#888",
          "width": 2
         },
         "mode": "lines",
         "type": "scatter",
         "x": [
          0.44975702575021403,
          0.32673298966374276
         ],
         "y": [
          0.841837686057598,
          0.701645882978895
         ]
        },
        {
         "line": {
          "color": "#888",
          "width": 2
         },
         "mode": "lines",
         "type": "scatter",
         "x": [
          0.44975702575021403,
          0.5689429573455235
         ],
         "y": [
          0.841837686057598,
          0.9915754318815236
         ]
        },
        {
         "line": {
          "color": "#888",
          "width": 2
         },
         "mode": "lines",
         "type": "scatter",
         "x": [
          0.44975702575021403,
          0.5156646525646337
         ],
         "y": [
          0.841837686057598,
          0.9939798234089425
         ]
        },
        {
         "line": {
          "color": "#888",
          "width": 2
         },
         "mode": "lines",
         "type": "scatter",
         "x": [
          0.44975702575021403,
          0.49314081300944823
         ],
         "y": [
          0.841837686057598,
          0.757912418288161
         ]
        },
        {
         "line": {
          "color": "#888",
          "width": 2
         },
         "mode": "lines",
         "type": "scatter",
         "x": [
          0.44975702575021403,
          0.5577007318190512
         ],
         "y": [
          0.841837686057598,
          0.8235982553434331
         ]
        },
        {
         "line": {
          "color": "#000",
          "width": 2
         },
         "mode": "lines",
         "type": "scatter",
         "x": [
          0.44975702575021403,
          0.2873250090471383
         ],
         "y": [
          0.841837686057598,
          0.9539491214863909
         ]
        },
        {
         "line": {
          "color": "#888",
          "width": 2
         },
         "mode": "lines",
         "type": "scatter",
         "x": [
          0.44975702575021403,
          0.314679993143142
         ],
         "y": [
          0.841837686057598,
          0.9139794714873382
         ]
        },
        {
         "line": {
          "color": "#888",
          "width": 2
         },
         "mode": "lines",
         "type": "scatter",
         "x": [
          0.44975702575021403,
          0.4855793361361087
         ],
         "y": [
          0.841837686057598,
          0.9247633659914665
         ]
        },
        {
         "line": {
          "color": "#888",
          "width": 2
         },
         "mode": "lines",
         "type": "scatter",
         "x": [
          0.44975702575021403,
          0.5305220419119321
         ],
         "y": [
          0.841837686057598,
          0.7294211544532321
         ]
        },
        {
         "line": {
          "color": "#888",
          "width": 2
         },
         "mode": "lines",
         "type": "scatter",
         "x": [
          0.5864207758224886,
          0.6788717873515951
         ],
         "y": [
          0.22546584656269764,
          0.1505324796248576
         ]
        },
        {
         "line": {
          "color": "#888",
          "width": 2
         },
         "mode": "lines",
         "type": "scatter",
         "x": [
          0.5864207758224886,
          0.623806176300654
         ],
         "y": [
          0.22546584656269764,
          0.28184182070568864
         ]
        },
        {
         "line": {
          "color": "#888",
          "width": 2
         },
         "mode": "lines",
         "type": "scatter",
         "x": [
          0.5864207758224886,
          0.7112203160460792
         ],
         "y": [
          0.22546584656269764,
          0.15031734296416976
         ]
        },
        {
         "line": {
          "color": "#888",
          "width": 2
         },
         "mode": "lines",
         "type": "scatter",
         "x": [
          0.5864207758224886,
          0.7358453620707668
         ],
         "y": [
          0.22546584656269764,
          0.15191952995909896
         ]
        },
        {
         "line": {
          "color": "#888",
          "width": 2
         },
         "mode": "lines",
         "type": "scatter",
         "x": [
          0.5864207758224886,
          0.4104146654695472
         ],
         "y": [
          0.22546584656269764,
          0.3128364238574487
         ]
        },
        {
         "line": {
          "color": "#888",
          "width": 2
         },
         "mode": "lines",
         "type": "scatter",
         "x": [
          0.5864207758224886,
          0.6952369465163732
         ],
         "y": [
          0.22546584656269764,
          0.3548773757600614
         ]
        },
        {
         "line": {
          "color": "#888",
          "width": 2
         },
         "mode": "lines",
         "type": "scatter",
         "x": [
          0.5864207758224886,
          0.39166073066632956
         ],
         "y": [
          0.22546584656269764,
          0.2006582161640329
         ]
        },
        {
         "line": {
          "color": "#888",
          "width": 2
         },
         "mode": "lines",
         "type": "scatter",
         "x": [
          0.5864207758224886,
          0.4900563790888437
         ],
         "y": [
          0.22546584656269764,
          0.2869144284533628
         ]
        },
        {
         "line": {
          "color": "#888",
          "width": 2
         },
         "mode": "lines",
         "type": "scatter",
         "x": [
          0.3909258489521653,
          0.3669446971087701
         ],
         "y": [
          0.7451877454920384,
          0.9074222536035396
         ]
        },
        {
         "line": {
          "color": "#888",
          "width": 2
         },
         "mode": "lines",
         "type": "scatter",
         "x": [
          0.3909258489521653,
          0.4632297443602965
         ],
         "y": [
          0.7451877454920384,
          0.8760278725458803
         ]
        },
        {
         "line": {
          "color": "#888",
          "width": 2
         },
         "mode": "lines",
         "type": "scatter",
         "x": [
          0.3909258489521653,
          0.4267170365173295
         ],
         "y": [
          0.7451877454920384,
          0.5763551742614229
         ]
        },
        {
         "line": {
          "color": "#888",
          "width": 2
         },
         "mode": "lines",
         "type": "scatter",
         "x": [
          0.3909258489521653,
          0.2933694498827314
         ],
         "y": [
          0.7451877454920384,
          0.5827991157071999
         ]
        },
        {
         "line": {
          "color": "#888",
          "width": 2
         },
         "mode": "lines",
         "type": "scatter",
         "x": [
          0.3909258489521653,
          0.32673298966374276
         ],
         "y": [
          0.7451877454920384,
          0.701645882978895
         ]
        },
        {
         "line": {
          "color": "#888",
          "width": 2
         },
         "mode": "lines",
         "type": "scatter",
         "x": [
          0.3909258489521653,
          0.49314081300944823
         ],
         "y": [
          0.7451877454920384,
          0.757912418288161
         ]
        },
        {
         "line": {
          "color": "#888",
          "width": 2
         },
         "mode": "lines",
         "type": "scatter",
         "x": [
          0.3909258489521653,
          0.5577007318190512
         ],
         "y": [
          0.7451877454920384,
          0.8235982553434331
         ]
        },
        {
         "line": {
          "color": "#888",
          "width": 2
         },
         "mode": "lines",
         "type": "scatter",
         "x": [
          0.3909258489521653,
          0.44902667583539313
         ],
         "y": [
          0.7451877454920384,
          0.5716071237041721
         ]
        },
        {
         "line": {
          "color": "#000",
          "width": 2
         },
         "mode": "lines",
         "type": "scatter",
         "x": [
          0.3909258489521653,
          0.31403168127663794
         ],
         "y": [
          0.7451877454920384,
          0.6186185201811593
         ]
        },
        {
         "line": {
          "color": "#000",
          "width": 2
         },
         "mode": "lines",
         "type": "scatter",
         "x": [
          0.3909258489521653,
          0.24743420931889692
         ],
         "y": [
          0.7451877454920384,
          0.8321776710859072
         ]
        },
        {
         "line": {
          "color": "#888",
          "width": 2
         },
         "mode": "lines",
         "type": "scatter",
         "x": [
          0.3909258489521653,
          0.314679993143142
         ],
         "y": [
          0.7451877454920384,
          0.9139794714873382
         ]
        },
        {
         "line": {
          "color": "#888",
          "width": 2
         },
         "mode": "lines",
         "type": "scatter",
         "x": [
          0.3909258489521653,
          0.5305220419119321
         ],
         "y": [
          0.7451877454920384,
          0.7294211544532321
         ]
        },
        {
         "line": {
          "color": "#000",
          "width": 2
         },
         "mode": "lines",
         "type": "scatter",
         "x": [
          0.3358808499372745,
          0.3409393887973423
         ],
         "y": [
          0.15353153620699167,
          0.30780776068011295
         ]
        },
        {
         "line": {
          "color": "#888",
          "width": 2
         },
         "mode": "lines",
         "type": "scatter",
         "x": [
          0.3358808499372745,
          0.3448674154339495
         ],
         "y": [
          0.15353153620699167,
          0.10337498556392433
         ]
        },
        {
         "line": {
          "color": "#888",
          "width": 2
         },
         "mode": "lines",
         "type": "scatter",
         "x": [
          0.3358808499372745,
          0.4104146654695472
         ],
         "y": [
          0.15353153620699167,
          0.3128364238574487
         ]
        },
        {
         "line": {
          "color": "#888",
          "width": 2
         },
         "mode": "lines",
         "type": "scatter",
         "x": [
          0.3358808499372745,
          0.39166073066632956
         ],
         "y": [
          0.15353153620699167,
          0.2006582161640329
         ]
        },
        {
         "line": {
          "color": "#000",
          "width": 2
         },
         "mode": "lines",
         "type": "scatter",
         "x": [
          0.3358808499372745,
          0.21078612818592313
         ],
         "y": [
          0.15353153620699167,
          0.08892132145228904
         ]
        },
        {
         "line": {
          "color": "#888",
          "width": 2
         },
         "mode": "lines",
         "type": "scatter",
         "x": [
          0.3358808499372745,
          0.2799213055800198
         ],
         "y": [
          0.15353153620699167,
          0.2450640323420864
         ]
        },
        {
         "line": {
          "color": "#888",
          "width": 2
         },
         "mode": "lines",
         "type": "scatter",
         "x": [
          0.3358808499372745,
          0.3329610009202226
         ],
         "y": [
          0.15353153620699167,
          0.013233631082401609
         ]
        },
        {
         "line": {
          "color": "#000",
          "width": 2
         },
         "mode": "lines",
         "type": "scatter",
         "x": [
          0.3358808499372745,
          0.34707755736916823
         ],
         "y": [
          0.15353153620699167,
          0.1211642843059646
         ]
        },
        {
         "line": {
          "color": "#888",
          "width": 2
         },
         "mode": "lines",
         "type": "scatter",
         "x": [
          0.3358808499372745,
          0.2689421597550534
         ],
         "y": [
          0.15353153620699167,
          0.30508486962479
         ]
        },
        {
         "line": {
          "color": "#000",
          "width": 2
         },
         "mode": "lines",
         "type": "scatter",
         "x": [
          0.3358808499372745,
          0.27707588665167504
         ],
         "y": [
          0.15353153620699167,
          0.07641225593368017
         ]
        },
        {
         "line": {
          "color": "#888",
          "width": 2
         },
         "mode": "lines",
         "type": "scatter",
         "x": [
          0.3669446971087701,
          0.23175209765512583
         ],
         "y": [
          0.9074222536035396,
          0.8902148145205907
         ]
        },
        {
         "line": {
          "color": "#888",
          "width": 2
         },
         "mode": "lines",
         "type": "scatter",
         "x": [
          0.3669446971087701,
          0.554507828604528
         ],
         "y": [
          0.9074222536035396,
          0.9443056686342436
         ]
        },
        {
         "line": {
          "color": "#888",
          "width": 2
         },
         "mode": "lines",
         "type": "scatter",
         "x": [
          0.3669446971087701,
          0.4632297443602965
         ],
         "y": [
          0.9074222536035396,
          0.8760278725458803
         ]
        },
        {
         "line": {
          "color": "#888",
          "width": 2
         },
         "mode": "lines",
         "type": "scatter",
         "x": [
          0.3669446971087701,
          0.5156646525646337
         ],
         "y": [
          0.9074222536035396,
          0.9939798234089425
         ]
        },
        {
         "line": {
          "color": "#888",
          "width": 2
         },
         "mode": "lines",
         "type": "scatter",
         "x": [
          0.3669446971087701,
          0.49314081300944823
         ],
         "y": [
          0.9074222536035396,
          0.757912418288161
         ]
        },
        {
         "line": {
          "color": "#888",
          "width": 2
         },
         "mode": "lines",
         "type": "scatter",
         "x": [
          0.3669446971087701,
          0.2873250090471383
         ],
         "y": [
          0.9074222536035396,
          0.9539491214863909
         ]
        },
        {
         "line": {
          "color": "#000",
          "width": 2
         },
         "mode": "lines",
         "type": "scatter",
         "x": [
          0.3669446971087701,
          0.20676791869407407
         ],
         "y": [
          0.9074222536035396,
          0.8817895171673152
         ]
        },
        {
         "line": {
          "color": "#000",
          "width": 2
         },
         "mode": "lines",
         "type": "scatter",
         "x": [
          0.3669446971087701,
          0.24743420931889692
         ],
         "y": [
          0.9074222536035396,
          0.8321776710859072
         ]
        },
        {
         "line": {
          "color": "#888",
          "width": 2
         },
         "mode": "lines",
         "type": "scatter",
         "x": [
          0.3669446971087701,
          0.314679993143142
         ],
         "y": [
          0.9074222536035396,
          0.9139794714873382
         ]
        },
        {
         "line": {
          "color": "#888",
          "width": 2
         },
         "mode": "lines",
         "type": "scatter",
         "x": [
          0.3669446971087701,
          0.4855793361361087
         ],
         "y": [
          0.9074222536035396,
          0.9247633659914665
         ]
        },
        {
         "line": {
          "color": "#888",
          "width": 2
         },
         "mode": "lines",
         "type": "scatter",
         "x": [
          0.6788717873515951,
          0.623806176300654
         ],
         "y": [
          0.1505324796248576,
          0.28184182070568864
         ]
        },
        {
         "line": {
          "color": "#888",
          "width": 2
         },
         "mode": "lines",
         "type": "scatter",
         "x": [
          0.6788717873515951,
          0.7112203160460792
         ],
         "y": [
          0.1505324796248576,
          0.15031734296416976
         ]
        },
        {
         "line": {
          "color": "#888",
          "width": 2
         },
         "mode": "lines",
         "type": "scatter",
         "x": [
          0.6788717873515951,
          0.7358453620707668
         ],
         "y": [
          0.1505324796248576,
          0.15191952995909896
         ]
        },
        {
         "line": {
          "color": "#888",
          "width": 2
         },
         "mode": "lines",
         "type": "scatter",
         "x": [
          0.6788717873515951,
          0.8766121592113929
         ],
         "y": [
          0.1505324796248576,
          0.12920566295273028
         ]
        },
        {
         "line": {
          "color": "#888",
          "width": 2
         },
         "mode": "lines",
         "type": "scatter",
         "x": [
          0.6788717873515951,
          0.6887606544279138
         ],
         "y": [
          0.1505324796248576,
          0.030324426593847487
         ]
        },
        {
         "line": {
          "color": "#888",
          "width": 2
         },
         "mode": "lines",
         "type": "scatter",
         "x": [
          0.6788717873515951,
          0.7784595970210797
         ],
         "y": [
          0.1505324796248576,
          0.3075493052731615
         ]
        },
        {
         "line": {
          "color": "#888",
          "width": 2
         },
         "mode": "lines",
         "type": "scatter",
         "x": [
          0.6788717873515951,
          0.7662381476610111
         ],
         "y": [
          0.1505324796248576,
          0.0878319349438742
         ]
        },
        {
         "line": {
          "color": "#000",
          "width": 2
         },
         "mode": "lines",
         "type": "scatter",
         "x": [
          0.23175209765512583,
          0.2873250090471383
         ],
         "y": [
          0.8902148145205907,
          0.9539491214863909
         ]
        },
        {
         "line": {
          "color": "#000",
          "width": 2
         },
         "mode": "lines",
         "type": "scatter",
         "x": [
          0.23175209765512583,
          0.20676791869407407
         ],
         "y": [
          0.8902148145205907,
          0.8817895171673152
         ]
        },
        {
         "line": {
          "color": "#000",
          "width": 2
         },
         "mode": "lines",
         "type": "scatter",
         "x": [
          0.23175209765512583,
          0.1623346322967023
         ],
         "y": [
          0.8902148145205907,
          0.9289871191781693
         ]
        },
        {
         "line": {
          "color": "#888",
          "width": 2
         },
         "mode": "lines",
         "type": "scatter",
         "x": [
          0.23175209765512583,
          0.24743420931889692
         ],
         "y": [
          0.8902148145205907,
          0.8321776710859072
         ]
        },
        {
         "line": {
          "color": "#000",
          "width": 2
         },
         "mode": "lines",
         "type": "scatter",
         "x": [
          0.23175209765512583,
          0.314679993143142
         ],
         "y": [
          0.8902148145205907,
          0.9139794714873382
         ]
        },
        {
         "line": {
          "color": "#888",
          "width": 2
         },
         "mode": "lines",
         "type": "scatter",
         "x": [
          0.554507828604528,
          0.4632297443602965
         ],
         "y": [
          0.9443056686342436,
          0.8760278725458803
         ]
        },
        {
         "line": {
          "color": "#888",
          "width": 2
         },
         "mode": "lines",
         "type": "scatter",
         "x": [
          0.554507828604528,
          0.5689429573455235
         ],
         "y": [
          0.9443056686342436,
          0.9915754318815236
         ]
        },
        {
         "line": {
          "color": "#888",
          "width": 2
         },
         "mode": "lines",
         "type": "scatter",
         "x": [
          0.554507828604528,
          0.5156646525646337
         ],
         "y": [
          0.9443056686342436,
          0.9939798234089425
         ]
        },
        {
         "line": {
          "color": "#000",
          "width": 2
         },
         "mode": "lines",
         "type": "scatter",
         "x": [
          0.554507828604528,
          0.49314081300944823
         ],
         "y": [
          0.9443056686342436,
          0.757912418288161
         ]
        },
        {
         "line": {
          "color": "#000",
          "width": 2
         },
         "mode": "lines",
         "type": "scatter",
         "x": [
          0.554507828604528,
          0.6795832989994791
         ],
         "y": [
          0.9443056686342436,
          0.8401957968587838
         ]
        },
        {
         "line": {
          "color": "#888",
          "width": 2
         },
         "mode": "lines",
         "type": "scatter",
         "x": [
          0.554507828604528,
          0.5577007318190512
         ],
         "y": [
          0.9443056686342436,
          0.8235982553434331
         ]
        },
        {
         "line": {
          "color": "#888",
          "width": 2
         },
         "mode": "lines",
         "type": "scatter",
         "x": [
          0.554507828604528,
          0.4855793361361087
         ],
         "y": [
          0.9443056686342436,
          0.9247633659914665
         ]
        },
        {
         "line": {
          "color": "#888",
          "width": 2
         },
         "mode": "lines",
         "type": "scatter",
         "x": [
          0.3409393887973423,
          0.4104146654695472
         ],
         "y": [
          0.30780776068011295,
          0.3128364238574487
         ]
        },
        {
         "line": {
          "color": "#888",
          "width": 2
         },
         "mode": "lines",
         "type": "scatter",
         "x": [
          0.3409393887973423,
          0.39166073066632956
         ],
         "y": [
          0.30780776068011295,
          0.2006582161640329
         ]
        },
        {
         "line": {
          "color": "#888",
          "width": 2
         },
         "mode": "lines",
         "type": "scatter",
         "x": [
          0.3409393887973423,
          0.4900563790888437
         ],
         "y": [
          0.30780776068011295,
          0.2869144284533628
         ]
        },
        {
         "line": {
          "color": "#888",
          "width": 2
         },
         "mode": "lines",
         "type": "scatter",
         "x": [
          0.3409393887973423,
          0.2799213055800198
         ],
         "y": [
          0.30780776068011295,
          0.2450640323420864
         ]
        },
        {
         "line": {
          "color": "#888",
          "width": 2
         },
         "mode": "lines",
         "type": "scatter",
         "x": [
          0.3409393887973423,
          0.34707755736916823
         ],
         "y": [
          0.30780776068011295,
          0.1211642843059646
         ]
        },
        {
         "line": {
          "color": "#888",
          "width": 2
         },
         "mode": "lines",
         "type": "scatter",
         "x": [
          0.3409393887973423,
          0.2689421597550534
         ],
         "y": [
          0.30780776068011295,
          0.30508486962479
         ]
        },
        {
         "line": {
          "color": "#888",
          "width": 2
         },
         "mode": "lines",
         "type": "scatter",
         "x": [
          0.8030136302530037,
          0.8325476913136867
         ],
         "y": [
          0.33683525267922076,
          0.4188797207766546
         ]
        },
        {
         "line": {
          "color": "#888",
          "width": 2
         },
         "mode": "lines",
         "type": "scatter",
         "x": [
          0.8030136302530037,
          0.8842481709412524
         ],
         "y": [
          0.33683525267922076,
          0.16905824288095372
         ]
        },
        {
         "line": {
          "color": "#000",
          "width": 2
         },
         "mode": "lines",
         "type": "scatter",
         "x": [
          0.8030136302530037,
          0.623806176300654
         ],
         "y": [
          0.33683525267922076,
          0.28184182070568864
         ]
        },
        {
         "line": {
          "color": "#000",
          "width": 2
         },
         "mode": "lines",
         "type": "scatter",
         "x": [
          0.8030136302530037,
          0.7358453620707668
         ],
         "y": [
          0.33683525267922076,
          0.15191952995909896
         ]
        },
        {
         "line": {
          "color": "#888",
          "width": 2
         },
         "mode": "lines",
         "type": "scatter",
         "x": [
          0.8030136302530037,
          0.9644425478097204
         ],
         "y": [
          0.33683525267922076,
          0.38098004873181157
         ]
        },
        {
         "line": {
          "color": "#888",
          "width": 2
         },
         "mode": "lines",
         "type": "scatter",
         "x": [
          0.8030136302530037,
          0.6952369465163732
         ],
         "y": [
          0.33683525267922076,
          0.3548773757600614
         ]
        },
        {
         "line": {
          "color": "#888",
          "width": 2
         },
         "mode": "lines",
         "type": "scatter",
         "x": [
          0.8030136302530037,
          0.8798798796074544
         ],
         "y": [
          0.33683525267922076,
          0.4002629624891759
         ]
        },
        {
         "line": {
          "color": "#000",
          "width": 2
         },
         "mode": "lines",
         "type": "scatter",
         "x": [
          0.8030136302530037,
          0.9485508831105348
         ],
         "y": [
          0.33683525267922076,
          0.39727080257111935
         ]
        },
        {
         "line": {
          "color": "#000",
          "width": 2
         },
         "mode": "lines",
         "type": "scatter",
         "x": [
          0.8030136302530037,
          0.8462334357336598
         ],
         "y": [
          0.33683525267922076,
          0.4539896457440038
         ]
        },
        {
         "line": {
          "color": "#888",
          "width": 2
         },
         "mode": "lines",
         "type": "scatter",
         "x": [
          0.8030136302530037,
          0.9377010162487383
         ],
         "y": [
          0.33683525267922076,
          0.3579725814811704
         ]
        },
        {
         "line": {
          "color": "#888",
          "width": 2
         },
         "mode": "lines",
         "type": "scatter",
         "x": [
          0.8030136302530037,
          0.9384822183871988
         ],
         "y": [
          0.33683525267922076,
          0.32913171626914794
         ]
        },
        {
         "line": {
          "color": "#888",
          "width": 2
         },
         "mode": "lines",
         "type": "scatter",
         "x": [
          0.8030136302530037,
          0.7784595970210797
         ],
         "y": [
          0.33683525267922076,
          0.3075493052731615
         ]
        },
        {
         "line": {
          "color": "#888",
          "width": 2
         },
         "mode": "lines",
         "type": "scatter",
         "x": [
          0.8030136302530037,
          0.769477588826901
         ],
         "y": [
          0.33683525267922076,
          0.42502854267354784
         ]
        },
        {
         "line": {
          "color": "#888",
          "width": 2
         },
         "mode": "lines",
         "type": "scatter",
         "x": [
          0.13328757767456012,
          0.18001223690148538
         ],
         "y": [
          0.4524392169420556,
          0.5537816338285477
         ]
        },
        {
         "line": {
          "color": "#888",
          "width": 2
         },
         "mode": "lines",
         "type": "scatter",
         "x": [
          0.13328757767456012,
          0.11720174977424747
         ],
         "y": [
          0.4524392169420556,
          0.6107120416405764
         ]
        },
        {
         "line": {
          "color": "#888",
          "width": 2
         },
         "mode": "lines",
         "type": "scatter",
         "x": [
          0.585256147026231,
          0.4267170365173295
         ],
         "y": [
          0.618092659464444,
          0.5763551742614229
         ]
        },
        {
         "line": {
          "color": "#888",
          "width": 2
         },
         "mode": "lines",
         "type": "scatter",
         "x": [
          0.585256147026231,
          0.675258284503646
         ],
         "y": [
          0.618092659464444,
          0.6247352043392156
         ]
        },
        {
         "line": {
          "color": "#888",
          "width": 2
         },
         "mode": "lines",
         "type": "scatter",
         "x": [
          0.585256147026231,
          0.6649033646345931
         ],
         "y": [
          0.618092659464444,
          0.4931610430683392
         ]
        },
        {
         "line": {
          "color": "#888",
          "width": 2
         },
         "mode": "lines",
         "type": "scatter",
         "x": [
          0.585256147026231,
          0.5718673573606404
         ],
         "y": [
          0.618092659464444,
          0.6398129806225091
         ]
        },
        {
         "line": {
          "color": "#888",
          "width": 2
         },
         "mode": "lines",
         "type": "scatter",
         "x": [
          0.585256147026231,
          0.49314081300944823
         ],
         "y": [
          0.618092659464444,
          0.757912418288161
         ]
        },
        {
         "line": {
          "color": "#888",
          "width": 2
         },
         "mode": "lines",
         "type": "scatter",
         "x": [
          0.585256147026231,
          0.44902667583539313
         ],
         "y": [
          0.618092659464444,
          0.5716071237041721
         ]
        },
        {
         "line": {
          "color": "#888",
          "width": 2
         },
         "mode": "lines",
         "type": "scatter",
         "x": [
          0.585256147026231,
          0.5412734001663441
         ],
         "y": [
          0.618092659464444,
          0.6067835368683082
         ]
        },
        {
         "line": {
          "color": "#000",
          "width": 2
         },
         "mode": "lines",
         "type": "scatter",
         "x": [
          0.585256147026231,
          0.44944708591754556
         ],
         "y": [
          0.618092659464444,
          0.5260975472518662
         ]
        },
        {
         "line": {
          "color": "#888",
          "width": 2
         },
         "mode": "lines",
         "type": "scatter",
         "x": [
          0.585256147026231,
          0.5305220419119321
         ],
         "y": [
          0.618092659464444,
          0.7294211544532321
         ]
        },
        {
         "line": {
          "color": "#888",
          "width": 2
         },
         "mode": "lines",
         "type": "scatter",
         "x": [
          0.4632297443602965,
          0.5689429573455235
         ],
         "y": [
          0.8760278725458803,
          0.9915754318815236
         ]
        },
        {
         "line": {
          "color": "#888",
          "width": 2
         },
         "mode": "lines",
         "type": "scatter",
         "x": [
          0.4632297443602965,
          0.5156646525646337
         ],
         "y": [
          0.8760278725458803,
          0.9939798234089425
         ]
        },
        {
         "line": {
          "color": "#000",
          "width": 2
         },
         "mode": "lines",
         "type": "scatter",
         "x": [
          0.4632297443602965,
          0.49314081300944823
         ],
         "y": [
          0.8760278725458803,
          0.757912418288161
         ]
        },
        {
         "line": {
          "color": "#888",
          "width": 2
         },
         "mode": "lines",
         "type": "scatter",
         "x": [
          0.4632297443602965,
          0.5577007318190512
         ],
         "y": [
          0.8760278725458803,
          0.8235982553434331
         ]
        },
        {
         "line": {
          "color": "#888",
          "width": 2
         },
         "mode": "lines",
         "type": "scatter",
         "x": [
          0.4632297443602965,
          0.2873250090471383
         ],
         "y": [
          0.8760278725458803,
          0.9539491214863909
         ]
        },
        {
         "line": {
          "color": "#888",
          "width": 2
         },
         "mode": "lines",
         "type": "scatter",
         "x": [
          0.4632297443602965,
          0.314679993143142
         ],
         "y": [
          0.8760278725458803,
          0.9139794714873382
         ]
        },
        {
         "line": {
          "color": "#888",
          "width": 2
         },
         "mode": "lines",
         "type": "scatter",
         "x": [
          0.4632297443602965,
          0.4855793361361087
         ],
         "y": [
          0.8760278725458803,
          0.9247633659914665
         ]
        },
        {
         "line": {
          "color": "#888",
          "width": 2
         },
         "mode": "lines",
         "type": "scatter",
         "x": [
          0.4632297443602965,
          0.5305220419119321
         ],
         "y": [
          0.8760278725458803,
          0.7294211544532321
         ]
        },
        {
         "line": {
          "color": "#888",
          "width": 2
         },
         "mode": "lines",
         "type": "scatter",
         "x": [
          0.823774673635579,
          0.8325476913136867
         ],
         "y": [
          0.5988734003588025,
          0.4188797207766546
         ]
        },
        {
         "line": {
          "color": "#888",
          "width": 2
         },
         "mode": "lines",
         "type": "scatter",
         "x": [
          0.823774673635579,
          0.675258284503646
         ],
         "y": [
          0.5988734003588025,
          0.6247352043392156
         ]
        },
        {
         "line": {
          "color": "#888",
          "width": 2
         },
         "mode": "lines",
         "type": "scatter",
         "x": [
          0.823774673635579,
          0.6649033646345931
         ],
         "y": [
          0.5988734003588025,
          0.4931610430683392
         ]
        },
        {
         "line": {
          "color": "#888",
          "width": 2
         },
         "mode": "lines",
         "type": "scatter",
         "x": [
          0.823774673635579,
          0.8462334357336598
         ],
         "y": [
          0.5988734003588025,
          0.4539896457440038
         ]
        },
        {
         "line": {
          "color": "#888",
          "width": 2
         },
         "mode": "lines",
         "type": "scatter",
         "x": [
          0.823774673635579,
          0.769477588826901
         ],
         "y": [
          0.5988734003588025,
          0.42502854267354784
         ]
        },
        {
         "line": {
          "color": "#000",
          "width": 2
         },
         "mode": "lines",
         "type": "scatter",
         "x": [
          0.823774673635579,
          0.9633417955223065
         ],
         "y": [
          0.5988734003588025,
          0.7209500187787788
         ]
        },
        {
         "line": {
          "color": "#888",
          "width": 2
         },
         "mode": "lines",
         "type": "scatter",
         "x": [
          0.8325476913136867,
          0.6649033646345931
         ],
         "y": [
          0.4188797207766546,
          0.4931610430683392
         ]
        },
        {
         "line": {
          "color": "#888",
          "width": 2
         },
         "mode": "lines",
         "type": "scatter",
         "x": [
          0.8325476913136867,
          0.9644425478097204
         ],
         "y": [
          0.4188797207766546,
          0.38098004873181157
         ]
        },
        {
         "line": {
          "color": "#888",
          "width": 2
         },
         "mode": "lines",
         "type": "scatter",
         "x": [
          0.8325476913136867,
          0.6952369465163732
         ],
         "y": [
          0.4188797207766546,
          0.3548773757600614
         ]
        },
        {
         "line": {
          "color": "#888",
          "width": 2
         },
         "mode": "lines",
         "type": "scatter",
         "x": [
          0.8325476913136867,
          0.8798798796074544
         ],
         "y": [
          0.4188797207766546,
          0.4002629624891759
         ]
        },
        {
         "line": {
          "color": "#888",
          "width": 2
         },
         "mode": "lines",
         "type": "scatter",
         "x": [
          0.8325476913136867,
          0.9485508831105348
         ],
         "y": [
          0.4188797207766546,
          0.39727080257111935
         ]
        },
        {
         "line": {
          "color": "#888",
          "width": 2
         },
         "mode": "lines",
         "type": "scatter",
         "x": [
          0.8325476913136867,
          0.8462334357336598
         ],
         "y": [
          0.4188797207766546,
          0.4539896457440038
         ]
        },
        {
         "line": {
          "color": "#888",
          "width": 2
         },
         "mode": "lines",
         "type": "scatter",
         "x": [
          0.8325476913136867,
          0.9377010162487383
         ],
         "y": [
          0.4188797207766546,
          0.3579725814811704
         ]
        },
        {
         "line": {
          "color": "#888",
          "width": 2
         },
         "mode": "lines",
         "type": "scatter",
         "x": [
          0.8325476913136867,
          0.9384822183871988
         ],
         "y": [
          0.4188797207766546,
          0.32913171626914794
         ]
        },
        {
         "line": {
          "color": "#888",
          "width": 2
         },
         "mode": "lines",
         "type": "scatter",
         "x": [
          0.8325476913136867,
          0.7784595970210797
         ],
         "y": [
          0.4188797207766546,
          0.3075493052731615
         ]
        },
        {
         "line": {
          "color": "#000",
          "width": 2
         },
         "mode": "lines",
         "type": "scatter",
         "x": [
          0.8325476913136867,
          0.769477588826901
         ],
         "y": [
          0.4188797207766546,
          0.42502854267354784
         ]
        },
        {
         "line": {
          "color": "#888",
          "width": 2
         },
         "mode": "lines",
         "type": "scatter",
         "x": [
          0.4267170365173295,
          0.2933694498827314
         ],
         "y": [
          0.5763551742614229,
          0.5827991157071999
         ]
        },
        {
         "line": {
          "color": "#888",
          "width": 2
         },
         "mode": "lines",
         "type": "scatter",
         "x": [
          0.4267170365173295,
          0.32673298966374276
         ],
         "y": [
          0.5763551742614229,
          0.701645882978895
         ]
        },
        {
         "line": {
          "color": "#888",
          "width": 2
         },
         "mode": "lines",
         "type": "scatter",
         "x": [
          0.4267170365173295,
          0.5718673573606404
         ],
         "y": [
          0.5763551742614229,
          0.6398129806225091
         ]
        },
        {
         "line": {
          "color": "#888",
          "width": 2
         },
         "mode": "lines",
         "type": "scatter",
         "x": [
          0.4267170365173295,
          0.49314081300944823
         ],
         "y": [
          0.5763551742614229,
          0.757912418288161
         ]
        },
        {
         "line": {
          "color": "#888",
          "width": 2
         },
         "mode": "lines",
         "type": "scatter",
         "x": [
          0.4267170365173295,
          0.44902667583539313
         ],
         "y": [
          0.5763551742614229,
          0.5716071237041721
         ]
        },
        {
         "line": {
          "color": "#888",
          "width": 2
         },
         "mode": "lines",
         "type": "scatter",
         "x": [
          0.4267170365173295,
          0.31403168127663794
         ],
         "y": [
          0.5763551742614229,
          0.6186185201811593
         ]
        },
        {
         "line": {
          "color": "#888",
          "width": 2
         },
         "mode": "lines",
         "type": "scatter",
         "x": [
          0.4267170365173295,
          0.5412734001663441
         ],
         "y": [
          0.5763551742614229,
          0.6067835368683082
         ]
        },
        {
         "line": {
          "color": "#888",
          "width": 2
         },
         "mode": "lines",
         "type": "scatter",
         "x": [
          0.4267170365173295,
          0.44944708591754556
         ],
         "y": [
          0.5763551742614229,
          0.5260975472518662
         ]
        },
        {
         "line": {
          "color": "#888",
          "width": 2
         },
         "mode": "lines",
         "type": "scatter",
         "x": [
          0.4267170365173295,
          0.5305220419119321
         ],
         "y": [
          0.5763551742614229,
          0.7294211544532321
         ]
        },
        {
         "line": {
          "color": "#888",
          "width": 2
         },
         "mode": "lines",
         "type": "scatter",
         "x": [
          0.675258284503646,
          0.6649033646345931
         ],
         "y": [
          0.6247352043392156,
          0.4931610430683392
         ]
        },
        {
         "line": {
          "color": "#888",
          "width": 2
         },
         "mode": "lines",
         "type": "scatter",
         "x": [
          0.675258284503646,
          0.5718673573606404
         ],
         "y": [
          0.6247352043392156,
          0.6398129806225091
         ]
        },
        {
         "line": {
          "color": "#888",
          "width": 2
         },
         "mode": "lines",
         "type": "scatter",
         "x": [
          0.675258284503646,
          0.5412734001663441
         ],
         "y": [
          0.6247352043392156,
          0.6067835368683082
         ]
        },
        {
         "line": {
          "color": "#888",
          "width": 2
         },
         "mode": "lines",
         "type": "scatter",
         "x": [
          0.675258284503646,
          0.5305220419119321
         ],
         "y": [
          0.6247352043392156,
          0.7294211544532321
         ]
        },
        {
         "line": {
          "color": "#888",
          "width": 2
         },
         "mode": "lines",
         "type": "scatter",
         "x": [
          0.6649033646345931,
          0.5718673573606404
         ],
         "y": [
          0.4931610430683392,
          0.6398129806225091
         ]
        },
        {
         "line": {
          "color": "#888",
          "width": 2
         },
         "mode": "lines",
         "type": "scatter",
         "x": [
          0.6649033646345931,
          0.6952369465163732
         ],
         "y": [
          0.4931610430683392,
          0.3548773757600614
         ]
        },
        {
         "line": {
          "color": "#888",
          "width": 2
         },
         "mode": "lines",
         "type": "scatter",
         "x": [
          0.6649033646345931,
          0.8462334357336598
         ],
         "y": [
          0.4931610430683392,
          0.4539896457440038
         ]
        },
        {
         "line": {
          "color": "#888",
          "width": 2
         },
         "mode": "lines",
         "type": "scatter",
         "x": [
          0.6649033646345931,
          0.5412734001663441
         ],
         "y": [
          0.4931610430683392,
          0.6067835368683082
         ]
        },
        {
         "line": {
          "color": "#000",
          "width": 2
         },
         "mode": "lines",
         "type": "scatter",
         "x": [
          0.6649033646345931,
          0.769477588826901
         ],
         "y": [
          0.4931610430683392,
          0.42502854267354784
         ]
        },
        {
         "line": {
          "color": "#888",
          "width": 2
         },
         "mode": "lines",
         "type": "scatter",
         "x": [
          0.2933694498827314,
          0.32673298966374276
         ],
         "y": [
          0.5827991157071999,
          0.701645882978895
         ]
        },
        {
         "line": {
          "color": "#000",
          "width": 2
         },
         "mode": "lines",
         "type": "scatter",
         "x": [
          0.2933694498827314,
          0.18001223690148538
         ],
         "y": [
          0.5827991157071999,
          0.5537816338285477
         ]
        },
        {
         "line": {
          "color": "#888",
          "width": 2
         },
         "mode": "lines",
         "type": "scatter",
         "x": [
          0.2933694498827314,
          0.44902667583539313
         ],
         "y": [
          0.5827991157071999,
          0.5716071237041721
         ]
        },
        {
         "line": {
          "color": "#000",
          "width": 2
         },
         "mode": "lines",
         "type": "scatter",
         "x": [
          0.2933694498827314,
          0.31403168127663794
         ],
         "y": [
          0.5827991157071999,
          0.6186185201811593
         ]
        },
        {
         "line": {
          "color": "#888",
          "width": 2
         },
         "mode": "lines",
         "type": "scatter",
         "x": [
          0.2933694498827314,
          0.11720174977424747
         ],
         "y": [
          0.5827991157071999,
          0.6107120416405764
         ]
        },
        {
         "line": {
          "color": "#888",
          "width": 2
         },
         "mode": "lines",
         "type": "scatter",
         "x": [
          0.2933694498827314,
          0.44944708591754556
         ],
         "y": [
          0.5827991157071999,
          0.5260975472518662
         ]
        },
        {
         "line": {
          "color": "#888",
          "width": 2
         },
         "mode": "lines",
         "type": "scatter",
         "x": [
          0.8842481709412524,
          0.9242689823754415
         ],
         "y": [
          0.16905824288095372,
          0.1679558582929378
         ]
        },
        {
         "line": {
          "color": "#000",
          "width": 2
         },
         "mode": "lines",
         "type": "scatter",
         "x": [
          0.8842481709412524,
          0.7112203160460792
         ],
         "y": [
          0.16905824288095372,
          0.15031734296416976
         ]
        },
        {
         "line": {
          "color": "#000",
          "width": 2
         },
         "mode": "lines",
         "type": "scatter",
         "x": [
          0.8842481709412524,
          0.7358453620707668
         ],
         "y": [
          0.16905824288095372,
          0.15191952995909896
         ]
        },
        {
         "line": {
          "color": "#000",
          "width": 2
         },
         "mode": "lines",
         "type": "scatter",
         "x": [
          0.8842481709412524,
          0.8766121592113929
         ],
         "y": [
          0.16905824288095372,
          0.12920566295273028
         ]
        },
        {
         "line": {
          "color": "#000",
          "width": 2
         },
         "mode": "lines",
         "type": "scatter",
         "x": [
          0.8842481709412524,
          0.8766707019852795
         ],
         "y": [
          0.16905824288095372,
          0.08503746116985567
         ]
        },
        {
         "line": {
          "color": "#000",
          "width": 2
         },
         "mode": "lines",
         "type": "scatter",
         "x": [
          0.8842481709412524,
          0.9377010162487383
         ],
         "y": [
          0.16905824288095372,
          0.3579725814811704
         ]
        },
        {
         "line": {
          "color": "#000",
          "width": 2
         },
         "mode": "lines",
         "type": "scatter",
         "x": [
          0.8842481709412524,
          0.9384822183871988
         ],
         "y": [
          0.16905824288095372,
          0.32913171626914794
         ]
        },
        {
         "line": {
          "color": "#888",
          "width": 2
         },
         "mode": "lines",
         "type": "scatter",
         "x": [
          0.8842481709412524,
          0.7784595970210797
         ],
         "y": [
          0.16905824288095372,
          0.3075493052731615
         ]
        },
        {
         "line": {
          "color": "#000",
          "width": 2
         },
         "mode": "lines",
         "type": "scatter",
         "x": [
          0.8842481709412524,
          0.7662381476610111
         ],
         "y": [
          0.16905824288095372,
          0.0878319349438742
         ]
        },
        {
         "line": {
          "color": "#888",
          "width": 2
         },
         "mode": "lines",
         "type": "scatter",
         "x": [
          0.32673298966374276,
          0.49314081300944823
         ],
         "y": [
          0.701645882978895,
          0.757912418288161
         ]
        },
        {
         "line": {
          "color": "#888",
          "width": 2
         },
         "mode": "lines",
         "type": "scatter",
         "x": [
          0.32673298966374276,
          0.44902667583539313
         ],
         "y": [
          0.701645882978895,
          0.5716071237041721
         ]
        },
        {
         "line": {
          "color": "#888",
          "width": 2
         },
         "mode": "lines",
         "type": "scatter",
         "x": [
          0.32673298966374276,
          0.31403168127663794
         ],
         "y": [
          0.701645882978895,
          0.6186185201811593
         ]
        },
        {
         "line": {
          "color": "#888",
          "width": 2
         },
         "mode": "lines",
         "type": "scatter",
         "x": [
          0.32673298966374276,
          0.24743420931889692
         ],
         "y": [
          0.701645882978895,
          0.8321776710859072
         ]
        },
        {
         "line": {
          "color": "#888",
          "width": 2
         },
         "mode": "lines",
         "type": "scatter",
         "x": [
          0.9242689823754415,
          0.7358453620707668
         ],
         "y": [
          0.1679558582929378,
          0.15191952995909896
         ]
        },
        {
         "line": {
          "color": "#888",
          "width": 2
         },
         "mode": "lines",
         "type": "scatter",
         "x": [
          0.9242689823754415,
          0.8766121592113929
         ],
         "y": [
          0.1679558582929378,
          0.12920566295273028
         ]
        },
        {
         "line": {
          "color": "#888",
          "width": 2
         },
         "mode": "lines",
         "type": "scatter",
         "x": [
          0.9242689823754415,
          0.8766707019852795
         ],
         "y": [
          0.1679558582929378,
          0.08503746116985567
         ]
        },
        {
         "line": {
          "color": "#888",
          "width": 2
         },
         "mode": "lines",
         "type": "scatter",
         "x": [
          0.9242689823754415,
          0.9377010162487383
         ],
         "y": [
          0.1679558582929378,
          0.3579725814811704
         ]
        },
        {
         "line": {
          "color": "#888",
          "width": 2
         },
         "mode": "lines",
         "type": "scatter",
         "x": [
          0.9242689823754415,
          0.9384822183871988
         ],
         "y": [
          0.1679558582929378,
          0.32913171626914794
         ]
        },
        {
         "line": {
          "color": "#888",
          "width": 2
         },
         "mode": "lines",
         "type": "scatter",
         "x": [
          0.9242689823754415,
          0.7662381476610111
         ],
         "y": [
          0.1679558582929378,
          0.0878319349438742
         ]
        },
        {
         "line": {
          "color": "#888",
          "width": 2
         },
         "mode": "lines",
         "type": "scatter",
         "x": [
          0.623806176300654,
          0.7112203160460792
         ],
         "y": [
          0.28184182070568864,
          0.15031734296416976
         ]
        },
        {
         "line": {
          "color": "#888",
          "width": 2
         },
         "mode": "lines",
         "type": "scatter",
         "x": [
          0.623806176300654,
          0.7358453620707668
         ],
         "y": [
          0.28184182070568864,
          0.15191952995909896
         ]
        },
        {
         "line": {
          "color": "#000",
          "width": 2
         },
         "mode": "lines",
         "type": "scatter",
         "x": [
          0.623806176300654,
          0.6952369465163732
         ],
         "y": [
          0.28184182070568864,
          0.3548773757600614
         ]
        },
        {
         "line": {
          "color": "#888",
          "width": 2
         },
         "mode": "lines",
         "type": "scatter",
         "x": [
          0.623806176300654,
          0.4900563790888437
         ],
         "y": [
          0.28184182070568864,
          0.2869144284533628
         ]
        },
        {
         "line": {
          "color": "#888",
          "width": 2
         },
         "mode": "lines",
         "type": "scatter",
         "x": [
          0.623806176300654,
          0.7784595970210797
         ],
         "y": [
          0.28184182070568864,
          0.3075493052731615
         ]
        },
        {
         "line": {
          "color": "#888",
          "width": 2
         },
         "mode": "lines",
         "type": "scatter",
         "x": [
          0.5689429573455235,
          0.5156646525646337
         ],
         "y": [
          0.9915754318815236,
          0.9939798234089425
         ]
        },
        {
         "line": {
          "color": "#888",
          "width": 2
         },
         "mode": "lines",
         "type": "scatter",
         "x": [
          0.5689429573455235,
          0.6795832989994791
         ],
         "y": [
          0.9915754318815236,
          0.8401957968587838
         ]
        },
        {
         "line": {
          "color": "#888",
          "width": 2
         },
         "mode": "lines",
         "type": "scatter",
         "x": [
          0.5689429573455235,
          0.5577007318190512
         ],
         "y": [
          0.9915754318815236,
          0.8235982553434331
         ]
        },
        {
         "line": {
          "color": "#888",
          "width": 2
         },
         "mode": "lines",
         "type": "scatter",
         "x": [
          0.5689429573455235,
          0.4855793361361087
         ],
         "y": [
          0.9915754318815236,
          0.9247633659914665
         ]
        },
        {
         "line": {
          "color": "#888",
          "width": 2
         },
         "mode": "lines",
         "type": "scatter",
         "x": [
          0.3448674154339495,
          0.39166073066632956
         ],
         "y": [
          0.10337498556392433,
          0.2006582161640329
         ]
        },
        {
         "line": {
          "color": "#888",
          "width": 2
         },
         "mode": "lines",
         "type": "scatter",
         "x": [
          0.3448674154339495,
          0.21078612818592313
         ],
         "y": [
          0.10337498556392433,
          0.08892132145228904
         ]
        },
        {
         "line": {
          "color": "#888",
          "width": 2
         },
         "mode": "lines",
         "type": "scatter",
         "x": [
          0.3448674154339495,
          0.2799213055800198
         ],
         "y": [
          0.10337498556392433,
          0.2450640323420864
         ]
        },
        {
         "line": {
          "color": "#888",
          "width": 2
         },
         "mode": "lines",
         "type": "scatter",
         "x": [
          0.3448674154339495,
          0.3329610009202226
         ],
         "y": [
          0.10337498556392433,
          0.013233631082401609
         ]
        },
        {
         "line": {
          "color": "#888",
          "width": 2
         },
         "mode": "lines",
         "type": "scatter",
         "x": [
          0.3448674154339495,
          0.34707755736916823
         ],
         "y": [
          0.10337498556392433,
          0.1211642843059646
         ]
        },
        {
         "line": {
          "color": "#888",
          "width": 2
         },
         "mode": "lines",
         "type": "scatter",
         "x": [
          0.3448674154339495,
          0.27707588665167504
         ],
         "y": [
          0.10337498556392433,
          0.07641225593368017
         ]
        },
        {
         "line": {
          "color": "#888",
          "width": 2
         },
         "mode": "lines",
         "type": "scatter",
         "x": [
          0.7112203160460792,
          0.7358453620707668
         ],
         "y": [
          0.15031734296416976,
          0.15191952995909896
         ]
        },
        {
         "line": {
          "color": "#888",
          "width": 2
         },
         "mode": "lines",
         "type": "scatter",
         "x": [
          0.7112203160460792,
          0.8766121592113929
         ],
         "y": [
          0.15031734296416976,
          0.12920566295273028
         ]
        },
        {
         "line": {
          "color": "#888",
          "width": 2
         },
         "mode": "lines",
         "type": "scatter",
         "x": [
          0.7112203160460792,
          0.8766707019852795
         ],
         "y": [
          0.15031734296416976,
          0.08503746116985567
         ]
        },
        {
         "line": {
          "color": "#888",
          "width": 2
         },
         "mode": "lines",
         "type": "scatter",
         "x": [
          0.7112203160460792,
          0.6887606544279138
         ],
         "y": [
          0.15031734296416976,
          0.030324426593847487
         ]
        },
        {
         "line": {
          "color": "#888",
          "width": 2
         },
         "mode": "lines",
         "type": "scatter",
         "x": [
          0.7112203160460792,
          0.7784595970210797
         ],
         "y": [
          0.15031734296416976,
          0.3075493052731615
         ]
        },
        {
         "line": {
          "color": "#888",
          "width": 2
         },
         "mode": "lines",
         "type": "scatter",
         "x": [
          0.7112203160460792,
          0.7662381476610111
         ],
         "y": [
          0.15031734296416976,
          0.0878319349438742
         ]
        },
        {
         "line": {
          "color": "#888",
          "width": 2
         },
         "mode": "lines",
         "type": "scatter",
         "x": [
          0.7358453620707668,
          0.8766121592113929
         ],
         "y": [
          0.15191952995909896,
          0.12920566295273028
         ]
        },
        {
         "line": {
          "color": "#888",
          "width": 2
         },
         "mode": "lines",
         "type": "scatter",
         "x": [
          0.7358453620707668,
          0.8766707019852795
         ],
         "y": [
          0.15191952995909896,
          0.08503746116985567
         ]
        },
        {
         "line": {
          "color": "#888",
          "width": 2
         },
         "mode": "lines",
         "type": "scatter",
         "x": [
          0.7358453620707668,
          0.6887606544279138
         ],
         "y": [
          0.15191952995909896,
          0.030324426593847487
         ]
        },
        {
         "line": {
          "color": "#888",
          "width": 2
         },
         "mode": "lines",
         "type": "scatter",
         "x": [
          0.7358453620707668,
          0.7784595970210797
         ],
         "y": [
          0.15191952995909896,
          0.3075493052731615
         ]
        },
        {
         "line": {
          "color": "#888",
          "width": 2
         },
         "mode": "lines",
         "type": "scatter",
         "x": [
          0.7358453620707668,
          0.7662381476610111
         ],
         "y": [
          0.15191952995909896,
          0.0878319349438742
         ]
        },
        {
         "line": {
          "color": "#888",
          "width": 2
         },
         "mode": "lines",
         "type": "scatter",
         "x": [
          0.9644425478097204,
          0.8798798796074544
         ],
         "y": [
          0.38098004873181157,
          0.4002629624891759
         ]
        },
        {
         "line": {
          "color": "#888",
          "width": 2
         },
         "mode": "lines",
         "type": "scatter",
         "x": [
          0.9644425478097204,
          0.9485508831105348
         ],
         "y": [
          0.38098004873181157,
          0.39727080257111935
         ]
        },
        {
         "line": {
          "color": "#888",
          "width": 2
         },
         "mode": "lines",
         "type": "scatter",
         "x": [
          0.9644425478097204,
          0.8462334357336598
         ],
         "y": [
          0.38098004873181157,
          0.4539896457440038
         ]
        },
        {
         "line": {
          "color": "#888",
          "width": 2
         },
         "mode": "lines",
         "type": "scatter",
         "x": [
          0.9644425478097204,
          0.9377010162487383
         ],
         "y": [
          0.38098004873181157,
          0.3579725814811704
         ]
        },
        {
         "line": {
          "color": "#888",
          "width": 2
         },
         "mode": "lines",
         "type": "scatter",
         "x": [
          0.9644425478097204,
          0.9384822183871988
         ],
         "y": [
          0.38098004873181157,
          0.32913171626914794
         ]
        },
        {
         "line": {
          "color": "#888",
          "width": 2
         },
         "mode": "lines",
         "type": "scatter",
         "x": [
          0.9644425478097204,
          0.7784595970210797
         ],
         "y": [
          0.38098004873181157,
          0.3075493052731615
         ]
        },
        {
         "line": {
          "color": "#888",
          "width": 2
         },
         "mode": "lines",
         "type": "scatter",
         "x": [
          0.9644425478097204,
          0.769477588826901
         ],
         "y": [
          0.38098004873181157,
          0.42502854267354784
         ]
        },
        {
         "line": {
          "color": "#888",
          "width": 2
         },
         "mode": "lines",
         "type": "scatter",
         "x": [
          0.005747809805558446,
          0.11720174977424747
         ],
         "y": [
          0.6688347593535136,
          0.6107120416405764
         ]
        },
        {
         "line": {
          "color": "#888",
          "width": 2
         },
         "mode": "lines",
         "type": "scatter",
         "x": [
          0.005747809805558446,
          0.026033207082985843
         ],
         "y": [
          0.6688347593535136,
          0.6572148320388425
         ]
        },
        {
         "line": {
          "color": "#888",
          "width": 2
         },
         "mode": "lines",
         "type": "scatter",
         "x": [
          0.005747809805558446,
          0.06380841169396878
         ],
         "y": [
          0.6688347593535136,
          0.7477039761397088
         ]
        },
        {
         "line": {
          "color": "#888",
          "width": 2
         },
         "mode": "lines",
         "type": "scatter",
         "x": [
          0.9399081751857669,
          0.8261215356797782
         ],
         "y": [
          0.9747089609152998,
          0.8646750867368155
         ]
        },
        {
         "line": {
          "color": "#000",
          "width": 2
         },
         "mode": "lines",
         "type": "scatter",
         "x": [
          0.5718673573606404,
          0.49314081300944823
         ],
         "y": [
          0.6398129806225091,
          0.757912418288161
         ]
        },
        {
         "line": {
          "color": "#888",
          "width": 2
         },
         "mode": "lines",
         "type": "scatter",
         "x": [
          0.5718673573606404,
          0.5577007318190512
         ],
         "y": [
          0.6398129806225091,
          0.8235982553434331
         ]
        },
        {
         "line": {
          "color": "#888",
          "width": 2
         },
         "mode": "lines",
         "type": "scatter",
         "x": [
          0.5718673573606404,
          0.44902667583539313
         ],
         "y": [
          0.6398129806225091,
          0.5716071237041721
         ]
        },
        {
         "line": {
          "color": "#888",
          "width": 2
         },
         "mode": "lines",
         "type": "scatter",
         "x": [
          0.5718673573606404,
          0.5412734001663441
         ],
         "y": [
          0.6398129806225091,
          0.6067835368683082
         ]
        },
        {
         "line": {
          "color": "#000",
          "width": 2
         },
         "mode": "lines",
         "type": "scatter",
         "x": [
          0.5718673573606404,
          0.44944708591754556
         ],
         "y": [
          0.6398129806225091,
          0.5260975472518662
         ]
        },
        {
         "line": {
          "color": "#888",
          "width": 2
         },
         "mode": "lines",
         "type": "scatter",
         "x": [
          0.5718673573606404,
          0.5305220419119321
         ],
         "y": [
          0.6398129806225091,
          0.7294211544532321
         ]
        },
        {
         "line": {
          "color": "#888",
          "width": 2
         },
         "mode": "lines",
         "type": "scatter",
         "x": [
          0.8766121592113929,
          0.8766707019852795
         ],
         "y": [
          0.12920566295273028,
          0.08503746116985567
         ]
        },
        {
         "line": {
          "color": "#888",
          "width": 2
         },
         "mode": "lines",
         "type": "scatter",
         "x": [
          0.8766121592113929,
          0.7662381476610111
         ],
         "y": [
          0.12920566295273028,
          0.0878319349438742
         ]
        },
        {
         "line": {
          "color": "#888",
          "width": 2
         },
         "mode": "lines",
         "type": "scatter",
         "x": [
          0.4104146654695472,
          0.39166073066632956
         ],
         "y": [
          0.3128364238574487,
          0.2006582161640329
         ]
        },
        {
         "line": {
          "color": "#888",
          "width": 2
         },
         "mode": "lines",
         "type": "scatter",
         "x": [
          0.4104146654695472,
          0.4900563790888437
         ],
         "y": [
          0.3128364238574487,
          0.2869144284533628
         ]
        },
        {
         "line": {
          "color": "#888",
          "width": 2
         },
         "mode": "lines",
         "type": "scatter",
         "x": [
          0.4104146654695472,
          0.2799213055800198
         ],
         "y": [
          0.3128364238574487,
          0.2450640323420864
         ]
        },
        {
         "line": {
          "color": "#888",
          "width": 2
         },
         "mode": "lines",
         "type": "scatter",
         "x": [
          0.4104146654695472,
          0.2689421597550534
         ],
         "y": [
          0.3128364238574487,
          0.30508486962479
         ]
        },
        {
         "line": {
          "color": "#888",
          "width": 2
         },
         "mode": "lines",
         "type": "scatter",
         "x": [
          0.6952369465163732,
          0.8798798796074544
         ],
         "y": [
          0.3548773757600614,
          0.4002629624891759
         ]
        },
        {
         "line": {
          "color": "#888",
          "width": 2
         },
         "mode": "lines",
         "type": "scatter",
         "x": [
          0.6952369465163732,
          0.8462334357336598
         ],
         "y": [
          0.3548773757600614,
          0.4539896457440038
         ]
        },
        {
         "line": {
          "color": "#888",
          "width": 2
         },
         "mode": "lines",
         "type": "scatter",
         "x": [
          0.6952369465163732,
          0.7784595970210797
         ],
         "y": [
          0.3548773757600614,
          0.3075493052731615
         ]
        },
        {
         "line": {
          "color": "#888",
          "width": 2
         },
         "mode": "lines",
         "type": "scatter",
         "x": [
          0.6952369465163732,
          0.769477588826901
         ],
         "y": [
          0.3548773757600614,
          0.42502854267354784
         ]
        },
        {
         "line": {
          "color": "#888",
          "width": 2
         },
         "mode": "lines",
         "type": "scatter",
         "x": [
          0.5156646525646337,
          0.5577007318190512
         ],
         "y": [
          0.9939798234089425,
          0.8235982553434331
         ]
        },
        {
         "line": {
          "color": "#888",
          "width": 2
         },
         "mode": "lines",
         "type": "scatter",
         "x": [
          0.5156646525646337,
          0.4855793361361087
         ],
         "y": [
          0.9939798234089425,
          0.9247633659914665
         ]
        },
        {
         "line": {
          "color": "#888",
          "width": 2
         },
         "mode": "lines",
         "type": "scatter",
         "x": [
          0.8261215356797782,
          0.6795832989994791
         ],
         "y": [
          0.8646750867368155,
          0.8401957968587838
         ]
        },
        {
         "line": {
          "color": "#888",
          "width": 2
         },
         "mode": "lines",
         "type": "scatter",
         "x": [
          0.8261215356797782,
          0.8068003362450938
         ],
         "y": [
          0.8646750867368155,
          0.8174416849399618
         ]
        },
        {
         "line": {
          "color": "#888",
          "width": 2
         },
         "mode": "lines",
         "type": "scatter",
         "x": [
          0.8261215356797782,
          0.9633417955223065
         ],
         "y": [
          0.8646750867368155,
          0.7209500187787788
         ]
        },
        {
         "line": {
          "color": "#888",
          "width": 2
         },
         "mode": "lines",
         "type": "scatter",
         "x": [
          0.39166073066632956,
          0.4900563790888437
         ],
         "y": [
          0.2006582161640329,
          0.2869144284533628
         ]
        },
        {
         "line": {
          "color": "#888",
          "width": 2
         },
         "mode": "lines",
         "type": "scatter",
         "x": [
          0.39166073066632956,
          0.2799213055800198
         ],
         "y": [
          0.2006582161640329,
          0.2450640323420864
         ]
        },
        {
         "line": {
          "color": "#888",
          "width": 2
         },
         "mode": "lines",
         "type": "scatter",
         "x": [
          0.39166073066632956,
          0.3329610009202226
         ],
         "y": [
          0.2006582161640329,
          0.013233631082401609
         ]
        },
        {
         "line": {
          "color": "#888",
          "width": 2
         },
         "mode": "lines",
         "type": "scatter",
         "x": [
          0.39166073066632956,
          0.34707755736916823
         ],
         "y": [
          0.2006582161640329,
          0.1211642843059646
         ]
        },
        {
         "line": {
          "color": "#888",
          "width": 2
         },
         "mode": "lines",
         "type": "scatter",
         "x": [
          0.39166073066632956,
          0.2689421597550534
         ],
         "y": [
          0.2006582161640329,
          0.30508486962479
         ]
        },
        {
         "line": {
          "color": "#888",
          "width": 2
         },
         "mode": "lines",
         "type": "scatter",
         "x": [
          0.39166073066632956,
          0.27707588665167504
         ],
         "y": [
          0.2006582161640329,
          0.07641225593368017
         ]
        },
        {
         "line": {
          "color": "#000",
          "width": 2
         },
         "mode": "lines",
         "type": "scatter",
         "x": [
          0.49314081300944823,
          0.5577007318190512
         ],
         "y": [
          0.757912418288161,
          0.8235982553434331
         ]
        },
        {
         "line": {
          "color": "#888",
          "width": 2
         },
         "mode": "lines",
         "type": "scatter",
         "x": [
          0.49314081300944823,
          0.44902667583539313
         ],
         "y": [
          0.757912418288161,
          0.5716071237041721
         ]
        },
        {
         "line": {
          "color": "#888",
          "width": 2
         },
         "mode": "lines",
         "type": "scatter",
         "x": [
          0.49314081300944823,
          0.5412734001663441
         ],
         "y": [
          0.757912418288161,
          0.6067835368683082
         ]
        },
        {
         "line": {
          "color": "#000",
          "width": 2
         },
         "mode": "lines",
         "type": "scatter",
         "x": [
          0.49314081300944823,
          0.4855793361361087
         ],
         "y": [
          0.757912418288161,
          0.9247633659914665
         ]
        },
        {
         "line": {
          "color": "#888",
          "width": 2
         },
         "mode": "lines",
         "type": "scatter",
         "x": [
          0.49314081300944823,
          0.5305220419119321
         ],
         "y": [
          0.757912418288161,
          0.7294211544532321
         ]
        },
        {
         "line": {
          "color": "#888",
          "width": 2
         },
         "mode": "lines",
         "type": "scatter",
         "x": [
          0.8798798796074544,
          0.9485508831105348
         ],
         "y": [
          0.4002629624891759,
          0.39727080257111935
         ]
        },
        {
         "line": {
          "color": "#888",
          "width": 2
         },
         "mode": "lines",
         "type": "scatter",
         "x": [
          0.8798798796074544,
          0.8462334357336598
         ],
         "y": [
          0.4002629624891759,
          0.4539896457440038
         ]
        },
        {
         "line": {
          "color": "#888",
          "width": 2
         },
         "mode": "lines",
         "type": "scatter",
         "x": [
          0.8798798796074544,
          0.9377010162487383
         ],
         "y": [
          0.4002629624891759,
          0.3579725814811704
         ]
        },
        {
         "line": {
          "color": "#888",
          "width": 2
         },
         "mode": "lines",
         "type": "scatter",
         "x": [
          0.8798798796074544,
          0.9384822183871988
         ],
         "y": [
          0.4002629624891759,
          0.32913171626914794
         ]
        },
        {
         "line": {
          "color": "#888",
          "width": 2
         },
         "mode": "lines",
         "type": "scatter",
         "x": [
          0.8798798796074544,
          0.7784595970210797
         ],
         "y": [
          0.4002629624891759,
          0.3075493052731615
         ]
        },
        {
         "line": {
          "color": "#000",
          "width": 2
         },
         "mode": "lines",
         "type": "scatter",
         "x": [
          0.8798798796074544,
          0.769477588826901
         ],
         "y": [
          0.4002629624891759,
          0.42502854267354784
         ]
        },
        {
         "line": {
          "color": "#888",
          "width": 2
         },
         "mode": "lines",
         "type": "scatter",
         "x": [
          0.9485508831105348,
          0.8462334357336598
         ],
         "y": [
          0.39727080257111935,
          0.4539896457440038
         ]
        },
        {
         "line": {
          "color": "#888",
          "width": 2
         },
         "mode": "lines",
         "type": "scatter",
         "x": [
          0.9485508831105348,
          0.9377010162487383
         ],
         "y": [
          0.39727080257111935,
          0.3579725814811704
         ]
        },
        {
         "line": {
          "color": "#888",
          "width": 2
         },
         "mode": "lines",
         "type": "scatter",
         "x": [
          0.9485508831105348,
          0.9384822183871988
         ],
         "y": [
          0.39727080257111935,
          0.32913171626914794
         ]
        },
        {
         "line": {
          "color": "#888",
          "width": 2
         },
         "mode": "lines",
         "type": "scatter",
         "x": [
          0.9485508831105348,
          0.7784595970210797
         ],
         "y": [
          0.39727080257111935,
          0.3075493052731615
         ]
        },
        {
         "line": {
          "color": "#888",
          "width": 2
         },
         "mode": "lines",
         "type": "scatter",
         "x": [
          0.9485508831105348,
          0.769477588826901
         ],
         "y": [
          0.39727080257111935,
          0.42502854267354784
         ]
        },
        {
         "line": {
          "color": "#888",
          "width": 2
         },
         "mode": "lines",
         "type": "scatter",
         "x": [
          0.6795832989994791,
          0.5577007318190512
         ],
         "y": [
          0.8401957968587838,
          0.8235982553434331
         ]
        },
        {
         "line": {
          "color": "#888",
          "width": 2
         },
         "mode": "lines",
         "type": "scatter",
         "x": [
          0.6795832989994791,
          0.8068003362450938
         ],
         "y": [
          0.8401957968587838,
          0.8174416849399618
         ]
        },
        {
         "line": {
          "color": "#888",
          "width": 2
         },
         "mode": "lines",
         "type": "scatter",
         "x": [
          0.6795832989994791,
          0.5305220419119321
         ],
         "y": [
          0.8401957968587838,
          0.7294211544532321
         ]
        },
        {
         "line": {
          "color": "#888",
          "width": 2
         },
         "mode": "lines",
         "type": "scatter",
         "x": [
          0.5577007318190512,
          0.4855793361361087
         ],
         "y": [
          0.8235982553434331,
          0.9247633659914665
         ]
        },
        {
         "line": {
          "color": "#888",
          "width": 2
         },
         "mode": "lines",
         "type": "scatter",
         "x": [
          0.5577007318190512,
          0.5305220419119321
         ],
         "y": [
          0.8235982553434331,
          0.7294211544532321
         ]
        },
        {
         "line": {
          "color": "#888",
          "width": 2
         },
         "mode": "lines",
         "type": "scatter",
         "x": [
          0.8462334357336598,
          0.9377010162487383
         ],
         "y": [
          0.4539896457440038,
          0.3579725814811704
         ]
        },
        {
         "line": {
          "color": "#888",
          "width": 2
         },
         "mode": "lines",
         "type": "scatter",
         "x": [
          0.8462334357336598,
          0.9384822183871988
         ],
         "y": [
          0.4539896457440038,
          0.32913171626914794
         ]
        },
        {
         "line": {
          "color": "#888",
          "width": 2
         },
         "mode": "lines",
         "type": "scatter",
         "x": [
          0.8462334357336598,
          0.7784595970210797
         ],
         "y": [
          0.4539896457440038,
          0.3075493052731615
         ]
        },
        {
         "line": {
          "color": "#888",
          "width": 2
         },
         "mode": "lines",
         "type": "scatter",
         "x": [
          0.8462334357336598,
          0.769477588826901
         ],
         "y": [
          0.4539896457440038,
          0.42502854267354784
         ]
        },
        {
         "line": {
          "color": "#888",
          "width": 2
         },
         "mode": "lines",
         "type": "scatter",
         "x": [
          0.8766707019852795,
          0.6887606544279138
         ],
         "y": [
          0.08503746116985567,
          0.030324426593847487
         ]
        },
        {
         "line": {
          "color": "#888",
          "width": 2
         },
         "mode": "lines",
         "type": "scatter",
         "x": [
          0.8766707019852795,
          0.7662381476610111
         ],
         "y": [
          0.08503746116985567,
          0.0878319349438742
         ]
        },
        {
         "line": {
          "color": "#888",
          "width": 2
         },
         "mode": "lines",
         "type": "scatter",
         "x": [
          0.21078612818592313,
          0.2799213055800198
         ],
         "y": [
          0.08892132145228904,
          0.2450640323420864
         ]
        },
        {
         "line": {
          "color": "#888",
          "width": 2
         },
         "mode": "lines",
         "type": "scatter",
         "x": [
          0.21078612818592313,
          0.3329610009202226
         ],
         "y": [
          0.08892132145228904,
          0.013233631082401609
         ]
        },
        {
         "line": {
          "color": "#888",
          "width": 2
         },
         "mode": "lines",
         "type": "scatter",
         "x": [
          0.21078612818592313,
          0.34707755736916823
         ],
         "y": [
          0.08892132145228904,
          0.1211642843059646
         ]
        },
        {
         "line": {
          "color": "#888",
          "width": 2
         },
         "mode": "lines",
         "type": "scatter",
         "x": [
          0.21078612818592313,
          0.27707588665167504
         ],
         "y": [
          0.08892132145228904,
          0.07641225593368017
         ]
        },
        {
         "line": {
          "color": "#000",
          "width": 2
         },
         "mode": "lines",
         "type": "scatter",
         "x": [
          0.2873250090471383,
          0.20676791869407407
         ],
         "y": [
          0.9539491214863909,
          0.8817895171673152
         ]
        },
        {
         "line": {
          "color": "#000",
          "width": 2
         },
         "mode": "lines",
         "type": "scatter",
         "x": [
          0.2873250090471383,
          0.1623346322967023
         ],
         "y": [
          0.9539491214863909,
          0.9289871191781693
         ]
        },
        {
         "line": {
          "color": "#888",
          "width": 2
         },
         "mode": "lines",
         "type": "scatter",
         "x": [
          0.2873250090471383,
          0.24743420931889692
         ],
         "y": [
          0.9539491214863909,
          0.8321776710859072
         ]
        },
        {
         "line": {
          "color": "#888",
          "width": 2
         },
         "mode": "lines",
         "type": "scatter",
         "x": [
          0.2873250090471383,
          0.314679993143142
         ],
         "y": [
          0.9539491214863909,
          0.9139794714873382
         ]
        },
        {
         "line": {
          "color": "#000",
          "width": 2
         },
         "mode": "lines",
         "type": "scatter",
         "x": [
          0.18001223690148538,
          0.31403168127663794
         ],
         "y": [
          0.5537816338285477,
          0.6186185201811593
         ]
        },
        {
         "line": {
          "color": "#000",
          "width": 2
         },
         "mode": "lines",
         "type": "scatter",
         "x": [
          0.18001223690148538,
          0.11720174977424747
         ],
         "y": [
          0.5537816338285477,
          0.6107120416405764
         ]
        },
        {
         "line": {
          "color": "#888",
          "width": 2
         },
         "mode": "lines",
         "type": "scatter",
         "x": [
          0.18001223690148538,
          0.026033207082985843
         ],
         "y": [
          0.5537816338285477,
          0.6572148320388425
         ]
        },
        {
         "line": {
          "color": "#000",
          "width": 2
         },
         "mode": "lines",
         "type": "scatter",
         "x": [
          0.20676791869407407,
          0.1623346322967023
         ],
         "y": [
          0.8817895171673152,
          0.9289871191781693
         ]
        },
        {
         "line": {
          "color": "#000",
          "width": 2
         },
         "mode": "lines",
         "type": "scatter",
         "x": [
          0.20676791869407407,
          0.24743420931889692
         ],
         "y": [
          0.8817895171673152,
          0.8321776710859072
         ]
        },
        {
         "line": {
          "color": "#888",
          "width": 2
         },
         "mode": "lines",
         "type": "scatter",
         "x": [
          0.20676791869407407,
          0.314679993143142
         ],
         "y": [
          0.8817895171673152,
          0.9139794714873382
         ]
        },
        {
         "line": {
          "color": "#888",
          "width": 2
         },
         "mode": "lines",
         "type": "scatter",
         "x": [
          0.20676791869407407,
          0.06380841169396878
         ],
         "y": [
          0.8817895171673152,
          0.7477039761397088
         ]
        },
        {
         "line": {
          "color": "#888",
          "width": 2
         },
         "mode": "lines",
         "type": "scatter",
         "x": [
          0.9377010162487383,
          0.9384822183871988
         ],
         "y": [
          0.3579725814811704,
          0.32913171626914794
         ]
        },
        {
         "line": {
          "color": "#888",
          "width": 2
         },
         "mode": "lines",
         "type": "scatter",
         "x": [
          0.9377010162487383,
          0.7784595970210797
         ],
         "y": [
          0.3579725814811704,
          0.3075493052731615
         ]
        },
        {
         "line": {
          "color": "#888",
          "width": 2
         },
         "mode": "lines",
         "type": "scatter",
         "x": [
          0.9377010162487383,
          0.769477588826901
         ],
         "y": [
          0.3579725814811704,
          0.42502854267354784
         ]
        },
        {
         "line": {
          "color": "#888",
          "width": 2
         },
         "mode": "lines",
         "type": "scatter",
         "x": [
          0.44902667583539313,
          0.31403168127663794
         ],
         "y": [
          0.5716071237041721,
          0.6186185201811593
         ]
        },
        {
         "line": {
          "color": "#888",
          "width": 2
         },
         "mode": "lines",
         "type": "scatter",
         "x": [
          0.44902667583539313,
          0.5412734001663441
         ],
         "y": [
          0.5716071237041721,
          0.6067835368683082
         ]
        },
        {
         "line": {
          "color": "#000",
          "width": 2
         },
         "mode": "lines",
         "type": "scatter",
         "x": [
          0.44902667583539313,
          0.44944708591754556
         ],
         "y": [
          0.5716071237041721,
          0.5260975472518662
         ]
        },
        {
         "line": {
          "color": "#888",
          "width": 2
         },
         "mode": "lines",
         "type": "scatter",
         "x": [
          0.44902667583539313,
          0.5305220419119321
         ],
         "y": [
          0.5716071237041721,
          0.7294211544532321
         ]
        },
        {
         "line": {
          "color": "#888",
          "width": 2
         },
         "mode": "lines",
         "type": "scatter",
         "x": [
          0.31403168127663794,
          0.11720174977424747
         ],
         "y": [
          0.6186185201811593,
          0.6107120416405764
         ]
        },
        {
         "line": {
          "color": "#000",
          "width": 2
         },
         "mode": "lines",
         "type": "scatter",
         "x": [
          0.31403168127663794,
          0.44944708591754556
         ],
         "y": [
          0.6186185201811593,
          0.5260975472518662
         ]
        },
        {
         "line": {
          "color": "#888",
          "width": 2
         },
         "mode": "lines",
         "type": "scatter",
         "x": [
          0.2799213055800198,
          0.34707755736916823
         ],
         "y": [
          0.2450640323420864,
          0.1211642843059646
         ]
        },
        {
         "line": {
          "color": "#888",
          "width": 2
         },
         "mode": "lines",
         "type": "scatter",
         "x": [
          0.2799213055800198,
          0.2689421597550534
         ],
         "y": [
          0.2450640323420864,
          0.30508486962479
         ]
        },
        {
         "line": {
          "color": "#000",
          "width": 2
         },
         "mode": "lines",
         "type": "scatter",
         "x": [
          0.2799213055800198,
          0.27707588665167504
         ],
         "y": [
          0.2450640323420864,
          0.07641225593368017
         ]
        },
        {
         "line": {
          "color": "#000",
          "width": 2
         },
         "mode": "lines",
         "type": "scatter",
         "x": [
          0.8068003362450938,
          0.9633417955223065
         ],
         "y": [
          0.8174416849399618,
          0.7209500187787788
         ]
        },
        {
         "line": {
          "color": "#888",
          "width": 2
         },
         "mode": "lines",
         "type": "scatter",
         "x": [
          0.6887606544279138,
          0.7662381476610111
         ],
         "y": [
          0.030324426593847487,
          0.0878319349438742
         ]
        },
        {
         "line": {
          "color": "#888",
          "width": 2
         },
         "mode": "lines",
         "type": "scatter",
         "x": [
          0.9384822183871988,
          0.7784595970210797
         ],
         "y": [
          0.32913171626914794,
          0.3075493052731615
         ]
        },
        {
         "line": {
          "color": "#888",
          "width": 2
         },
         "mode": "lines",
         "type": "scatter",
         "x": [
          0.9384822183871988,
          0.769477588826901
         ],
         "y": [
          0.32913171626914794,
          0.42502854267354784
         ]
        },
        {
         "line": {
          "color": "#888",
          "width": 2
         },
         "mode": "lines",
         "type": "scatter",
         "x": [
          0.11720174977424747,
          0.026033207082985843
         ],
         "y": [
          0.6107120416405764,
          0.6572148320388425
         ]
        },
        {
         "line": {
          "color": "#888",
          "width": 2
         },
         "mode": "lines",
         "type": "scatter",
         "x": [
          0.11720174977424747,
          0.06380841169396878
         ],
         "y": [
          0.6107120416405764,
          0.7477039761397088
         ]
        },
        {
         "line": {
          "color": "#888",
          "width": 2
         },
         "mode": "lines",
         "type": "scatter",
         "x": [
          0.7784595970210797,
          0.769477588826901
         ],
         "y": [
          0.3075493052731615,
          0.42502854267354784
         ]
        },
        {
         "line": {
          "color": "#888",
          "width": 2
         },
         "mode": "lines",
         "type": "scatter",
         "x": [
          0.026033207082985843,
          0.06380841169396878
         ],
         "y": [
          0.6572148320388425,
          0.7477039761397088
         ]
        },
        {
         "line": {
          "color": "#000",
          "width": 2
         },
         "mode": "lines",
         "type": "scatter",
         "x": [
          0.1623346322967023,
          0.24743420931889692
         ],
         "y": [
          0.9289871191781693,
          0.8321776710859072
         ]
        },
        {
         "line": {
          "color": "#888",
          "width": 2
         },
         "mode": "lines",
         "type": "scatter",
         "x": [
          0.1623346322967023,
          0.314679993143142
         ],
         "y": [
          0.9289871191781693,
          0.9139794714873382
         ]
        },
        {
         "line": {
          "color": "#000",
          "width": 2
         },
         "mode": "lines",
         "type": "scatter",
         "x": [
          0.24743420931889692,
          0.314679993143142
         ],
         "y": [
          0.8321776710859072,
          0.9139794714873382
         ]
        },
        {
         "line": {
          "color": "#888",
          "width": 2
         },
         "mode": "lines",
         "type": "scatter",
         "x": [
          0.3329610009202226,
          0.34707755736916823
         ],
         "y": [
          0.013233631082401609,
          0.1211642843059646
         ]
        },
        {
         "line": {
          "color": "#000",
          "width": 2
         },
         "mode": "lines",
         "type": "scatter",
         "x": [
          0.3329610009202226,
          0.27707588665167504
         ],
         "y": [
          0.013233631082401609,
          0.07641225593368017
         ]
        },
        {
         "line": {
          "color": "#888",
          "width": 2
         },
         "mode": "lines",
         "type": "scatter",
         "x": [
          0.34707755736916823,
          0.2689421597550534
         ],
         "y": [
          0.1211642843059646,
          0.30508486962479
         ]
        },
        {
         "line": {
          "color": "#000",
          "width": 2
         },
         "mode": "lines",
         "type": "scatter",
         "x": [
          0.34707755736916823,
          0.27707588665167504
         ],
         "y": [
          0.1211642843059646,
          0.07641225593368017
         ]
        },
        {
         "line": {
          "color": "#888",
          "width": 2
         },
         "mode": "lines",
         "type": "scatter",
         "x": [
          0.314679993143142,
          0.4855793361361087
         ],
         "y": [
          0.9139794714873382,
          0.9247633659914665
         ]
        },
        {
         "line": {
          "color": "#888",
          "width": 2
         },
         "mode": "lines",
         "type": "scatter",
         "x": [
          0.5412734001663441,
          0.44944708591754556
         ],
         "y": [
          0.6067835368683082,
          0.5260975472518662
         ]
        },
        {
         "line": {
          "color": "#888",
          "width": 2
         },
         "mode": "lines",
         "type": "scatter",
         "x": [
          0.5412734001663441,
          0.5305220419119321
         ],
         "y": [
          0.6067835368683082,
          0.7294211544532321
         ]
        },
        {
         "hoverinfo": "text",
         "marker": {
          "color": [
           8,
           8,
           8,
           8,
           8,
           9,
           8,
           9,
           7,
           8,
           9,
           7,
           9,
           8,
           8,
           7,
           8,
           9,
           9,
           9,
           8,
           7,
           8,
           9,
           7,
           8,
           7,
           7,
           7,
           9,
           8,
           7,
           7,
           9,
           8,
           9,
           8,
           9,
           7,
           8,
           7,
           7,
           9,
           9,
           9,
           8,
           9,
           9,
           9,
           9,
           9,
           8,
           7,
           9,
           7,
           9,
           7,
           9,
           7,
           8,
           9,
           9,
           8,
           7,
           9,
           9,
           7,
           9,
           7,
           8,
           7,
           8,
           9,
           8,
           8,
           9,
           9,
           7,
           7,
           9,
           8,
           9,
           8,
           9,
           8,
           9,
           7,
           9,
           8,
           9,
           9,
           8,
           7,
           7,
           9,
           7,
           9,
           8,
           7,
           9
          ],
          "colorscale": [
           [
            0,
            "rgb(255,255,255)"
           ],
           [
            0.125,
            "rgb(240,240,240)"
           ],
           [
            0.25,
            "rgb(217,217,217)"
           ],
           [
            0.375,
            "rgb(189,189,189)"
           ],
           [
            0.5,
            "rgb(150,150,150)"
           ],
           [
            0.625,
            "rgb(115,115,115)"
           ],
           [
            0.75,
            "rgb(82,82,82)"
           ],
           [
            0.875,
            "rgb(37,37,37)"
           ],
           [
            1,
            "rgb(0,0,0)"
           ]
          ],
          "line": {
           "width": 2
          },
          "reversescale": true,
          "size": [
           5,
           6,
           7,
           7,
           8,
           7,
           8,
           8,
           9,
           6,
           6,
           7,
           5,
           6,
           8,
           9,
           5,
           8,
           9,
           6,
           8,
           6,
           7,
           8,
           8,
           9,
           7,
           8,
           5,
           7,
           8,
           8,
           5,
           9,
           6,
           7,
           9,
           8,
           7,
           8,
           6,
           5,
           9,
           5,
           9,
           5,
           7,
           7,
           6,
           7,
           8,
           6,
           8,
           9,
           5,
           5,
           8,
           5,
           9,
           9,
           9,
           6,
           5,
           8,
           9,
           7,
           7,
           5,
           5,
           9,
           8,
           8,
           7,
           7,
           9,
           8,
           5,
           9,
           8,
           7,
           6,
           8,
           6,
           8,
           7,
           8,
           5,
           9,
           7,
           5,
           6,
           8,
           8,
           6,
           5,
           8,
           6,
           6,
           5,
           7
          ]
         },
         "mode": "markers",
         "type": "scatter",
         "x": [
          0.7772967685790912,
          0.7126794485852315,
          0.41472191370025857,
          0.9405316288008979,
          0.9455411249448875,
          0.9557037995525786,
          0.3284356129995657,
          0.6984550902031035,
          0.762346198387782,
          0.8210681488719842,
          0.9321616851176138,
          0.9084130186608411,
          0.5890368094982544,
          0.1040994021654732,
          0.31337920147405973,
          0.35528097786516866,
          0.8762765245460326,
          0.33101753428016134,
          0.09335242248012865,
          0.8766805895229959,
          0.40023037690579266,
          0.5566377864145727,
          0.8511635118735779,
          0.5491780317833973,
          0.5868013900093378,
          0.13950891932546006,
          0.44975702575021403,
          0.5864207758224886,
          0.3909258489521653,
          0.3358808499372745,
          0.3669446971087701,
          0.6788717873515951,
          0.23175209765512583,
          0.554507828604528,
          0.3409393887973423,
          0.8030136302530037,
          0.13328757767456012,
          0.585256147026231,
          0.4632297443602965,
          0.823774673635579,
          0.8325476913136867,
          0.4267170365173295,
          0.675258284503646,
          0.6649033646345931,
          0.2933694498827314,
          0.8842481709412524,
          0.32673298966374276,
          0.9242689823754415,
          0.623806176300654,
          0.5689429573455235,
          0.3448674154339495,
          0.7112203160460792,
          0.7358453620707668,
          0.9644425478097204,
          0.005747809805558446,
          0.9399081751857669,
          0.5718673573606404,
          0.8766121592113929,
          0.4104146654695472,
          0.6952369465163732,
          0.5156646525646337,
          0.8261215356797782,
          0.39166073066632956,
          0.49314081300944823,
          0.8798798796074544,
          0.9485508831105348,
          0.6795832989994791,
          0.5577007318190512,
          0.8462334357336598,
          0.8766707019852795,
          0.21078612818592313,
          0.2873250090471383,
          0.18001223690148538,
          0.20676791869407407,
          0.4900563790888437,
          0.9377010162487383,
          0.44902667583539313,
          0.31403168127663794,
          0.2799213055800198,
          0.8068003362450938,
          0.6887606544279138,
          0.9384822183871988,
          0.11720174977424747,
          0.7784595970210797,
          0.026033207082985843,
          0.1623346322967023,
          0.24743420931889692,
          0.3329610009202226,
          0.7662381476610111,
          0.34707755736916823,
          0.2689421597550534,
          0.314679993143142,
          0.27707588665167504,
          0.5412734001663441,
          0.44944708591754556,
          0.06380841169396878,
          0.4855793361361087,
          0.769477588826901,
          0.9633417955223065,
          0.5305220419119321
         ],
         "y": [
          0.5548088334775853,
          0.5385496445716562,
          0.01851343819100626,
          0.7674922070532982,
          0.7722927072648209,
          0.5317621402469224,
          0.04810754272988316,
          0.9310378817815803,
          0.4514288946866486,
          0.43516676204168836,
          0.07583324114410084,
          0.08443317314689824,
          0.5819665589690304,
          0.5193227603176418,
          0.08456414308843196,
          0.31328539552124945,
          0.7588054117096847,
          0.2996440289233848,
          0.15551134707478897,
          0.7218172207011124,
          0.8312254261790355,
          0.39241730305969,
          0.9706083542135686,
          0.10520194224753421,
          0.041758978297537386,
          0.5415329664862066,
          0.841837686057598,
          0.22546584656269764,
          0.7451877454920384,
          0.15353153620699167,
          0.9074222536035396,
          0.1505324796248576,
          0.8902148145205907,
          0.9443056686342436,
          0.30780776068011295,
          0.33683525267922076,
          0.4524392169420556,
          0.618092659464444,
          0.8760278725458803,
          0.5988734003588025,
          0.4188797207766546,
          0.5763551742614229,
          0.6247352043392156,
          0.4931610430683392,
          0.5827991157071999,
          0.16905824288095372,
          0.701645882978895,
          0.1679558582929378,
          0.28184182070568864,
          0.9915754318815236,
          0.10337498556392433,
          0.15031734296416976,
          0.15191952995909896,
          0.38098004873181157,
          0.6688347593535136,
          0.9747089609152998,
          0.6398129806225091,
          0.12920566295273028,
          0.3128364238574487,
          0.3548773757600614,
          0.9939798234089425,
          0.8646750867368155,
          0.2006582161640329,
          0.757912418288161,
          0.4002629624891759,
          0.39727080257111935,
          0.8401957968587838,
          0.8235982553434331,
          0.4539896457440038,
          0.08503746116985567,
          0.08892132145228904,
          0.9539491214863909,
          0.5537816338285477,
          0.8817895171673152,
          0.2869144284533628,
          0.3579725814811704,
          0.5716071237041721,
          0.6186185201811593,
          0.2450640323420864,
          0.8174416849399618,
          0.030324426593847487,
          0.32913171626914794,
          0.6107120416405764,
          0.3075493052731615,
          0.6572148320388425,
          0.9289871191781693,
          0.8321776710859072,
          0.013233631082401609,
          0.0878319349438742,
          0.1211642843059646,
          0.30508486962479,
          0.9139794714873382,
          0.07641225593368017,
          0.6067835368683082,
          0.5260975472518662,
          0.7477039761397088,
          0.9247633659914665,
          0.42502854267354784,
          0.7209500187787788,
          0.7294211544532321
         ]
        }
       ],
       "layout": {
        "font": {
         "color": "black",
         "family": "Times New Roman"
        },
        "height": 400,
        "hovermode": "closest",
        "margin": {
         "b": 20,
         "l": 5,
         "r": 5,
         "t": 40
        },
        "paper_bgcolor": "rgba(0,0,0,0)",
        "plot_bgcolor": "rgba(0,0,0,0)",
        "showlegend": false,
        "template": {
         "data": {
          "bar": [
           {
            "error_x": {
             "color": "#2a3f5f"
            },
            "error_y": {
             "color": "#2a3f5f"
            },
            "marker": {
             "line": {
              "color": "#E5ECF6",
              "width": 0.5
             },
             "pattern": {
              "fillmode": "overlay",
              "size": 10,
              "solidity": 0.2
             }
            },
            "type": "bar"
           }
          ],
          "barpolar": [
           {
            "marker": {
             "line": {
              "color": "#E5ECF6",
              "width": 0.5
             },
             "pattern": {
              "fillmode": "overlay",
              "size": 10,
              "solidity": 0.2
             }
            },
            "type": "barpolar"
           }
          ],
          "carpet": [
           {
            "aaxis": {
             "endlinecolor": "#2a3f5f",
             "gridcolor": "white",
             "linecolor": "white",
             "minorgridcolor": "white",
             "startlinecolor": "#2a3f5f"
            },
            "baxis": {
             "endlinecolor": "#2a3f5f",
             "gridcolor": "white",
             "linecolor": "white",
             "minorgridcolor": "white",
             "startlinecolor": "#2a3f5f"
            },
            "type": "carpet"
           }
          ],
          "choropleth": [
           {
            "colorbar": {
             "outlinewidth": 0,
             "ticks": ""
            },
            "type": "choropleth"
           }
          ],
          "contour": [
           {
            "colorbar": {
             "outlinewidth": 0,
             "ticks": ""
            },
            "colorscale": [
             [
              0,
              "#0d0887"
             ],
             [
              0.1111111111111111,
              "#46039f"
             ],
             [
              0.2222222222222222,
              "#7201a8"
             ],
             [
              0.3333333333333333,
              "#9c179e"
             ],
             [
              0.4444444444444444,
              "#bd3786"
             ],
             [
              0.5555555555555556,
              "#d8576b"
             ],
             [
              0.6666666666666666,
              "#ed7953"
             ],
             [
              0.7777777777777778,
              "#fb9f3a"
             ],
             [
              0.8888888888888888,
              "#fdca26"
             ],
             [
              1,
              "#f0f921"
             ]
            ],
            "type": "contour"
           }
          ],
          "contourcarpet": [
           {
            "colorbar": {
             "outlinewidth": 0,
             "ticks": ""
            },
            "type": "contourcarpet"
           }
          ],
          "heatmap": [
           {
            "colorbar": {
             "outlinewidth": 0,
             "ticks": ""
            },
            "colorscale": [
             [
              0,
              "#0d0887"
             ],
             [
              0.1111111111111111,
              "#46039f"
             ],
             [
              0.2222222222222222,
              "#7201a8"
             ],
             [
              0.3333333333333333,
              "#9c179e"
             ],
             [
              0.4444444444444444,
              "#bd3786"
             ],
             [
              0.5555555555555556,
              "#d8576b"
             ],
             [
              0.6666666666666666,
              "#ed7953"
             ],
             [
              0.7777777777777778,
              "#fb9f3a"
             ],
             [
              0.8888888888888888,
              "#fdca26"
             ],
             [
              1,
              "#f0f921"
             ]
            ],
            "type": "heatmap"
           }
          ],
          "heatmapgl": [
           {
            "colorbar": {
             "outlinewidth": 0,
             "ticks": ""
            },
            "colorscale": [
             [
              0,
              "#0d0887"
             ],
             [
              0.1111111111111111,
              "#46039f"
             ],
             [
              0.2222222222222222,
              "#7201a8"
             ],
             [
              0.3333333333333333,
              "#9c179e"
             ],
             [
              0.4444444444444444,
              "#bd3786"
             ],
             [
              0.5555555555555556,
              "#d8576b"
             ],
             [
              0.6666666666666666,
              "#ed7953"
             ],
             [
              0.7777777777777778,
              "#fb9f3a"
             ],
             [
              0.8888888888888888,
              "#fdca26"
             ],
             [
              1,
              "#f0f921"
             ]
            ],
            "type": "heatmapgl"
           }
          ],
          "histogram": [
           {
            "marker": {
             "pattern": {
              "fillmode": "overlay",
              "size": 10,
              "solidity": 0.2
             }
            },
            "type": "histogram"
           }
          ],
          "histogram2d": [
           {
            "colorbar": {
             "outlinewidth": 0,
             "ticks": ""
            },
            "colorscale": [
             [
              0,
              "#0d0887"
             ],
             [
              0.1111111111111111,
              "#46039f"
             ],
             [
              0.2222222222222222,
              "#7201a8"
             ],
             [
              0.3333333333333333,
              "#9c179e"
             ],
             [
              0.4444444444444444,
              "#bd3786"
             ],
             [
              0.5555555555555556,
              "#d8576b"
             ],
             [
              0.6666666666666666,
              "#ed7953"
             ],
             [
              0.7777777777777778,
              "#fb9f3a"
             ],
             [
              0.8888888888888888,
              "#fdca26"
             ],
             [
              1,
              "#f0f921"
             ]
            ],
            "type": "histogram2d"
           }
          ],
          "histogram2dcontour": [
           {
            "colorbar": {
             "outlinewidth": 0,
             "ticks": ""
            },
            "colorscale": [
             [
              0,
              "#0d0887"
             ],
             [
              0.1111111111111111,
              "#46039f"
             ],
             [
              0.2222222222222222,
              "#7201a8"
             ],
             [
              0.3333333333333333,
              "#9c179e"
             ],
             [
              0.4444444444444444,
              "#bd3786"
             ],
             [
              0.5555555555555556,
              "#d8576b"
             ],
             [
              0.6666666666666666,
              "#ed7953"
             ],
             [
              0.7777777777777778,
              "#fb9f3a"
             ],
             [
              0.8888888888888888,
              "#fdca26"
             ],
             [
              1,
              "#f0f921"
             ]
            ],
            "type": "histogram2dcontour"
           }
          ],
          "mesh3d": [
           {
            "colorbar": {
             "outlinewidth": 0,
             "ticks": ""
            },
            "type": "mesh3d"
           }
          ],
          "parcoords": [
           {
            "line": {
             "colorbar": {
              "outlinewidth": 0,
              "ticks": ""
             }
            },
            "type": "parcoords"
           }
          ],
          "pie": [
           {
            "automargin": true,
            "type": "pie"
           }
          ],
          "scatter": [
           {
            "fillpattern": {
             "fillmode": "overlay",
             "size": 10,
             "solidity": 0.2
            },
            "type": "scatter"
           }
          ],
          "scatter3d": [
           {
            "line": {
             "colorbar": {
              "outlinewidth": 0,
              "ticks": ""
             }
            },
            "marker": {
             "colorbar": {
              "outlinewidth": 0,
              "ticks": ""
             }
            },
            "type": "scatter3d"
           }
          ],
          "scattercarpet": [
           {
            "marker": {
             "colorbar": {
              "outlinewidth": 0,
              "ticks": ""
             }
            },
            "type": "scattercarpet"
           }
          ],
          "scattergeo": [
           {
            "marker": {
             "colorbar": {
              "outlinewidth": 0,
              "ticks": ""
             }
            },
            "type": "scattergeo"
           }
          ],
          "scattergl": [
           {
            "marker": {
             "colorbar": {
              "outlinewidth": 0,
              "ticks": ""
             }
            },
            "type": "scattergl"
           }
          ],
          "scattermapbox": [
           {
            "marker": {
             "colorbar": {
              "outlinewidth": 0,
              "ticks": ""
             }
            },
            "type": "scattermapbox"
           }
          ],
          "scatterpolar": [
           {
            "marker": {
             "colorbar": {
              "outlinewidth": 0,
              "ticks": ""
             }
            },
            "type": "scatterpolar"
           }
          ],
          "scatterpolargl": [
           {
            "marker": {
             "colorbar": {
              "outlinewidth": 0,
              "ticks": ""
             }
            },
            "type": "scatterpolargl"
           }
          ],
          "scatterternary": [
           {
            "marker": {
             "colorbar": {
              "outlinewidth": 0,
              "ticks": ""
             }
            },
            "type": "scatterternary"
           }
          ],
          "surface": [
           {
            "colorbar": {
             "outlinewidth": 0,
             "ticks": ""
            },
            "colorscale": [
             [
              0,
              "#0d0887"
             ],
             [
              0.1111111111111111,
              "#46039f"
             ],
             [
              0.2222222222222222,
              "#7201a8"
             ],
             [
              0.3333333333333333,
              "#9c179e"
             ],
             [
              0.4444444444444444,
              "#bd3786"
             ],
             [
              0.5555555555555556,
              "#d8576b"
             ],
             [
              0.6666666666666666,
              "#ed7953"
             ],
             [
              0.7777777777777778,
              "#fb9f3a"
             ],
             [
              0.8888888888888888,
              "#fdca26"
             ],
             [
              1,
              "#f0f921"
             ]
            ],
            "type": "surface"
           }
          ],
          "table": [
           {
            "cells": {
             "fill": {
              "color": "#EBF0F8"
             },
             "line": {
              "color": "white"
             }
            },
            "header": {
             "fill": {
              "color": "#C8D4E3"
             },
             "line": {
              "color": "white"
             }
            },
            "type": "table"
           }
          ]
         },
         "layout": {
          "annotationdefaults": {
           "arrowcolor": "#2a3f5f",
           "arrowhead": 0,
           "arrowwidth": 1
          },
          "autotypenumbers": "strict",
          "coloraxis": {
           "colorbar": {
            "outlinewidth": 0,
            "ticks": ""
           }
          },
          "colorscale": {
           "diverging": [
            [
             0,
             "#8e0152"
            ],
            [
             0.1,
             "#c51b7d"
            ],
            [
             0.2,
             "#de77ae"
            ],
            [
             0.3,
             "#f1b6da"
            ],
            [
             0.4,
             "#fde0ef"
            ],
            [
             0.5,
             "#f7f7f7"
            ],
            [
             0.6,
             "#e6f5d0"
            ],
            [
             0.7,
             "#b8e186"
            ],
            [
             0.8,
             "#7fbc41"
            ],
            [
             0.9,
             "#4d9221"
            ],
            [
             1,
             "#276419"
            ]
           ],
           "sequential": [
            [
             0,
             "#0d0887"
            ],
            [
             0.1111111111111111,
             "#46039f"
            ],
            [
             0.2222222222222222,
             "#7201a8"
            ],
            [
             0.3333333333333333,
             "#9c179e"
            ],
            [
             0.4444444444444444,
             "#bd3786"
            ],
            [
             0.5555555555555556,
             "#d8576b"
            ],
            [
             0.6666666666666666,
             "#ed7953"
            ],
            [
             0.7777777777777778,
             "#fb9f3a"
            ],
            [
             0.8888888888888888,
             "#fdca26"
            ],
            [
             1,
             "#f0f921"
            ]
           ],
           "sequentialminus": [
            [
             0,
             "#0d0887"
            ],
            [
             0.1111111111111111,
             "#46039f"
            ],
            [
             0.2222222222222222,
             "#7201a8"
            ],
            [
             0.3333333333333333,
             "#9c179e"
            ],
            [
             0.4444444444444444,
             "#bd3786"
            ],
            [
             0.5555555555555556,
             "#d8576b"
            ],
            [
             0.6666666666666666,
             "#ed7953"
            ],
            [
             0.7777777777777778,
             "#fb9f3a"
            ],
            [
             0.8888888888888888,
             "#fdca26"
            ],
            [
             1,
             "#f0f921"
            ]
           ]
          },
          "colorway": [
           "#636efa",
           "#EF553B",
           "#00cc96",
           "#ab63fa",
           "#FFA15A",
           "#19d3f3",
           "#FF6692",
           "#B6E880",
           "#FF97FF",
           "#FECB52"
          ],
          "font": {
           "color": "#2a3f5f"
          },
          "geo": {
           "bgcolor": "white",
           "lakecolor": "white",
           "landcolor": "#E5ECF6",
           "showlakes": true,
           "showland": true,
           "subunitcolor": "white"
          },
          "hoverlabel": {
           "align": "left"
          },
          "hovermode": "closest",
          "mapbox": {
           "style": "light"
          },
          "paper_bgcolor": "white",
          "plot_bgcolor": "#E5ECF6",
          "polar": {
           "angularaxis": {
            "gridcolor": "white",
            "linecolor": "white",
            "ticks": ""
           },
           "bgcolor": "#E5ECF6",
           "radialaxis": {
            "gridcolor": "white",
            "linecolor": "white",
            "ticks": ""
           }
          },
          "scene": {
           "xaxis": {
            "backgroundcolor": "#E5ECF6",
            "gridcolor": "white",
            "gridwidth": 2,
            "linecolor": "white",
            "showbackground": true,
            "ticks": "",
            "zerolinecolor": "white"
           },
           "yaxis": {
            "backgroundcolor": "#E5ECF6",
            "gridcolor": "white",
            "gridwidth": 2,
            "linecolor": "white",
            "showbackground": true,
            "ticks": "",
            "zerolinecolor": "white"
           },
           "zaxis": {
            "backgroundcolor": "#E5ECF6",
            "gridcolor": "white",
            "gridwidth": 2,
            "linecolor": "white",
            "showbackground": true,
            "ticks": "",
            "zerolinecolor": "white"
           }
          },
          "shapedefaults": {
           "line": {
            "color": "#2a3f5f"
           }
          },
          "ternary": {
           "aaxis": {
            "gridcolor": "white",
            "linecolor": "white",
            "ticks": ""
           },
           "baxis": {
            "gridcolor": "white",
            "linecolor": "white",
            "ticks": ""
           },
           "bgcolor": "#E5ECF6",
           "caxis": {
            "gridcolor": "white",
            "linecolor": "white",
            "ticks": ""
           }
          },
          "title": {
           "x": 0.05
          },
          "xaxis": {
           "automargin": true,
           "gridcolor": "white",
           "linecolor": "white",
           "ticks": "",
           "title": {
            "standoff": 15
           },
           "zerolinecolor": "white",
           "zerolinewidth": 2
          },
          "yaxis": {
           "automargin": true,
           "gridcolor": "white",
           "linecolor": "white",
           "ticks": "",
           "title": {
            "standoff": 15
           },
           "zerolinecolor": "white",
           "zerolinewidth": 2
          }
         }
        },
        "width": 200,
        "xaxis": {
         "showgrid": false,
         "showticklabels": false,
         "zeroline": false
        },
        "yaxis": {
         "showgrid": false,
         "showticklabels": false,
         "zeroline": false
        }
       }
      }
     },
     "metadata": {},
     "output_type": "display_data"
    }
   ],
   "source": [
    "fig = go.Figure(data=edge_trace_list + [node_trace],\n",
    "             layout=go.Layout(\n",
    "                # title=fig_title,\n",
    "                # title_x=0.5,\n",
    "                # titlefont_size=16,\n",
    "                showlegend=False,\n",
    "                hovermode='closest',\n",
    "                margin=dict(b=20,l=5,r=5,t=40),\n",
    "                # annotations=[ dict(\n",
    "                    # text=\"Python code: <a href='https://plotly.com/ipython-notebooks/network-graphs/'> https://plotly.com/ipython-notebooks/network-graphs/</a>\",\n",
    "                    # showarrow=False,\n",
    "                    # xref=\"paper\", yref=\"paper\",\n",
    "                    # x=0.005, y=-0.002 ) ],\n",
    "                xaxis=dict(showgrid=False, zeroline=False, showticklabels=False),\n",
    "                yaxis=dict(showgrid=False, zeroline=False, showticklabels=False)),\n",
    "                )\n",
    "# fig.update_xaxes(autorange=\"reversed\")\n",
    "# fig.show()\n",
    "# fig.update_yaxes(\n",
    "#     scaleanchor = \"x\",\n",
    "#     scaleratio = 2,\n",
    "#   )\n",
    "\n",
    "fig.update_layout(\n",
    "    width = 200,\n",
    "    height = 400,\n",
    "    paper_bgcolor='rgba(0,0,0,0)',\n",
    "    # plot_bgcolor='rgba(255,255,255,255)',\n",
    "    plot_bgcolor='rgba(0,0,0,0)',\n",
    "    font=dict(family=\"Times New Roman\", color=\"black\"),\n",
    "    # title = \"fixed-ratio axes\"\n",
    ")\n",
    "fig.show()\n"
   ]
  }
 ],
 "metadata": {
  "interpreter": {
   "hash": "b1935e454b235ddbff1ec81c0241a5702b942683ebb78a1ee5f8ffe0f78241bb"
  },
  "kernelspec": {
   "display_name": "Python 3.8.13 ('pytorch_p38')",
   "language": "python",
   "name": "python3"
  },
  "language_info": {
   "codemirror_mode": {
    "name": "ipython",
    "version": 3
   },
   "file_extension": ".py",
   "mimetype": "text/x-python",
   "name": "python",
   "nbconvert_exporter": "python",
   "pygments_lexer": "ipython3",
   "version": "3.8.13"
  },
  "orig_nbformat": 4
 },
 "nbformat": 4,
 "nbformat_minor": 2
}
