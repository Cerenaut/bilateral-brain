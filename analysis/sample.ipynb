{
 "cells": [
  {
   "cell_type": "code",
   "execution_count": 32,
   "metadata": {},
   "outputs": [],
   "source": [
    "import shutil\n",
    "from pathlib import Path\n",
    "from_folder = Path(\"/home/chandramouli/Documents/kaggle/CIFAR-100/test\").glob(\"*/\")\n",
    "to_folder = Path(\"/home/chandramouli/Downloads/Cerenaut/\").glob(\"images_*/\")"
   ]
  },
  {
   "cell_type": "code",
   "execution_count": null,
   "metadata": {},
   "outputs": [],
   "source": [
    "selected_categories = [\"broad\", \"narrow\", \"bicameral\", \"original\"]\n",
    "for folder in to_folder:\n",
    "    categories = folder.glob(\"*/\")\n",
    "    for category in categories:\n",
    "        if category.name in selected_categories:\n",
    "            images = category.resolve().glob(\"*.png\")\n",
    "            for image in images:\n",
    "                fname = category.name+\"_\"+image.name\n",
    "                new_image = image.parent / fname\n",
    "                image.rename(new_image)"
   ]
  },
  {
   "cell_type": "code",
   "execution_count": 50,
   "metadata": {},
   "outputs": [],
   "source": [
    "selected_categories = [\"bicameral\"]\n",
    "src_folder_images = Path(\"/home/chandramouli/Documents/kaggle/CIFAR-100/test\").glob(\"*/*.png\")\n",
    "to_folder = Path(\"/home/chandramouli/Downloads/Cerenaut/\").glob(\"images_*/\")\n",
    "dest_folder_images = []\n",
    "dest_folder_name_images = []\n",
    "for folder in to_folder:\n",
    "    categories = folder.glob(\"*/\")\n",
    "    for category in categories:\n",
    "        if category.name in selected_categories:\n",
    "            images = category.resolve().glob(\"*.png\")\n",
    "            for image in images:\n",
    "                dest_folder_images.append(image)\n",
    "                dest_folder_name_images.append(image.name.replace(category.name+\"_\", \"\"))\n",
    "\n",
    "for image in src_folder_images:\n",
    "    if image.name in dest_folder_name_images:\n",
    "        index = dest_folder_name_images.index(image.name)\n",
    "        fname = \"original_\" + image.name\n",
    "        new_fpath = dest_folder_images[index].parent.parent / \"original\" / fname\n",
    "        shutil.copy(image, new_fpath)"
   ]
  },
  {
   "cell_type": "code",
   "execution_count": 97,
   "metadata": {},
   "outputs": [],
   "source": [
    "to_folder = Path(\"/home/chandramouli/Downloads/Cerenaut/\").glob(\"images_grad_cam_ntbfbicamt/\")\n",
    "import random\n",
    "for folder in to_folder:\n",
    "    bicameral_folder = folder / \"bicameral/\"\n",
    "    to_folder_images = list(bicameral_folder.glob(\"*.png\"))\n",
    "    max_len = len(to_folder_images)\n",
    "    if max_len >= 20:\n",
    "        max_len = 20\n",
    "    bicameral_images = random.sample(to_folder_images, max_len)\n",
    "    for image in bicameral_images:\n",
    "        shutil.copy(image, image.parent.parent / image.name)\n",
    "        new_image_name = image.name.replace(\"bicameral\", \"original\")\n",
    "        new_image_parent = image.parent.name.replace(\"bicameral\", \"original\")\n",
    "        shutil.copy(image.parent.parent / new_image_parent / new_image_name, image.parent.parent / new_image_name)\n",
    "        new_image_name = image.name.replace(\"bicameral\", \"broad\")\n",
    "        new_image_parent = image.parent.name.replace(\"bicameral\", \"broad\")\n",
    "        shutil.copy(image.parent.parent / new_image_parent / new_image_name, image.parent.parent / new_image_name)\n",
    "        new_image_name = image.name.replace(\"bicameral\", \"narrow\")\n",
    "        new_image_parent = image.parent.name.replace(\"bicameral\", \"narrow\")\n",
    "        shutil.copy(image.parent.parent / new_image_parent / new_image_name, image.parent.parent / new_image_name)\n"
   ]
  },
  {
   "cell_type": "code",
   "execution_count": 22,
   "metadata": {},
   "outputs": [
    {
     "name": "stdout",
     "output_type": "stream",
     "text": [
      "river_otter_s_001837.png,leopard_s_001884.png,research_rocket_s_000623.png,hognose_snake_s_001251.png,acer_saccharum_s_001441.png,elephant_s_000510.png\n",
      "dessert_plate_s_000187.png,red_fox_s_002233.png,rabbit_s_002255.png,chimpanzee_s_000914.png,goblet_s_001315.png,dungeness_crab_s_001176.png\n",
      "icbm_s_000848.png,chimpanzee_s_000831.png,drawbridge_s_002419.png,eve_s_000023.png,freight_train_s_000078.png,argiope_aurantia_s_000710.png\n"
     ]
    }
   ],
   "source": [
    "import glob\n",
    "files = glob.glob(\"/home/chandramouli/Downloads/Cerenaut/Bicameral - NeurIPS 2022/supplementary/grad_cam_ntbfbicamt/bicameral_*.png\")\n",
    "fnames = []\n",
    "for f in files:\n",
    "    fnames.append(f.split(\"/\")[-1].replace(\"bicameral_\", \"\"))\n",
    "print(\",\".join(fnames[:6]))\n",
    "print(\",\".join(fnames[6:12]))\n",
    "print(\",\".join(fnames[12:18]))"
   ]
  },
  {
   "cell_type": "code",
   "execution_count": 27,
   "metadata": {},
   "outputs": [
    {
     "name": "stderr",
     "output_type": "stream",
     "text": [
      "/tmp/ipykernel_32129/475088038.py:3: FutureWarning: In future versions `DataFrame.to_latex` is expected to utilise the base implementation of `Styler.to_latex` for formatting and rendering. The arguments signature may therefore change. It is recommended instead to use `DataFrame.style.to_latex` which also contains additional functionality.\n",
      "  df.to_latex(\"/home/chandramouli/Downloads/Cerenaut/test_count_table.tex\")\n"
     ]
    }
   ],
   "source": [
    "import pandas as pd\n",
    "df = pd.read_excel(\"/home/chandramouli/Downloads/Cerenaut/test_count_table.xlsx\", sheet_name=\"Sheet3\")\n",
    "df.to_latex(\"/home/chandramouli/Downloads/Cerenaut/test_count_table.tex\")"
   ]
  }
 ],
 "metadata": {
  "interpreter": {
   "hash": "b1935e454b235ddbff1ec81c0241a5702b942683ebb78a1ee5f8ffe0f78241bb"
  },
  "kernelspec": {
   "display_name": "Python 3.8.13 ('pytorch_p38')",
   "language": "python",
   "name": "python3"
  },
  "language_info": {
   "codemirror_mode": {
    "name": "ipython",
    "version": 3
   },
   "file_extension": ".py",
   "mimetype": "text/x-python",
   "name": "python",
   "nbconvert_exporter": "python",
   "pygments_lexer": "ipython3",
   "version": "3.8.13"
  },
  "orig_nbformat": 4
 },
 "nbformat": 4,
 "nbformat_minor": 2
}
