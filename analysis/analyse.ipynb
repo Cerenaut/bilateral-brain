{
 "cells": [
  {
   "cell_type": "code",
   "execution_count": 1,
   "id": "f1651e09",
   "metadata": {},
   "outputs": [
    {
     "data": {
      "text/plain": [
       "<Figure size 432x288 with 0 Axes>"
      ]
     },
     "metadata": {},
     "output_type": "display_data"
    }
   ],
   "source": [
    "import numpy as np\n",
    "import scipy as sp\n",
    "import pandas as pd\n",
    "import seaborn as sns\n",
    "import matplotlib.pyplot as plt\n",
    "from itertools import groupby, combinations\n",
    "from operator import itemgetter\n",
    "from sklearn.cluster import KMeans\n",
    "from sklearn.neighbors import KNeighborsClassifier\n",
    "from tqdm.notebook import tqdm\n",
    "sns.set_theme(style=\"darkgrid\", rc={\"grid.color\": \"0.6\", \"grid.alpha\": \"0.4\"})\n",
    "sns.set(font_scale=1.25)\n",
    "plt.figure()\n",
    "plt.show()"
   ]
  },
  {
   "cell_type": "code",
   "execution_count": 2,
   "id": "d916a613",
   "metadata": {},
   "outputs": [],
   "source": [
    "# n = narrow, b = broad, t/f = true / false (predicted output does/doesn't match ground truth)\n",
    "\n",
    "filetypes = ['nfbf-bicamnfbf', 'ntbf-bicamnfbf', \n",
    "                'nfbt-bicamnfbf', 'ntbt-bicamnfbf',\n",
    "                'nfbf-bicamntbf', 'ntbf-bicamntbf', \n",
    "                'nfbt-bicamntbf', 'ntbt-bicamntbf',\n",
    "                'nfbf-bicamnfbt', 'ntbf-bicamnfbt', \n",
    "                'nfbt-bicamnfbt', 'ntbt-bicamnfbt',\n",
    "                'nfbf-bicamntbt', 'ntbf-bicamntbt', \n",
    "                'nfbt-bicamntbt', 'ntbt-bicamntbt',]"
   ]
  },
  {
   "cell_type": "code",
   "execution_count": 3,
   "id": "389ec5f7",
   "metadata": {},
   "outputs": [],
   "source": [
    "def get_index():\n",
    "    for i in range(len(filetypes)):\n",
    "        yield i"
   ]
  },
  {
   "cell_type": "code",
   "execution_count": 4,
   "id": "246298d3",
   "metadata": {},
   "outputs": [],
   "source": [
    "def get_feat(filetype):\n",
    "    narrow_feat = np.load(f'./grad_cam_{filetype}/narrow_feat.npy').reshape(-1, 512)\n",
    "    broad_feat = np.load(f'./grad_cam_{filetype}/broad_feat.npy').reshape(-1, 512)\n",
    "    bicameral_feat = np.load(f'./grad_cam_{filetype}/bicameral_feat.npy').reshape(-1, 1024)\n",
    "    return narrow_feat, broad_feat, bicameral_feat"
   ]
  },
  {
   "cell_type": "code",
   "execution_count": 5,
   "id": "cd978073",
   "metadata": {},
   "outputs": [],
   "source": [
    "def get_grouped_images(filetype):\n",
    "    with open(f'./distribution/distribution_images_{filetype}.txt', 'r') as f:\n",
    "        images = f.read().splitlines()\n",
    "    images = [(ind, image.split('/')[-2]) for ind, image in enumerate(images)]\n",
    "    grouped_images = [list(group) for key, group in groupby(images, itemgetter(1))]\n",
    "    return grouped_images"
   ]
  },
  {
   "cell_type": "code",
   "execution_count": 6,
   "id": "358787ac",
   "metadata": {},
   "outputs": [],
   "source": [
    "def get_df(filetype):\n",
    "    narrow_feat, broad_feat, bicameral_feat = get_feat(filetype)\n",
    "    grouped_images = get_grouped_images(filetype)\n",
    "    narrow_distances = []\n",
    "    broad_distances = []\n",
    "    bicameral_distances = []\n",
    "    ensemble_distances = []\n",
    "    labels = []\n",
    "\n",
    "    df = pd.DataFrame(columns=['label', 'img_ind_i', 'img_ind_j', 'bicam', 'bicam_wo_sp', 'broad', 'narrow'])\n",
    "    df_label, df_ind_i, df_ind_j, df_bicam, df_bicam_wo_sp, df_broad, df_narrow= [], [], [], [], [], [], []\n",
    "\n",
    "    for group in grouped_images:\n",
    "        if len(group) <= 1:\n",
    "            narrow_distances.append([])\n",
    "            broad_distances.append([])\n",
    "            bicameral_distances.append([])\n",
    "            ensemble_distances.append([])\n",
    "            continue\n",
    "        narrow_matrix = np.zeros((len(group), len(group)))\n",
    "        broad_matrix = np.zeros((len(group), len(group)))\n",
    "        bicameral_matrix = np.zeros((len(group), len(group)))\n",
    "        ensemble_matrix = np.zeros((len(group), len(group)))\n",
    "        labels.append(int(group[0][1]))\n",
    "        for pair in list(combinations(enumerate(group), 2)):\n",
    "            ind_i, ind_j = pair[0][0], pair[1][0]\n",
    "            feat_ind_i, feat_ind_j = pair[0][1][0], pair[1][1][0]\n",
    "            narrow_matrix[ind_i][ind_j] = sp.spatial.distance.cosine(\n",
    "                                                    narrow_feat[feat_ind_i] , \n",
    "                                                    narrow_feat[feat_ind_j])\n",
    "            broad_matrix[ind_i][ind_j] = sp.spatial.distance.cosine(\n",
    "                                                    broad_feat[feat_ind_i], \n",
    "                                                    broad_feat[feat_ind_j])\n",
    "            bicameral_matrix[ind_i][ind_j] = sp.spatial.distance.cosine(\n",
    "                                                    bicameral_feat[feat_ind_i], \n",
    "                                                    bicameral_feat[feat_ind_j])\n",
    "            ensemble_matrix[ind_i][ind_j] = sp.spatial.distance.cosine(\n",
    "                                            np.hstack([narrow_feat[feat_ind_i], broad_feat[feat_ind_i]]), \n",
    "                                            np.hstack([narrow_feat[feat_ind_j], broad_feat[feat_ind_j]]))\n",
    "            \n",
    "            df_label.append(int(group[0][1][0]))\n",
    "            df_ind_i.append(ind_i)\n",
    "            df_ind_j.append(ind_j)\n",
    "            df_bicam.append(bicameral_matrix[ind_i][ind_j])\n",
    "            df_bicam_wo_sp.append(ensemble_matrix[ind_i][ind_j])\n",
    "            df_broad.append(broad_matrix[ind_i][ind_j])\n",
    "            df_narrow.append(narrow_matrix[ind_i][ind_j])\n",
    "\n",
    "        narrow_distances.append(narrow_matrix)\n",
    "        broad_distances.append(broad_matrix)\n",
    "        bicameral_distances.append(bicameral_matrix)\n",
    "        ensemble_distances.append(ensemble_matrix)\n",
    "\n",
    "    df['label'] = df_label\n",
    "    df['img_ind_i'] = df_ind_i\n",
    "    df['img_ind_j'] = df_ind_j\n",
    "    df['bicam'] = df_bicam\n",
    "    df['bicam_wo_sp'] = df_bicam_wo_sp\n",
    "    df['broad'] = df_broad\n",
    "    df['narrow'] = df_narrow\n",
    "    return df"
   ]
  },
  {
   "cell_type": "markdown",
   "id": "2051d5d3",
   "metadata": {},
   "source": [
    "### Save the dataframe"
   ]
  },
  {
   "cell_type": "code",
   "execution_count": 7,
   "id": "50690735",
   "metadata": {},
   "outputs": [],
   "source": [
    "def save_df(df):\n",
    "    df.to_csv(f'./grad_cam_{filetype}/cosine_analysis.csv')"
   ]
  },
  {
   "cell_type": "code",
   "execution_count": 8,
   "id": "789a3bf2",
   "metadata": {},
   "outputs": [],
   "source": [
    "def relplot(df, filetype):\n",
    "    no_bins = 10\n",
    "    \n",
    "    plt.figure()\n",
    "    no_bins_bicam = no_bins\n",
    "    bicameral = df.copy()\n",
    "    bicameral.drop(['label', 'img_ind_i', 'img_ind_j', 'bicam_wo_sp'], axis=1, inplace=True)\n",
    "    bicam_labels = pd.cut(bicameral['bicam'], bins=no_bins, duplicates='drop').unique()\n",
    "    if len(bicam_labels) < no_bins_bicam:\n",
    "        no_bins_bicam = len(bicam_labels)\n",
    "    bicam_labels = sorted([(bicam_labels[i].left + bicam_labels[i].right) / 2 for i in range(len(bicam_labels))])\n",
    "    bicam_labels = [f\"{i:.3f}\" for i in bicam_labels]\n",
    "    bicameral['size'] = pd.cut(-1*bicameral[\"bicam\"], bins=no_bins_bicam, labels=bicam_labels[::-1])\n",
    "    bicameral['feat'] = pd.cut(bicameral[\"bicam\"], bins=no_bins_bicam, labels=bicam_labels)\n",
    "    sns_relplot_bicam = sns.relplot(x=\"narrow\", y=\"broad\", hue=\"feat\", data=bicameral, size=\"size\", palette=\"RdYlGn\", legend=\"brief\", height=5, aspect=1)\n",
    "    # sns_relplot_bicam.savefig(f\"./grad_cam_{filetype}/{filetype}_bicam_feat_cosine_analysis_relplot.png\", transparent=True)\n",
    "    sns_relplot_bicam.savefig(f\"./grad_cam_{filetype}/bicam_feat_cosine_analysis_relplot.png\", transparent=False)\n",
    "    plt.close()\n",
    "    plt.clf()\n",
    "    \n",
    "    plt.figure()\n",
    "    no_bins_bicam_wo_sp = no_bins\n",
    "    bicameral_wo_sp = df.copy()\n",
    "    bicameral_wo_sp.drop(['label', 'img_ind_i', 'img_ind_j', 'bicam'], axis=1, inplace=True)\n",
    "    bicam_labels = pd.cut(bicameral_wo_sp['bicam_wo_sp'], bins=no_bins, duplicates='drop').unique()\n",
    "    if len(bicam_labels) < no_bins_bicam_wo_sp:\n",
    "        no_bins_bicam_wo_sp = len(bicam_labels)\n",
    "    bicam_labels = sorted([(bicam_labels[i].left + bicam_labels[i].right) / 2 for i in range(len(bicam_labels))])\n",
    "    bicam_labels = [f\"{i:.3f}\" for i in bicam_labels]\n",
    "    bicameral_wo_sp['size'] = pd.cut(-1*bicameral_wo_sp[\"bicam_wo_sp\"], bins=no_bins_bicam_wo_sp, labels=bicam_labels[::-1])\n",
    "    bicameral_wo_sp['feat'] = pd.cut(bicameral_wo_sp[\"bicam_wo_sp\"], bins=no_bins_bicam_wo_sp, labels=bicam_labels)\n",
    "    sns_relplot_bicam_wo_sp = sns.relplot(x=\"narrow\", y=\"broad\", hue=\"feat\", data=bicameral_wo_sp, size=\"size\", palette=\"RdYlGn\", legend=\"brief\", height=5, aspect=1)\n",
    "    # sns_relplot_bicam_wo_sp.savefig(f\"./grad_cam_{filetype}/{filetype}_bicam_wo_sp_feat_cosine_analysis_relplot.png\", transparent=True)\n",
    "    sns_relplot_bicam_wo_sp.savefig(f\"./grad_cam_{filetype}/bicam_wo_sp_feat_cosine_analysis_relplot.png\", transparent=False)\n",
    "    plt.close()\n",
    "    plt.clf()"
   ]
  },
  {
   "cell_type": "code",
   "execution_count": 19,
   "metadata": {},
   "outputs": [],
   "source": [
    "def kdeplot(df, filetype):\n",
    "    no_bins = 10\n",
    "\n",
    "    X_plot = np.linspace(0, 0.5, 50)\n",
    "    Y_plot = X_plot\n",
    "    \n",
    "    # try:\n",
    "    plt.figure()\n",
    "    no_bins_bicam = no_bins\n",
    "    bicameral = df.copy()\n",
    "    bicameral.drop(['label', 'img_ind_i', 'img_ind_j', 'bicam_wo_sp'], axis=1, inplace=True)\n",
    "    bicam_labels = pd.cut(bicameral['bicam'], bins=no_bins).unique()\n",
    "    if len(bicam_labels) < no_bins_bicam:\n",
    "        no_bins_bicam = len(bicam_labels)\n",
    "    bicam_labels = sorted([(bicam_labels[i].left + bicam_labels[i].right) / 2 for i in range(len(bicam_labels))])\n",
    "    bicam_labels = [f\"{i:.3f}\" for i in bicam_labels]\n",
    "    bicameral['size'] = pd.cut(-1*bicameral[\"bicam\"], bins=no_bins_bicam, labels=bicam_labels[::-1])\n",
    "    bicameral['bicameral features cosine value'] = pd.cut(bicameral[\"bicam\"], bins=no_bins_bicam, labels=bicam_labels)\n",
    "    sns_kdeplot_bicam = sns.JointGrid(data=bicameral, x=\"narrow\", y=\"broad\", hue=\"bicameral features cosine value\", palette=\"RdYlGn\", height=5)\n",
    "    sns_kdeplot_bicam.plot(sns.scatterplot, sns.histplot)\n",
    "    sns_kdeplot_bicam.fig.subplots_adjust(top=0.9)\n",
    "    # sns_kdeplot_bicam.fig.suptitle('Cosine Values')\n",
    "    sns_kdeplot_bicam.set_axis_labels('Left Hemisphere (Specific)', 'Right Hemisphere (General)')\n",
    "    if sns_kdeplot_bicam.ax_joint.get_legend() is not None:\n",
    "        sns_kdeplot_bicam.ax_joint.legend_.set_bbox_to_anchor(bbox=[1.65, 1.1])\n",
    "        sns_kdeplot_bicam.ax_joint.legend_.set_title(title='Bilateral')\n",
    "        plt.setp(sns_kdeplot_bicam.ax_joint.legend_.get_title(), fontsize='15')\n",
    "        plt.setp(sns_kdeplot_bicam.ax_joint.legend_.get_texts(), fontsize='15')\n",
    "    ax = plt.gca()\n",
    "    sns_kdeplot_bicam.ax_joint.plot(X_plot, Y_plot, color='b', linestyle='--', linewidth=1, alpha=0.4)\n",
    "    sns_kdeplot_bicam.savefig(f\"./grad_cam_{filetype}/{filetype}_bicam_feat_cosine_analysis_kdeplot.png\", transparent=False, dpi=1500)\n",
    "    plt.close()\n",
    "    plt.clf()\n",
    "    \n",
    "    plt.figure()\n",
    "    no_bins_bicam_wo_sp = no_bins\n",
    "    bicameral_wo_sp = df.copy()\n",
    "    bicameral_wo_sp.drop(['label', 'img_ind_i', 'img_ind_j', 'bicam'], axis=1, inplace=True)\n",
    "    bicam_labels = pd.cut(bicameral_wo_sp['bicam_wo_sp'], bins=no_bins).unique()\n",
    "    if len(bicam_labels) < no_bins_bicam_wo_sp:\n",
    "        no_bins_bicam_wo_sp = len(bicam_labels)\n",
    "    \n",
    "    bicam_labels = sorted([(bicam_labels[i].left + bicam_labels[i].right) / 2 for i in range(len(bicam_labels))])\n",
    "    bicam_labels = [f\"{i:.3f}\" for i in bicam_labels]\n",
    "    bicameral['size'] = pd.cut(-1*bicameral[\"bicam\"], bins=no_bins_bicam_wo_sp, labels=bicam_labels[::-1])\n",
    "    bicameral_wo_sp['features cosine value'] = pd.cut(bicameral_wo_sp[\"bicam_wo_sp\"], bins=no_bins_bicam_wo_sp, labels=bicam_labels)\n",
    "    sns_kdeplot_bicam_wo_sp = sns.JointGrid(data=bicameral_wo_sp, x=\"narrow\", y=\"broad\", hue=\"features cosine value\", palette=\"RdYlGn\", height=5)\n",
    "    sns_kdeplot_bicam_wo_sp.plot(sns.scatterplot, sns.histplot)\n",
    "    sns_kdeplot_bicam_wo_sp.fig.subplots_adjust(top=0.9)\n",
    "    # sns_kdeplot_bicam_wo_sp.fig.suptitle('Cosine Values')\n",
    "    sns_kdeplot_bicam_wo_sp.set_axis_labels('Left Hemisphere (Specific)', 'Right Hemisphere (General)')\n",
    "    \n",
    "    if sns_kdeplot_bicam_wo_sp.ax_joint.get_legend() is not None:\n",
    "        sns_kdeplot_bicam_wo_sp.ax_joint.legend_.set_bbox_to_anchor(bbox=[1.75, 1.1])\n",
    "        sns_kdeplot_bicam_wo_sp.ax_joint.legend_.set_title(title='Concatenated')\n",
    "        plt.setp(sns_kdeplot_bicam_wo_sp.ax_joint.legend_.get_title(), fontsize='15')\n",
    "        plt.setp(sns_kdeplot_bicam_wo_sp.ax_joint.legend_.get_texts(), fontsize='15')\n",
    "    ax = plt.gca()\n",
    "    sns_kdeplot_bicam_wo_sp.ax_joint.plot(X_plot, Y_plot, color='b', linestyle='--', linewidth=1, alpha=0.4)\n",
    "    sns_kdeplot_bicam_wo_sp.savefig(f\"./grad_cam_{filetype}/{filetype}_bicam_wo_sp_feat_cosine_analysis_kdeplot.png\", transparent=False, dpi=1500)\n",
    "    plt.close()\n",
    "    plt.clf()"
   ]
  },
  {
   "cell_type": "code",
   "execution_count": 20,
   "id": "5a14b04a",
   "metadata": {},
   "outputs": [
    {
     "name": "stdout",
     "output_type": "stream",
     "text": [
      "1 nfbf-bicamnfbf\n",
      "2 ntbf-bicamnfbf\n",
      "3 nfbt-bicamnfbf\n",
      "4 ntbt-bicamnfbf\n",
      "5 nfbf-bicamntbf\n",
      "6 ntbf-bicamntbf\n",
      "7 nfbt-bicamntbf\n",
      "8 ntbt-bicamntbf\n",
      "9 nfbf-bicamnfbt\n",
      "10 ntbf-bicamnfbt\n"
     ]
    },
    {
     "name": "stderr",
     "output_type": "stream",
     "text": [
      "/home/chandramouli/miniconda3/envs/pytorch_p38/lib/python3.8/site-packages/seaborn/axisgrid.py:1670: RuntimeWarning: More than 20 figures have been opened. Figures created through the pyplot interface (`matplotlib.pyplot.figure`) are retained until explicitly closed and may consume too much memory. (To control this warning, see the rcParam `figure.max_open_warning`).\n",
      "  f = plt.figure(figsize=(height, height))\n"
     ]
    },
    {
     "name": "stdout",
     "output_type": "stream",
     "text": [
      "11 nfbt-bicamnfbt\n"
     ]
    },
    {
     "name": "stderr",
     "output_type": "stream",
     "text": [
      "/tmp/ipykernel_8742/379515018.py:8: RuntimeWarning: More than 20 figures have been opened. Figures created through the pyplot interface (`matplotlib.pyplot.figure`) are retained until explicitly closed and may consume too much memory. (To control this warning, see the rcParam `figure.max_open_warning`).\n",
      "  plt.figure()\n"
     ]
    },
    {
     "name": "stdout",
     "output_type": "stream",
     "text": [
      "12 ntbt-bicamnfbt\n",
      "13 nfbf-bicamntbt\n",
      "14 ntbf-bicamntbt\n",
      "15 nfbt-bicamntbt\n",
      "16 ntbt-bicamntbt\n"
     ]
    },
    {
     "data": {
      "text/plain": [
       "<Figure size 432x288 with 0 Axes>"
      ]
     },
     "metadata": {},
     "output_type": "display_data"
    },
    {
     "data": {
      "text/plain": [
       "<Figure size 432x288 with 0 Axes>"
      ]
     },
     "metadata": {},
     "output_type": "display_data"
    },
    {
     "data": {
      "text/plain": [
       "<Figure size 432x288 with 0 Axes>"
      ]
     },
     "metadata": {},
     "output_type": "display_data"
    },
    {
     "data": {
      "text/plain": [
       "<Figure size 432x288 with 0 Axes>"
      ]
     },
     "metadata": {},
     "output_type": "display_data"
    },
    {
     "data": {
      "text/plain": [
       "<Figure size 432x288 with 0 Axes>"
      ]
     },
     "metadata": {},
     "output_type": "display_data"
    },
    {
     "data": {
      "text/plain": [
       "<Figure size 432x288 with 0 Axes>"
      ]
     },
     "metadata": {},
     "output_type": "display_data"
    },
    {
     "data": {
      "text/plain": [
       "<Figure size 432x288 with 0 Axes>"
      ]
     },
     "metadata": {},
     "output_type": "display_data"
    },
    {
     "data": {
      "text/plain": [
       "<Figure size 432x288 with 0 Axes>"
      ]
     },
     "metadata": {},
     "output_type": "display_data"
    },
    {
     "data": {
      "text/plain": [
       "<Figure size 432x288 with 0 Axes>"
      ]
     },
     "metadata": {},
     "output_type": "display_data"
    },
    {
     "data": {
      "text/plain": [
       "<Figure size 432x288 with 0 Axes>"
      ]
     },
     "metadata": {},
     "output_type": "display_data"
    },
    {
     "data": {
      "text/plain": [
       "<Figure size 432x288 with 0 Axes>"
      ]
     },
     "metadata": {},
     "output_type": "display_data"
    },
    {
     "data": {
      "text/plain": [
       "<Figure size 432x288 with 0 Axes>"
      ]
     },
     "metadata": {},
     "output_type": "display_data"
    },
    {
     "data": {
      "text/plain": [
       "<Figure size 432x288 with 0 Axes>"
      ]
     },
     "metadata": {},
     "output_type": "display_data"
    },
    {
     "data": {
      "text/plain": [
       "<Figure size 432x288 with 0 Axes>"
      ]
     },
     "metadata": {},
     "output_type": "display_data"
    },
    {
     "data": {
      "text/plain": [
       "<Figure size 432x288 with 0 Axes>"
      ]
     },
     "metadata": {},
     "output_type": "display_data"
    },
    {
     "data": {
      "text/plain": [
       "<Figure size 432x288 with 0 Axes>"
      ]
     },
     "metadata": {},
     "output_type": "display_data"
    },
    {
     "data": {
      "text/plain": [
       "<Figure size 432x288 with 0 Axes>"
      ]
     },
     "metadata": {},
     "output_type": "display_data"
    },
    {
     "data": {
      "text/plain": [
       "<Figure size 432x288 with 0 Axes>"
      ]
     },
     "metadata": {},
     "output_type": "display_data"
    },
    {
     "data": {
      "text/plain": [
       "<Figure size 432x288 with 0 Axes>"
      ]
     },
     "metadata": {},
     "output_type": "display_data"
    },
    {
     "data": {
      "text/plain": [
       "<Figure size 432x288 with 0 Axes>"
      ]
     },
     "metadata": {},
     "output_type": "display_data"
    },
    {
     "data": {
      "text/plain": [
       "<Figure size 432x288 with 0 Axes>"
      ]
     },
     "metadata": {},
     "output_type": "display_data"
    },
    {
     "data": {
      "text/plain": [
       "<Figure size 432x288 with 0 Axes>"
      ]
     },
     "metadata": {},
     "output_type": "display_data"
    },
    {
     "data": {
      "text/plain": [
       "<Figure size 432x288 with 0 Axes>"
      ]
     },
     "metadata": {},
     "output_type": "display_data"
    },
    {
     "data": {
      "text/plain": [
       "<Figure size 432x288 with 0 Axes>"
      ]
     },
     "metadata": {},
     "output_type": "display_data"
    },
    {
     "data": {
      "text/plain": [
       "<Figure size 432x288 with 0 Axes>"
      ]
     },
     "metadata": {},
     "output_type": "display_data"
    },
    {
     "data": {
      "text/plain": [
       "<Figure size 432x288 with 0 Axes>"
      ]
     },
     "metadata": {},
     "output_type": "display_data"
    },
    {
     "data": {
      "text/plain": [
       "<Figure size 432x288 with 0 Axes>"
      ]
     },
     "metadata": {},
     "output_type": "display_data"
    },
    {
     "data": {
      "text/plain": [
       "<Figure size 432x288 with 0 Axes>"
      ]
     },
     "metadata": {},
     "output_type": "display_data"
    },
    {
     "data": {
      "text/plain": [
       "<Figure size 432x288 with 0 Axes>"
      ]
     },
     "metadata": {},
     "output_type": "display_data"
    },
    {
     "data": {
      "text/plain": [
       "<Figure size 432x288 with 0 Axes>"
      ]
     },
     "metadata": {},
     "output_type": "display_data"
    },
    {
     "data": {
      "text/plain": [
       "<Figure size 432x288 with 0 Axes>"
      ]
     },
     "metadata": {},
     "output_type": "display_data"
    },
    {
     "data": {
      "text/plain": [
       "<Figure size 432x288 with 0 Axes>"
      ]
     },
     "metadata": {},
     "output_type": "display_data"
    },
    {
     "ename": "",
     "evalue": "",
     "output_type": "error",
     "traceback": [
      "\u001b[1;31mThe Kernel crashed while executing code in the the current cell or a previous cell. Please review the code in the cell(s) to identify a possible cause of the failure. Click <a href='https://aka.ms/vscodeJupyterKernelCrash'>here</a> for more info. View Jupyter <a href='command:jupyter.viewOutput'>log</a> for further details."
     ]
    }
   ],
   "source": [
    "iter_index = get_index()\n",
    "for index in iter_index:\n",
    "    # if index != 12:\n",
    "    #     continue\n",
    "    filetype = filetypes[index]\n",
    "    print(f\"{index+1} {filetype}\", end=\"\\n\")\n",
    "    df = get_df(filetype)\n",
    "    # save_df(df)\n",
    "    kdeplot(df, filetype)\n",
    "    # relplot(df, filetype)\n",
    "    "
   ]
  }
 ],
 "metadata": {
  "kernelspec": {
   "display_name": "Python 3.8.13 ('pytorch_p38')",
   "language": "python",
   "name": "python3"
  },
  "language_info": {
   "codemirror_mode": {
    "name": "ipython",
    "version": 3
   },
   "file_extension": ".py",
   "mimetype": "text/x-python",
   "name": "python",
   "nbconvert_exporter": "python",
   "pygments_lexer": "ipython3",
   "version": "3.8.13"
  },
  "vscode": {
   "interpreter": {
    "hash": "7cc36a4136839f4b1ce69e7451cc1c7ea6357c5a1130de1c1984ef5dbd3bf05c"
   }
  }
 },
 "nbformat": 4,
 "nbformat_minor": 5
}
