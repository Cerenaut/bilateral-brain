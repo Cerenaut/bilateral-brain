{
 "cells": [
  {
   "cell_type": "markdown",
   "id": "a374b279",
   "metadata": {},
   "source": [
    "# from resnet_v0"
   ]
  },
  {
   "cell_type": "code",
   "execution_count": 1,
   "id": "f13e5ecf",
   "metadata": {},
   "outputs": [
    {
     "name": "stderr",
     "output_type": "stream",
     "text": [
      "/home/yanfeng/miniconda3/envs/bilateral/lib/python3.9/site-packages/tqdm/auto.py:22: TqdmWarning: IProgress not found. Please update jupyter and ipywidgets. See https://ipywidgets.readthedocs.io/en/stable/user_install.html\n",
      "  from .autonotebook import tqdm as notebook_tqdm\n"
     ]
    }
   ],
   "source": [
    "import torch\n",
    "import torch.nn as nn\n",
    "import torch.nn.functional as F\n",
    "\n",
    "import math\n",
    "import numpy as np\n",
    "from argparse import Namespace"
   ]
  },
  {
   "cell_type": "code",
   "execution_count": 2,
   "id": "90fdc81f",
   "metadata": {},
   "outputs": [],
   "source": [
    "\n",
    "class SparseConv(nn.Module):\n",
    "    def __init__(self, k, k_percent):\n",
    "        super(SparseConv, self).__init__()\n",
    "        self.k = k\n",
    "        self.k_percent = k_percent\n",
    "\n",
    "    def unravel_index(self, mask, indices, k):\n",
    "        \"\"\" \"\"\"\n",
    "        \n",
    "        a = torch.arange(0, indices.shape[0])\n",
    "        a = torch.cat(k * [a.unsqueeze(-1)], axis=-1)\n",
    "        indices = [a.view(-1), indices.view(-1)]\n",
    "        mask[indices] = 1\n",
    "        return mask\n",
    "\n",
    "    def batch_topk(self, inp, k):\n",
    "        \"\"\" \"\"\" \n",
    "        \n",
    "        (buffer, indices) = torch.topk(inp, k, -1, True)#k个最大\n",
    "        mask = torch.zeros_like(inp).bool()\n",
    "        mask = self.unravel_index(mask, indices, k)\n",
    "        inp = inp * mask\n",
    "        return inp\n",
    "\n",
    "    def filter(self, x):  # Applied to a batch.\n",
    "        \"\"\" \"\"\"\n",
    "        k_per_map = math.ceil(self.k * x.shape[2] * x.shape[3]) #k乘维度2和维度3\n",
    "        x = x.permute(1, 0, 2, 3)#维度换位,原来的维度0和维度1换位\n",
    "        inp = x.reshape(x.shape[0] * x.shape[1], -1)#保留新维度0，其余展开\n",
    "        \n",
    "        inp = self.batch_topk(inp, k_per_map)\n",
    "        inp = inp.reshape(x.shape[0], x.shape[1] * x.shape[2] * x.shape[3])\n",
    "        k_factor = math.ceil(self.k_percent * k_per_map * x.shape[1])\n",
    "        inp = self.batch_topk(inp, k_factor)\n",
    "        inp = inp.reshape(x.shape[0], x.shape[1], x.shape[2], x.shape[3])\n",
    "        inp = inp.permute(1, 0, 2, 3)\n",
    "        return inp"
   ]
  },
  {
   "cell_type": "code",
   "execution_count": 21,
   "id": "3ae19236",
   "metadata": {},
   "outputs": [],
   "source": [
    "\n",
    "def unravel_index(mask, indices, k):\n",
    "\n",
    "    a = torch.arange(0, indices.shape[0])\n",
    "    a = torch.cat(k * [a.unsqueeze(-1)], axis=-1)\n",
    "    indices = [a.view(-1), indices.view(-1)]\n",
    "    mask[indices] = 1\n",
    "    return mask\n",
    "\n",
    "def batch_topk( inp, k):\n",
    "\n",
    "    (buffer, indices) = torch.topk(inp, k, -1, True)#k个最大\n",
    "    mask = torch.zeros_like(inp).bool()\n",
    "    mask = unravel_index(mask, indices, k)\n",
    "    inp = inp * mask\n",
    "    return inp\n",
    "\n",
    "def filter(x):  # Applied to a batch.\n",
    "    k_per_map = math.ceil(k * x.shape[2] * x.shape[3]) #k乘维度2和维度3\n",
    "    x = x.permute(1, 0, 2, 3)#维度换位,原来的维度0和维度1换位\n",
    "    inp = x.reshape(x.shape[0] * x.shape[1], -1)#保留新维度0，其余展开\n",
    "        \n",
    "    inp = batch_topk(inp, k_per_map)\n",
    "    inp = inp.reshape(x.shape[0], x.shape[1] * x.shape[2] * x.shape[3])\n",
    "    k_factor = math.ceil(k_percent * k_per_map * x.shape[1])\n",
    "    inp = batch_topk(inp, k_factor)\n",
    "    inp = inp.reshape(x.shape[0], x.shape[1], x.shape[2], x.shape[3])\n",
    "    inp = inp.permute(1, 0, 2, 3)\n",
    "    return inp"
   ]
  },
  {
   "cell_type": "code",
   "execution_count": 63,
   "id": "0357fee0",
   "metadata": {},
   "outputs": [
    {
     "name": "stdout",
     "output_type": "stream",
     "text": [
      "tensor([[[[0.7267, 0.2396, 0.1355, 0.6031],\n",
      "          [0.9992, 0.6631, 0.2969, 0.4840],\n",
      "          [0.1630, 0.7144, 0.1736, 0.9222]]],\n",
      "\n",
      "\n",
      "        [[[0.1905, 0.5748, 0.1654, 0.6083],\n",
      "          [0.9095, 0.4006, 0.0388, 0.7231],\n",
      "          [0.3230, 0.2629, 0.1584, 0.0243]]],\n",
      "\n",
      "\n",
      "        [[[0.2465, 0.3460, 0.6081, 0.3679],\n",
      "          [0.8153, 0.0063, 0.5922, 0.6756],\n",
      "          [0.6459, 0.7110, 0.4536, 0.4574]]]])\n"
     ]
    }
   ],
   "source": [
    "x=torch.rand(3, 1, 3, 4)\n",
    "print(x)"
   ]
  },
  {
   "cell_type": "code",
   "execution_count": 64,
   "id": "f45baa97",
   "metadata": {},
   "outputs": [
    {
     "name": "stdout",
     "output_type": "stream",
     "text": [
      "[0.006291508674621582, 0.024332642555236816, 0.038789212703704834, 0.13550329208374023, 0.15841537714004517, 0.16299211978912354, 0.16537773609161377, 0.17358827590942383, 0.19052261114120483, 0.23958462476730347, 0.24649661779403687, 0.2629052996635437, 0.29690873622894287, 0.32299792766571045, 0.3459511399269104, 0.36789363622665405, 0.4005868434906006, 0.4535815119743347, 0.45743393898010254, 0.4839909076690674, 0.5747764110565186, 0.5922250151634216, 0.6031078696250916, 0.6080601811408997, 0.6082941889762878, 0.6459240317344666, 0.6630747318267822, 0.6755623817443848, 0.7109774351119995, 0.7143705487251282, 0.7230732440948486, 0.726678192615509, 0.8152569532394409, 0.909501850605011, 0.9222007989883423, 0.9991892576217651]\n"
     ]
    }
   ],
   "source": [
    "import numpy\n",
    "b=x.reshape(1,-1).tolist()\n",
    "b[0].sort()\n",
    "print(b[0])"
   ]
  },
  {
   "cell_type": "code",
   "execution_count": 68,
   "id": "e9d7a199",
   "metadata": {},
   "outputs": [
    {
     "name": "stdout",
     "output_type": "stream",
     "text": [
      "k is 1\n",
      "k_percent is 1\n",
      "tensor([[[[0.7267, 0.2396, 0.1355, 0.6031],\n",
      "          [0.9992, 0.6631, 0.2969, 0.4840],\n",
      "          [0.1630, 0.7144, 0.1736, 0.9222]]],\n",
      "\n",
      "\n",
      "        [[[0.1905, 0.5748, 0.1654, 0.6083],\n",
      "          [0.9095, 0.4006, 0.0388, 0.7231],\n",
      "          [0.3230, 0.2629, 0.1584, 0.0243]]],\n",
      "\n",
      "\n",
      "        [[[0.2465, 0.3460, 0.6081, 0.3679],\n",
      "          [0.8153, 0.0063, 0.5922, 0.6756],\n",
      "          [0.6459, 0.7110, 0.4536, 0.4574]]]])\n",
      "k is 1\n",
      "k_percent is 0.1\n",
      "tensor([[[[0.0000, 0.0000, 0.0000, 0.0000],\n",
      "          [0.9992, 0.0000, 0.0000, 0.0000],\n",
      "          [0.0000, 0.0000, 0.0000, 0.9222]]],\n",
      "\n",
      "\n",
      "        [[[0.0000, 0.0000, 0.0000, 0.0000],\n",
      "          [0.9095, 0.0000, 0.0000, 0.0000],\n",
      "          [0.0000, 0.0000, 0.0000, 0.0000]]],\n",
      "\n",
      "\n",
      "        [[[0.0000, 0.0000, 0.0000, 0.0000],\n",
      "          [0.8153, 0.0000, 0.0000, 0.0000],\n",
      "          [0.0000, 0.0000, 0.0000, 0.0000]]]])\n",
      "k is 1\n",
      "k_percent is 0.9\n",
      "tensor([[[[0.7267, 0.2396, 0.1355, 0.6031],\n",
      "          [0.9992, 0.6631, 0.2969, 0.4840],\n",
      "          [0.1630, 0.7144, 0.1736, 0.9222]]],\n",
      "\n",
      "\n",
      "        [[[0.1905, 0.5748, 0.1654, 0.6083],\n",
      "          [0.9095, 0.4006, 0.0000, 0.7231],\n",
      "          [0.3230, 0.2629, 0.1584, 0.0000]]],\n",
      "\n",
      "\n",
      "        [[[0.2465, 0.3460, 0.6081, 0.3679],\n",
      "          [0.8153, 0.0000, 0.5922, 0.6756],\n",
      "          [0.6459, 0.7110, 0.4536, 0.4574]]]])\n",
      "k is 0.1\n",
      "k_percent is 1\n",
      "tensor([[[[0.0000, 0.0000, 0.0000, 0.0000],\n",
      "          [0.9992, 0.0000, 0.0000, 0.0000],\n",
      "          [0.0000, 0.0000, 0.0000, 0.9222]]],\n",
      "\n",
      "\n",
      "        [[[0.0000, 0.0000, 0.0000, 0.0000],\n",
      "          [0.9095, 0.0000, 0.0000, 0.7231],\n",
      "          [0.0000, 0.0000, 0.0000, 0.0000]]],\n",
      "\n",
      "\n",
      "        [[[0.0000, 0.0000, 0.0000, 0.0000],\n",
      "          [0.8153, 0.0000, 0.0000, 0.0000],\n",
      "          [0.0000, 0.7110, 0.0000, 0.0000]]]])\n",
      "k is 0.1\n",
      "k_percent is 0.1\n",
      "tensor([[[[0.0000, 0.0000, 0.0000, 0.0000],\n",
      "          [0.9992, 0.0000, 0.0000, 0.0000],\n",
      "          [0.0000, 0.0000, 0.0000, 0.0000]]],\n",
      "\n",
      "\n",
      "        [[[0.0000, 0.0000, 0.0000, 0.0000],\n",
      "          [0.0000, 0.0000, 0.0000, 0.0000],\n",
      "          [0.0000, 0.0000, 0.0000, 0.0000]]],\n",
      "\n",
      "\n",
      "        [[[0.0000, 0.0000, 0.0000, 0.0000],\n",
      "          [0.0000, 0.0000, 0.0000, 0.0000],\n",
      "          [0.0000, 0.0000, 0.0000, 0.0000]]]])\n",
      "k is 0.1\n",
      "k_percent is 0.9\n",
      "tensor([[[[0.0000, 0.0000, 0.0000, 0.0000],\n",
      "          [0.9992, 0.0000, 0.0000, 0.0000],\n",
      "          [0.0000, 0.0000, 0.0000, 0.9222]]],\n",
      "\n",
      "\n",
      "        [[[0.0000, 0.0000, 0.0000, 0.0000],\n",
      "          [0.9095, 0.0000, 0.0000, 0.7231],\n",
      "          [0.0000, 0.0000, 0.0000, 0.0000]]],\n",
      "\n",
      "\n",
      "        [[[0.0000, 0.0000, 0.0000, 0.0000],\n",
      "          [0.8153, 0.0000, 0.0000, 0.0000],\n",
      "          [0.0000, 0.7110, 0.0000, 0.0000]]]])\n",
      "k is 0.9\n",
      "k_percent is 1\n",
      "tensor([[[[0.7267, 0.2396, 0.0000, 0.6031],\n",
      "          [0.9992, 0.6631, 0.2969, 0.4840],\n",
      "          [0.1630, 0.7144, 0.1736, 0.9222]]],\n",
      "\n",
      "\n",
      "        [[[0.1905, 0.5748, 0.1654, 0.6083],\n",
      "          [0.9095, 0.4006, 0.0388, 0.7231],\n",
      "          [0.3230, 0.2629, 0.1584, 0.0000]]],\n",
      "\n",
      "\n",
      "        [[[0.2465, 0.3460, 0.6081, 0.3679],\n",
      "          [0.8153, 0.0000, 0.5922, 0.6756],\n",
      "          [0.6459, 0.7110, 0.4536, 0.4574]]]])\n",
      "k is 0.9\n",
      "k_percent is 0.1\n",
      "tensor([[[[0.0000, 0.0000, 0.0000, 0.0000],\n",
      "          [0.9992, 0.0000, 0.0000, 0.0000],\n",
      "          [0.0000, 0.0000, 0.0000, 0.9222]]],\n",
      "\n",
      "\n",
      "        [[[0.0000, 0.0000, 0.0000, 0.0000],\n",
      "          [0.9095, 0.0000, 0.0000, 0.0000],\n",
      "          [0.0000, 0.0000, 0.0000, 0.0000]]],\n",
      "\n",
      "\n",
      "        [[[0.0000, 0.0000, 0.0000, 0.0000],\n",
      "          [0.8153, 0.0000, 0.0000, 0.0000],\n",
      "          [0.0000, 0.0000, 0.0000, 0.0000]]]])\n",
      "k is 0.9\n",
      "k_percent is 0.9\n",
      "tensor([[[[0.7267, 0.2396, 0.0000, 0.6031],\n",
      "          [0.9992, 0.6631, 0.2969, 0.4840],\n",
      "          [0.0000, 0.7144, 0.1736, 0.9222]]],\n",
      "\n",
      "\n",
      "        [[[0.1905, 0.5748, 0.1654, 0.6083],\n",
      "          [0.9095, 0.4006, 0.0000, 0.7231],\n",
      "          [0.3230, 0.2629, 0.0000, 0.0000]]],\n",
      "\n",
      "\n",
      "        [[[0.2465, 0.3460, 0.6081, 0.3679],\n",
      "          [0.8153, 0.0000, 0.5922, 0.6756],\n",
      "          [0.6459, 0.7110, 0.4536, 0.4574]]]])\n"
     ]
    }
   ],
   "source": [
    "klist=[1,0.1,0.9]\n",
    "kperlist=[1,0.1,0.9]\n",
    "for a in klist:\n",
    "    for b in kperlist:\n",
    "        k=a\n",
    "        print(\"k is \"+str(k))\n",
    "        k_percent=b\n",
    "        print(\"k_percent is \"+str(k_percent))\n",
    "        print(filter(x))"
   ]
  },
  {
   "cell_type": "code",
   "execution_count": 3,
   "id": "0340b626",
   "metadata": {},
   "outputs": [
    {
     "ename": "SyntaxError",
     "evalue": "invalid syntax (<ipython-input-3-03ad5002bbe5>, line 4)",
     "output_type": "error",
     "traceback": [
      "\u001b[0;36m  Cell \u001b[0;32mIn[3], line 4\u001b[0;36m\u001b[0m\n\u001b[0;31m    k_per_map=0.1*3*4 取整=2向上\u001b[0m\n\u001b[0m                      ^\u001b[0m\n\u001b[0;31mSyntaxError\u001b[0m\u001b[0;31m:\u001b[0m invalid syntax\n"
     ]
    }
   ],
   "source": [
    "k=0.5\n",
    "\n",
    "x=1,2,3,4\n",
    "k_per_map=0.1*3*4 取整=2向上\n"
   ]
  },
  {
   "cell_type": "code",
   "execution_count": 4,
   "id": "667570b7",
   "metadata": {},
   "outputs": [
    {
     "name": "stdout",
     "output_type": "stream",
     "text": [
      "torch.Size([1, 2, 3, 4])\n",
      "torch.Size([2, 1, 3, 4])\n",
      "torch.Size([2, 12])\n"
     ]
    }
   ],
   "source": [
    "x=torch.rand(1,2,3,4)\n",
    "print(x.size())\n",
    "x=x.permute(1, 0, 2, 3)\n",
    "print(x.size())\n",
    "inp = x.reshape(x.shape[0] * x.shape[1], -1)\n",
    "print(inp.size())"
   ]
  },
  {
   "cell_type": "code",
   "execution_count": 5,
   "id": "4f9d8faf",
   "metadata": {},
   "outputs": [
    {
     "data": {
      "text/plain": [
       "tensor([[[[0.0629, 0.3333, 0.9897, 0.0092],\n",
       "          [0.6994, 0.1588, 0.5580, 0.6335],\n",
       "          [0.8399, 0.8978, 0.1073, 0.4354]]],\n",
       "\n",
       "\n",
       "        [[[0.9030, 0.6095, 0.8526, 0.5466],\n",
       "          [0.3246, 0.6502, 0.0882, 0.1741],\n",
       "          [0.5851, 0.9862, 0.4548, 0.1090]]]])"
      ]
     },
     "execution_count": 5,
     "metadata": {},
     "output_type": "execute_result"
    }
   ],
   "source": [
    "x"
   ]
  },
  {
   "cell_type": "code",
   "execution_count": 6,
   "id": "b6121232",
   "metadata": {},
   "outputs": [
    {
     "name": "stdout",
     "output_type": "stream",
     "text": [
      "6\n"
     ]
    }
   ],
   "source": [
    "k=0.5\n",
    "k_per_map = math.ceil(k * x.shape[2] * x.shape[3])\n",
    "print(k_per_map)"
   ]
  },
  {
   "cell_type": "markdown",
   "id": "52cc7c3a",
   "metadata": {},
   "source": [
    "# batch topk"
   ]
  },
  {
   "cell_type": "code",
   "execution_count": 7,
   "id": "26547852",
   "metadata": {},
   "outputs": [
    {
     "data": {
      "text/plain": [
       "tensor([[0.0629, 0.3333, 0.9897, 0.0092, 0.6994, 0.1588, 0.5580, 0.6335, 0.8399,\n",
       "         0.8978, 0.1073, 0.4354],\n",
       "        [0.9030, 0.6095, 0.8526, 0.5466, 0.3246, 0.6502, 0.0882, 0.1741, 0.5851,\n",
       "         0.9862, 0.4548, 0.1090]])"
      ]
     },
     "execution_count": 7,
     "metadata": {},
     "output_type": "execute_result"
    }
   ],
   "source": [
    "inp"
   ]
  },
  {
   "cell_type": "code",
   "execution_count": 8,
   "id": "b704a3b8",
   "metadata": {},
   "outputs": [
    {
     "name": "stdout",
     "output_type": "stream",
     "text": [
      "tensor([[0.9897, 0.8978, 0.8399, 0.6994, 0.6335, 0.5580, 0.4354, 0.3333, 0.1588,\n",
      "         0.1073, 0.0629],\n",
      "        [0.9862, 0.9030, 0.8526, 0.6502, 0.6095, 0.5851, 0.5466, 0.4548, 0.3246,\n",
      "         0.1741, 0.1090]])\n",
      "tensor([[ 2,  9,  8,  4,  7,  6, 11,  1,  5, 10,  0],\n",
      "        [ 9,  0,  2,  5,  1,  8,  3, 10,  4,  7, 11]])\n",
      "torch.Size([2, 11])\n",
      "torch.Size([2, 11])\n",
      "tensor([[False, False, False, False, False, False, False, False, False, False,\n",
      "         False, False],\n",
      "        [False, False, False, False, False, False, False, False, False, False,\n",
      "         False, False]])\n"
     ]
    }
   ],
   "source": [
    "(buffer, indices)=torch.topk(inp, 11, -1, True)\n",
    "print(buffer)#值\n",
    "print(indices)#索引\n",
    "print(buffer.size())\n",
    "print(indices.size())\n",
    "mask = torch.zeros_like(inp).bool()\n",
    "print(mask)"
   ]
  },
  {
   "cell_type": "markdown",
   "id": "c3cd8247",
   "metadata": {},
   "source": [
    "# unravel_index"
   ]
  },
  {
   "cell_type": "code",
   "execution_count": 9,
   "id": "c46c10e3",
   "metadata": {},
   "outputs": [
    {
     "data": {
      "text/plain": [
       "torch.Size([2, 11])"
      ]
     },
     "execution_count": 9,
     "metadata": {},
     "output_type": "execute_result"
    }
   ],
   "source": [
    "indices.size()"
   ]
  },
  {
   "cell_type": "code",
   "execution_count": 10,
   "id": "e55e1abe",
   "metadata": {},
   "outputs": [
    {
     "name": "stdout",
     "output_type": "stream",
     "text": [
      "tensor([0, 1])\n",
      "tensor([[0, 0, 0, 0, 0, 0],\n",
      "        [1, 1, 1, 1, 1, 1]])\n",
      "[tensor([0, 0, 0, 0, 0, 0, 1, 1, 1, 1, 1, 1]), tensor([ 2,  9,  8,  4,  7,  6, 11,  1,  5, 10,  0,  9,  0,  2,  5,  1,  8,  3,\n",
      "        10,  4,  7, 11])]\n"
     ]
    },
    {
     "ename": "IndexError",
     "evalue": "shape mismatch: indexing tensors could not be broadcast together with shapes [12], [22]",
     "output_type": "error",
     "traceback": [
      "\u001b[0;31m---------------------------------------------------------------------------\u001b[0m",
      "\u001b[0;31mIndexError\u001b[0m                                Traceback (most recent call last)",
      "Cell \u001b[0;32mIn[10], line 7\u001b[0m\n\u001b[1;32m      5\u001b[0m indices \u001b[38;5;241m=\u001b[39m [a\u001b[38;5;241m.\u001b[39mview(\u001b[38;5;241m-\u001b[39m\u001b[38;5;241m1\u001b[39m), indices\u001b[38;5;241m.\u001b[39mview(\u001b[38;5;241m-\u001b[39m\u001b[38;5;241m1\u001b[39m)]\n\u001b[1;32m      6\u001b[0m \u001b[38;5;28mprint\u001b[39m(indices)\n\u001b[0;32m----> 7\u001b[0m \u001b[43mmask\u001b[49m\u001b[43m[\u001b[49m\u001b[43mindices\u001b[49m\u001b[43m]\u001b[49m \u001b[38;5;241m=\u001b[39m \u001b[38;5;241m1\u001b[39m\n",
      "\u001b[0;31mIndexError\u001b[0m: shape mismatch: indexing tensors could not be broadcast together with shapes [12], [22]"
     ]
    }
   ],
   "source": [
    "a = torch.arange(0, indices.shape[0])\n",
    "print(a)\n",
    "a = torch.cat(k_per_map * [a.unsqueeze(-1)], axis=-1)\n",
    "print(a)\n",
    "indices = [a.view(-1), indices.view(-1)]\n",
    "print(indices)\n",
    "mask[indices] = 1"
   ]
  },
  {
   "cell_type": "code",
   "execution_count": 11,
   "id": "96d3f17c",
   "metadata": {},
   "outputs": [
    {
     "name": "stdout",
     "output_type": "stream",
     "text": [
      "tensor([[False, False, False, False, False, False, False, False, False, False,\n",
      "         False, False],\n",
      "        [False, False, False, False, False, False, False, False, False, False,\n",
      "         False, False]])\n"
     ]
    }
   ],
   "source": [
    "print(mask)"
   ]
  },
  {
   "cell_type": "markdown",
   "id": "bd29fdb7",
   "metadata": {},
   "source": [
    "# batch top k"
   ]
  },
  {
   "cell_type": "code",
   "execution_count": null,
   "id": "72416fb7",
   "metadata": {},
   "outputs": [],
   "source": [
    "inp = inp * mask"
   ]
  },
  {
   "cell_type": "code",
   "execution_count": null,
   "id": "b2e6e9d7",
   "metadata": {},
   "outputs": [],
   "source": [
    "inp"
   ]
  },
  {
   "cell_type": "code",
   "execution_count": null,
   "id": "6427a009",
   "metadata": {},
   "outputs": [],
   "source": [
    "inp = inp.reshape(x.shape[0], x.shape[1], x.shape[2], x.shape[3])\n",
    "inp = inp.permute(1, 0, 2, 3)\n",
    "inp"
   ]
  },
  {
   "cell_type": "code",
   "execution_count": null,
   "id": "2a837fb6",
   "metadata": {},
   "outputs": [],
   "source": []
  }
 ],
 "metadata": {
  "kernelspec": {
   "display_name": "Python 3",
   "language": "python",
   "name": "python3"
  },
  "language_info": {
   "codemirror_mode": {
    "name": "ipython",
    "version": 3
   },
   "file_extension": ".py",
   "mimetype": "text/x-python",
   "name": "python",
   "nbconvert_exporter": "python",
   "pygments_lexer": "ipython3",
   "version": "3.9.16"
  }
 },
 "nbformat": 4,
 "nbformat_minor": 5
}
