{
 "cells": [
  {
   "cell_type": "code",
   "execution_count": 1,
   "id": "ecf07503",
   "metadata": {},
   "outputs": [
    {
     "name": "stderr",
     "output_type": "stream",
     "text": [
      "/home/yanfeng/miniconda3/envs/bilateral/lib/python3.9/site-packages/tqdm/auto.py:22: TqdmWarning: IProgress not found. Please update jupyter and ipywidgets. See https://ipywidgets.readthedocs.io/en/stable/user_install.html\n",
      "  from .autonotebook import tqdm as notebook_tqdm\n"
     ]
    }
   ],
   "source": [
    "import os\n",
    "import sys\n",
    "import optuna\n",
    "import shutil\n",
    "import os.path as osp\n",
    "import pytorch_lightning as pl\n",
    "\n",
    "from pathlib import Path\n",
    "from argparse import ArgumentParser, Namespace\n",
    "from pytorch_lightning.callbacks import ModelCheckpoint\n",
    "from pytorch_lightning.loggers import TensorBoardLogger\n",
    "\n",
    "from datamodule import DataModule\n",
    "from supervised import SupervisedLightningModule,inverseSupervisedLightningModule\n",
    "\n",
    "import sys\n",
    "sys.path.append('../')\n",
    "from utils import run_cli, yaml_func"
   ]
  },
  {
   "cell_type": "code",
   "execution_count": 4,
   "id": "b882b7dd",
   "metadata": {},
   "outputs": [],
   "source": [
    "def main(config_path) -> None:\n",
    "    config = run_cli(config_path=config_path)\n",
    "    seeds = config['seeds']\n",
    "    for seed in seeds:\n",
    "        if seed is not None:\n",
    "            pl.seed_everything(seed)\n",
    "\n",
    "        ckpt_callback = ModelCheckpoint(\n",
    "            filename='{epoch}-{val_acc:.2f}',\n",
    "            **config['ckpt_callback'],\n",
    "        )\n",
    "        if 'callbacks' in config['trainer_params']:\n",
    "            config['trainer_params']['callbacks'] = yaml_func(\n",
    "                config['trainer_params']['callbacks'])\n",
    "        if config['trainer_params']['default_root_dir'] == \"None\":\n",
    "            config['trainer_params']['default_root_dir'] = osp.dirname(__file__)\n",
    "        \n",
    "        \n",
    "        if config[\"hparams\"][\"inverse\"]==0:\n",
    "            model = SupervisedLightningModule(config)\n",
    "        elif config[\"hparams\"][\"inverse\"]==1:\n",
    "            model = inverseSupervisedLightningModule(config)\n",
    "\n",
    "        logger = TensorBoardLogger(\n",
    "            save_dir=config['logger']['save_dir'],\n",
    "            name=config['logger']['name']+f\"-seed{seed}\",\n",
    "            version=config['logger']['version'],)\n",
    "        \n",
    "        dest_dir = os.path.join(config['logger']['save_dir'], config['logger']['name']+f\"-seed{seed}\", f\"{config['logger']['version']}\")\n",
    "\n",
    "        trainer = pl.Trainer(**config['trainer_params'],\n",
    "                            callbacks=[ckpt_callback],\n",
    "                            logger=logger)\n",
    "        imdm = DataModule(\n",
    "            train_dir=config['dataset']['train_dir'],\n",
    "            val_dir=config['dataset']['val_dir'],\n",
    "            batch_size=config['hparams']['batch_size'])\n",
    "        trainer.fit(model, datamodule=imdm)\n",
    "        shutil.copy(config_path, f'{dest_dir}/config.yaml')"
   ]
  },
  {
   "cell_type": "code",
   "execution_count": 5,
   "id": "95454656",
   "metadata": {},
   "outputs": [
    {
     "name": "stderr",
     "output_type": "stream",
     "text": [
      "Global seed set to 4\n",
      "GPU available: True, used: True\n",
      "TPU available: False, using: 0 TPU cores\n",
      "IPU available: False, using: 0 IPUs\n",
      "LOCAL_RANK: 0 - CUDA_VISIBLE_DEVICES: [0]\n",
      "\n",
      "  | Name    | Type             | Params\n",
      "---------------------------------------------\n",
      "0 | model   | ResNet9          | 6.6 M \n",
      "1 | ce_loss | CrossEntropyLoss | 0     \n",
      "---------------------------------------------\n",
      "6.6 M     Trainable params\n",
      "0         Non-trainable params\n",
      "6.6 M     Total params\n",
      "26.486    Total estimated model params size (MB)\n"
     ]
    },
    {
     "name": "stdout",
     "output_type": "stream",
     "text": [
      "                                                                      "
     ]
    },
    {
     "name": "stderr",
     "output_type": "stream",
     "text": [
      "Global seed set to 4\n"
     ]
    },
    {
     "name": "stdout",
     "output_type": "stream",
     "text": [
      "Epoch 0:  83%|████████▎ | 196/236 [00:29<00:05,  6.71it/s, loss=1.85, v_num=dam|]\n",
      "Validating: 0it [00:00, ?it/s]\u001b[A\n",
      "Validating:   0%|          | 0/40 [00:00<?, ?it/s]\u001b[A\n",
      "Epoch 0:  84%|████████▍ | 198/236 [00:29<00:05,  6.70it/s, loss=1.85, v_num=dam|]\n",
      "Epoch 0:  85%|████████▌ | 201/236 [00:29<00:05,  6.76it/s, loss=1.85, v_num=dam|]\n",
      "Validating:  12%|█▎        | 5/40 [00:00<00:03, 11.50it/s]\u001b[A\n",
      "Epoch 0:  86%|████████▋ | 204/236 [00:30<00:04,  6.83it/s, loss=1.85, v_num=dam|]\n",
      "Epoch 0:  88%|████████▊ | 207/236 [00:30<00:04,  6.90it/s, loss=1.85, v_num=dam|]\n",
      "Validating:  28%|██▊       | 11/40 [00:00<00:01, 16.89it/s]\u001b[A\n",
      "Epoch 0:  89%|████████▉ | 210/236 [00:30<00:03,  6.96it/s, loss=1.85, v_num=dam|]\n",
      "Epoch 0:  90%|█████████ | 213/236 [00:30<00:03,  7.02it/s, loss=1.85, v_num=dam|]\n",
      "Validating:  42%|████▎     | 17/40 [00:01<00:01, 18.70it/s]\u001b[A\n",
      "Epoch 0:  92%|█████████▏| 216/236 [00:30<00:02,  7.09it/s, loss=1.85, v_num=dam|]\n",
      "Epoch 0:  93%|█████████▎| 219/236 [00:30<00:02,  7.15it/s, loss=1.85, v_num=dam|]\n",
      "Validating:  57%|█████▊    | 23/40 [00:01<00:00, 19.26it/s]\u001b[A\n",
      "Epoch 0:  94%|█████████▍| 222/236 [00:30<00:01,  7.21it/s, loss=1.85, v_num=dam|]\n",
      "Epoch 0:  95%|█████████▌| 225/236 [00:31<00:01,  7.27it/s, loss=1.85, v_num=dam|]\n",
      "Validating:  72%|███████▎  | 29/40 [00:01<00:00, 19.42it/s]\u001b[A\n",
      "Epoch 0:  97%|█████████▋| 228/236 [00:31<00:01,  7.33it/s, loss=1.85, v_num=dam|]\n",
      "Epoch 0:  98%|█████████▊| 231/236 [00:31<00:00,  7.39it/s, loss=1.85, v_num=dam|]\n",
      "Validating:  88%|████████▊ | 35/40 [00:02<00:00, 19.53it/s]\u001b[A\n",
      "Epoch 0:  99%|█████████▉| 234/236 [00:31<00:00,  7.45it/s, loss=1.85, v_num=dam|]\n",
      "Epoch 0: 100%|██████████| 236/236 [00:31<00:00,  7.47it/s, loss=1.85, v_num=dam|]\n",
      "Epoch 1:  56%|█████▋    | 133/236 [00:20<00:15,  6.64it/s, loss=1.65, v_num=dam|] "
     ]
    },
    {
     "name": "stderr",
     "output_type": "stream",
     "text": [
      "/home/yanfeng/miniconda3/envs/bilateral/lib/python3.9/site-packages/pytorch_lightning/trainer/trainer.py:1047: UserWarning: Detected KeyboardInterrupt, attempting graceful shutdown...\n",
      "  rank_zero_warn(\"Detected KeyboardInterrupt, attempting graceful shutdown...\")\n"
     ]
    }
   ],
   "source": [
    "if __name__ == '__main__':\n",
    "  default_config_path = './configs/config.yaml'\n",
    "  main(default_config_path)\n"
   ]
  },
  {
   "cell_type": "code",
   "execution_count": null,
   "id": "21f1632f",
   "metadata": {},
   "outputs": [],
   "source": []
  }
 ],
 "metadata": {
  "kernelspec": {
   "display_name": "Python 3",
   "language": "python",
   "name": "python3"
  },
  "language_info": {
   "codemirror_mode": {
    "name": "ipython",
    "version": 3
   },
   "file_extension": ".py",
   "mimetype": "text/x-python",
   "name": "python",
   "nbconvert_exporter": "python",
   "pygments_lexer": "ipython3",
   "version": "3.9.16"
  }
 },
 "nbformat": 4,
 "nbformat_minor": 5
}
